{
 "cells": [
  {
   "cell_type": "code",
   "execution_count": 1,
   "id": "a07dd398-baac-4de4-8c15-bf6b57635bc0",
   "metadata": {},
   "outputs": [],
   "source": [
    "import numpy as np\n",
    "import pandas as pd\n",
    "\n",
    "import matplotlib.pyplot as plt\n",
    "import seaborn as sns\n",
    "sns.set(context='talk', style='ticks',\n",
    "        color_codes=True, rc={'legend.frameon': False})\n",
    "\n",
    "%matplotlib inline"
   ]
  },
  {
   "cell_type": "code",
   "execution_count": 4,
   "id": "057d25d5-f7a4-4f83-8b7d-d86ed822413b",
   "metadata": {},
   "outputs": [],
   "source": [
    "energies = pd.read_csv('../20220512_icsd_and_battery/predicted_energies.csv.gz', index_col=0)\n",
    "volumes = pd.read_csv('../20220512_icsd_and_battery_vol/predicted_volumes.csv.gz', index_col=0)"
   ]
  },
  {
   "cell_type": "code",
   "execution_count": 38,
   "id": "dce4d389-fa5b-418d-a456-1477c2b6c8c4",
   "metadata": {},
   "outputs": [
    {
     "data": {
      "text/html": [
       "<div>\n",
       "<style scoped>\n",
       "    .dataframe tbody tr th:only-of-type {\n",
       "        vertical-align: middle;\n",
       "    }\n",
       "\n",
       "    .dataframe tbody tr th {\n",
       "        vertical-align: top;\n",
       "    }\n",
       "\n",
       "    .dataframe thead th {\n",
       "        text-align: right;\n",
       "    }\n",
       "</style>\n",
       "<table border=\"1\" class=\"dataframe\">\n",
       "  <thead>\n",
       "    <tr style=\"text-align: right;\">\n",
       "      <th>type</th>\n",
       "      <th>icsd</th>\n",
       "      <th>relax</th>\n",
       "      <th>vol</th>\n",
       "    </tr>\n",
       "    <tr>\n",
       "      <th>set</th>\n",
       "      <th></th>\n",
       "      <th></th>\n",
       "      <th></th>\n",
       "    </tr>\n",
       "  </thead>\n",
       "  <tbody>\n",
       "    <tr>\n",
       "      <th>test</th>\n",
       "      <td>0.037</td>\n",
       "      <td>0.027</td>\n",
       "      <td>0.049</td>\n",
       "    </tr>\n",
       "    <tr>\n",
       "      <th>test_composition</th>\n",
       "      <td>0.060</td>\n",
       "      <td>0.050</td>\n",
       "      <td>0.070</td>\n",
       "    </tr>\n",
       "    <tr>\n",
       "      <th>valid</th>\n",
       "      <td>0.035</td>\n",
       "      <td>0.027</td>\n",
       "      <td>0.050</td>\n",
       "    </tr>\n",
       "  </tbody>\n",
       "</table>\n",
       "</div>"
      ],
      "text/plain": [
       "type               icsd  relax    vol\n",
       "set                                  \n",
       "test              0.037  0.027  0.049\n",
       "test_composition  0.060  0.050  0.070\n",
       "valid             0.035  0.027  0.050"
      ]
     },
     "execution_count": 38,
     "metadata": {},
     "output_type": "execute_result"
    }
   ],
   "source": [
    "energies['energy_err'] = (energies['energyperatom'] - energies['energy_predicted']).abs()\n",
    "energies.groupby(['set', 'type']).energy_err.mean().unstack().round(3)"
   ]
  },
  {
   "cell_type": "code",
   "execution_count": 39,
   "id": "e044ca0b-f1b8-428d-be1b-37a4df7445a1",
   "metadata": {},
   "outputs": [
    {
     "data": {
      "text/html": [
       "<div>\n",
       "<style scoped>\n",
       "    .dataframe tbody tr th:only-of-type {\n",
       "        vertical-align: middle;\n",
       "    }\n",
       "\n",
       "    .dataframe tbody tr th {\n",
       "        vertical-align: top;\n",
       "    }\n",
       "\n",
       "    .dataframe thead th {\n",
       "        text-align: right;\n",
       "    }\n",
       "</style>\n",
       "<table border=\"1\" class=\"dataframe\">\n",
       "  <thead>\n",
       "    <tr style=\"text-align: right;\">\n",
       "      <th>type</th>\n",
       "      <th>icsd</th>\n",
       "      <th>relax</th>\n",
       "      <th>vol</th>\n",
       "    </tr>\n",
       "    <tr>\n",
       "      <th>set</th>\n",
       "      <th></th>\n",
       "      <th></th>\n",
       "      <th></th>\n",
       "    </tr>\n",
       "  </thead>\n",
       "  <tbody>\n",
       "    <tr>\n",
       "      <th>test</th>\n",
       "      <td>8128</td>\n",
       "      <td>33311</td>\n",
       "      <td>29445</td>\n",
       "    </tr>\n",
       "    <tr>\n",
       "      <th>test_composition</th>\n",
       "      <td>136</td>\n",
       "      <td>870</td>\n",
       "      <td>732</td>\n",
       "    </tr>\n",
       "    <tr>\n",
       "      <th>valid</th>\n",
       "      <td>8127</td>\n",
       "      <td>33311</td>\n",
       "      <td>29446</td>\n",
       "    </tr>\n",
       "  </tbody>\n",
       "</table>\n",
       "</div>"
      ],
      "text/plain": [
       "type              icsd  relax    vol\n",
       "set                                 \n",
       "test              8128  33311  29445\n",
       "test_composition   136    870    732\n",
       "valid             8127  33311  29446"
      ]
     },
     "execution_count": 39,
     "metadata": {},
     "output_type": "execute_result"
    }
   ],
   "source": [
    "energies.groupby(['set', 'type']).energy_err.count().unstack()"
   ]
  },
  {
   "cell_type": "code",
   "execution_count": 16,
   "id": "b9bb0817-98d6-44bb-9227-7094daca4daf",
   "metadata": {},
   "outputs": [
    {
     "data": {
      "text/html": [
       "<div>\n",
       "<style scoped>\n",
       "    .dataframe tbody tr th:only-of-type {\n",
       "        vertical-align: middle;\n",
       "    }\n",
       "\n",
       "    .dataframe tbody tr th {\n",
       "        vertical-align: top;\n",
       "    }\n",
       "\n",
       "    .dataframe thead th {\n",
       "        text-align: right;\n",
       "    }\n",
       "</style>\n",
       "<table border=\"1\" class=\"dataframe\">\n",
       "  <thead>\n",
       "    <tr style=\"text-align: right;\">\n",
       "      <th>type</th>\n",
       "      <th>icsd</th>\n",
       "      <th>relax</th>\n",
       "      <th>vol</th>\n",
       "    </tr>\n",
       "    <tr>\n",
       "      <th>set</th>\n",
       "      <th></th>\n",
       "      <th></th>\n",
       "      <th></th>\n",
       "    </tr>\n",
       "  </thead>\n",
       "  <tbody>\n",
       "    <tr>\n",
       "      <th>test</th>\n",
       "      <td>0.294</td>\n",
       "      <td>0.484</td>\n",
       "      <td>0.305</td>\n",
       "    </tr>\n",
       "    <tr>\n",
       "      <th>test_composition</th>\n",
       "      <td>0.822</td>\n",
       "      <td>0.587</td>\n",
       "      <td>0.435</td>\n",
       "    </tr>\n",
       "    <tr>\n",
       "      <th>valid</th>\n",
       "      <td>0.309</td>\n",
       "      <td>0.477</td>\n",
       "      <td>0.310</td>\n",
       "    </tr>\n",
       "  </tbody>\n",
       "</table>\n",
       "</div>"
      ],
      "text/plain": [
       "type               icsd  relax    vol\n",
       "set                                  \n",
       "test              0.294  0.484  0.305\n",
       "test_composition  0.822  0.587  0.435\n",
       "valid             0.309  0.477  0.310"
      ]
     },
     "execution_count": 16,
     "metadata": {},
     "output_type": "execute_result"
    }
   ],
   "source": [
    "volumes['vol_err'] = (volumes['volperatom'] - volumes['volume_predicted']).abs()\n",
    "volumes.groupby(['set', 'type']).vol_err.mean().unstack().round(3)"
   ]
  },
  {
   "cell_type": "code",
   "execution_count": 40,
   "id": "bee41d3d-8592-4f28-8869-d53c5b4415af",
   "metadata": {},
   "outputs": [
    {
     "data": {
      "text/html": [
       "<div>\n",
       "<style scoped>\n",
       "    .dataframe tbody tr th:only-of-type {\n",
       "        vertical-align: middle;\n",
       "    }\n",
       "\n",
       "    .dataframe tbody tr th {\n",
       "        vertical-align: top;\n",
       "    }\n",
       "\n",
       "    .dataframe thead th {\n",
       "        text-align: right;\n",
       "    }\n",
       "</style>\n",
       "<table border=\"1\" class=\"dataframe\">\n",
       "  <thead>\n",
       "    <tr style=\"text-align: right;\">\n",
       "      <th>type</th>\n",
       "      <th>icsd</th>\n",
       "      <th>relax</th>\n",
       "      <th>vol</th>\n",
       "    </tr>\n",
       "    <tr>\n",
       "      <th>set</th>\n",
       "      <th></th>\n",
       "      <th></th>\n",
       "      <th></th>\n",
       "    </tr>\n",
       "  </thead>\n",
       "  <tbody>\n",
       "    <tr>\n",
       "      <th>test</th>\n",
       "      <td>8128</td>\n",
       "      <td>33249</td>\n",
       "      <td>25713</td>\n",
       "    </tr>\n",
       "    <tr>\n",
       "      <th>test_composition</th>\n",
       "      <td>136</td>\n",
       "      <td>994</td>\n",
       "      <td>840</td>\n",
       "    </tr>\n",
       "    <tr>\n",
       "      <th>valid</th>\n",
       "      <td>8127</td>\n",
       "      <td>33249</td>\n",
       "      <td>25714</td>\n",
       "    </tr>\n",
       "  </tbody>\n",
       "</table>\n",
       "</div>"
      ],
      "text/plain": [
       "type              icsd  relax    vol\n",
       "set                                 \n",
       "test              8128  33249  25713\n",
       "test_composition   136    994    840\n",
       "valid             8127  33249  25714"
      ]
     },
     "execution_count": 40,
     "metadata": {},
     "output_type": "execute_result"
    }
   ],
   "source": [
    "volumes.groupby(['set', 'type']).vol_err.count().unstack()"
   ]
  },
  {
   "cell_type": "code",
   "execution_count": 19,
   "id": "e825957a-8c89-4a4b-a425-4e269fb47c5f",
   "metadata": {},
   "outputs": [],
   "source": [
    "import datashader as ds\n",
    "from datashader.mpl_ext import dsshow, alpha_colormap"
   ]
  },
  {
   "cell_type": "code",
   "execution_count": 31,
   "id": "b0170e48-070b-40fc-87d8-c1f6f894f6c4",
   "metadata": {},
   "outputs": [],
   "source": [
    "volumes.type = volumes.type.astype('category')\n",
    "energies.type = energies.type.astype('category')"
   ]
  },
  {
   "cell_type": "code",
   "execution_count": 32,
   "id": "fd75b97e-ce64-4268-96cd-e5ee5f0838fe",
   "metadata": {},
   "outputs": [
    {
     "data": {
      "image/png": "[encoded data removed]",
      "text/plain": [
       "<Figure size 288x288 with 1 Axes>"
      ]
     },
     "metadata": {
      "needs_background": "light"
     },
     "output_type": "display_data"
    }
   ],
   "source": [
    "fig = plt.figure(figsize=(4,4))\n",
    "ax = fig.add_subplot(111, aspect='equal', adjustable='datalim')\n",
    "\n",
    "artist = dsshow(volumes,\n",
    "       ds.Point('volume_predicted', 'volperatom'),\n",
    "       ds.count_cat('type'),       \n",
    "       cmap='Blues', norm='eq_hist', aspect='equal',\n",
    "       x_range=(0, 70), y_range=(0, 70), ax=ax)\n",
    "\n",
    "ax.set_xlabel('vol/atom, ML')\n",
    "ax.set_ylabel('vol/atom, DFT')\n",
    "ax.legend(handles=artist.get_legend_elements(), fontsize=13, loc='lower right')\n",
    "sns.despine()"
   ]
  },
  {
   "cell_type": "code",
   "execution_count": 35,
   "id": "7fa56647-abc3-4cc4-b49d-78371775a091",
   "metadata": {},
   "outputs": [
    {
     "data": {
      "image/png": "[encoded data removed]",
      "text/plain": [
       "<Figure size 288x288 with 1 Axes>"
      ]
     },
     "metadata": {
      "needs_background": "light"
     },
     "output_type": "display_data"
    }
   ],
   "source": [
    "fig = plt.figure(figsize=(4,4))\n",
    "ax = fig.add_subplot(111, aspect='equal', adjustable='datalim')\n",
    "\n",
    "artist = dsshow(energies,\n",
    "       ds.Point('energy_predicted', 'energyperatom'),\n",
    "       ds.count_cat('type'),       \n",
    "       cmap='Blues', norm='eq_hist', aspect='equal',\n",
    "       x_range=(-10, 5), y_range=(-10, 5), ax=ax)\n",
    "\n",
    "ax.set_xlabel('eV/atom, linear model')\n",
    "ax.set_ylabel('eV/atom, DFT')\n",
    "ax.legend(handles=artist.get_legend_elements(), fontsize=13, loc='lower right')\n",
    "sns.despine()"
   ]
  }
 ],
 "metadata": {
  "kernelspec": {
   "display_name": "Python 3 (ipykernel)",
   "language": "python",
   "name": "python3"
  },
  "language_info": {
   "codemirror_mode": {
    "name": "ipython",
    "version": 3
   },
   "file_extension": ".py",
   "mimetype": "text/x-python",
   "name": "python",
   "nbconvert_exporter": "python",
   "pygments_lexer": "ipython3",
   "version": "3.8.12"
  }
 },
 "nbformat": 4,
 "nbformat_minor": 5
}
