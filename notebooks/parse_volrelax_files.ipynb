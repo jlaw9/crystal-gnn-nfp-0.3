{
 "cells": [
  {
   "cell_type": "code",
   "execution_count": 1,
   "id": "595ecffd-5dc2-4035-a8f9-624612771c89",
   "metadata": {},
   "outputs": [],
   "source": [
    "from pathlib import Path\n",
    "# import nfp\n",
    "import numpy as np\n",
    "import pandas as pd\n",
    "import tarfile\n",
    "from pymatgen.core import Structure\n",
    "import json\n",
    "import gzip\n",
    "from glob import glob\n",
    "from tqdm.notebook import tqdm\n",
    "tqdm.pandas()"
   ]
  },
  {
   "cell_type": "code",
   "execution_count": 2,
   "id": "3bba71c9-8403-4547-b543-2903babfad7a",
   "metadata": {},
   "outputs": [],
   "source": [
    "import matplotlib.pyplot as plt\n",
    "import seaborn as sns\n",
    "sns.set(context='talk', style='ticks',\n",
    "        color_codes=True, rc={'legend.frameon': False})\n",
    "\n",
    "%matplotlib inline"
   ]
  },
  {
   "cell_type": "code",
   "execution_count": 3,
   "id": "6ea0e2d8-a770-4bbd-a7f1-bdbbdcd80dd5",
   "metadata": {},
   "outputs": [],
   "source": [
    "def extract_strc_from_tar(tar, filename):\n",
    "    f = tar.extractfile(filename)\n",
    "    contents = f.read().decode()\n",
    "    strc = Structure.from_str(contents, fmt='poscar').as_dict()\n",
    "    return strc"
   ]
  },
  {
   "cell_type": "code",
   "execution_count": 5,
   "id": "136ece20-a108-4ea9-9028-79bc6e7a2d22",
   "metadata": {},
   "outputs": [
    {
     "data": {
      "application/vnd.jupyter.widget-view+json": {
       "model_id": "5054add77b05485bac693d26019df3bb",
       "version_major": 2,
       "version_minor": 0
      },
      "text/plain": [
       "  0%|          | 0/49 [00:00<?, ?it/s]"
      ]
     },
     "metadata": {},
     "output_type": "display_data"
    },
    {
     "name": "stdout",
     "output_type": "stream",
     "text": [
      "/projects/rlmolecule/pgorai/volrelax/relaxed_output/_1_2_3_3.tar.gz\n",
      "/projects/rlmolecule/pgorai/volrelax/relaxed_output/_3_3_4.tar.gz\n",
      "/projects/rlmolecule/pgorai/volrelax/relaxed_output/_1_4_5.tar.gz\n",
      "/projects/rlmolecule/pgorai/volrelax/relaxed_output/_2_2_3.tar.gz\n",
      "/projects/rlmolecule/pgorai/volrelax/relaxed_output/_1_4_4.tar.gz\n",
      "/projects/rlmolecule/pgorai/volrelax/relaxed_output/_1_3_3_3.tar.gz\n",
      "/projects/rlmolecule/pgorai/volrelax/relaxed_output/_1_3_4.tar.gz\n",
      "/projects/rlmolecule/pgorai/volrelax/relaxed_output/_1_1_1_5.tar.gz\n",
      "/projects/rlmolecule/pgorai/volrelax/relaxed_output/_1_1_1.tar.gz\n",
      "/projects/rlmolecule/pgorai/volrelax/relaxed_output/_1_1_1_2_2.tar.gz\n",
      "/projects/rlmolecule/pgorai/volrelax/relaxed_output/_2_3.tar.gz\n",
      "/projects/rlmolecule/pgorai/volrelax/relaxed_output/_1_1_1_2_5.tar.gz\n",
      "/projects/rlmolecule/pgorai/volrelax/relaxed_output/_1_1_4_4.tar.gz\n",
      "/projects/rlmolecule/pgorai/volrelax/relaxed_output/_2_3_3.tar.gz\n",
      "/projects/rlmolecule/pgorai/volrelax/relaxed_output/_1_1_7.tar.gz\n",
      "/projects/rlmolecule/pgorai/volrelax/relaxed_output/_1_3_6.tar.gz\n",
      "/projects/rlmolecule/pgorai/volrelax/relaxed_output/_1_1_1_7.tar.gz\n",
      "/projects/rlmolecule/pgorai/volrelax/relaxed_output/_1_1_1_1_2.tar.gz\n",
      "/projects/rlmolecule/pgorai/volrelax/relaxed_output/_1_2_6.tar.gz\n",
      "/projects/rlmolecule/pgorai/volrelax/relaxed_output/_1_1_2_3_3.tar.gz\n",
      "/projects/rlmolecule/pgorai/volrelax/relaxed_output/_1_1_2_5.tar.gz\n",
      "/projects/rlmolecule/pgorai/volrelax/relaxed_output/_2_2_5.tar.gz\n",
      "/projects/rlmolecule/pgorai/volrelax/relaxed_output/_1_1_1_3_4.tar.gz\n",
      "/projects/rlmolecule/pgorai/volrelax/relaxed_output/_1_1_1_2_3.tar.gz\n",
      "/projects/rlmolecule/pgorai/volrelax/relaxed_output/_1_1_1_2_4.tar.gz\n",
      "/projects/rlmolecule/pgorai/volrelax/relaxed_output/_1_1_2_2_3.tar.gz\n",
      "/projects/rlmolecule/pgorai/volrelax/relaxed_output/_1_1_3_5.tar.gz\n",
      "/projects/rlmolecule/pgorai/volrelax/relaxed_output/_1_3_3.tar.gz\n",
      "/projects/rlmolecule/pgorai/volrelax/relaxed_output/_1_2_2_5.tar.gz\n",
      "/projects/rlmolecule/pgorai/volrelax/relaxed_output/_1_2_2_4.tar.gz\n",
      "/projects/rlmolecule/pgorai/volrelax/relaxed_output/_1_1_2_3.tar.gz\n",
      "/projects/rlmolecule/pgorai/volrelax/relaxed_output/_2_2_3_3.tar.gz\n",
      "/projects/rlmolecule/pgorai/volrelax/relaxed_output/_1_3_5.tar.gz\n",
      "/projects/rlmolecule/pgorai/volrelax/relaxed_output/_1_1_8.tar.gz\n",
      "/projects/rlmolecule/pgorai/volrelax/relaxed_output/_1_2_7.tar.gz\n",
      "/projects/rlmolecule/pgorai/volrelax/relaxed_output/_1_1_3_4.tar.gz\n",
      "/projects/rlmolecule/pgorai/volrelax/relaxed_output/_1_1_2_2_4.tar.gz\n",
      "/projects/rlmolecule/pgorai/volrelax/relaxed_output/_1_1_5.tar.gz\n",
      "/projects/rlmolecule/pgorai/volrelax/relaxed_output/_1_1_6.tar.gz\n",
      "/projects/rlmolecule/pgorai/volrelax/relaxed_output/_1_3.tar.gz\n",
      "/projects/rlmolecule/pgorai/volrelax/relaxed_output/_1_1_3_3.tar.gz\n",
      "/projects/rlmolecule/pgorai/volrelax/relaxed_output/_1_2_2_3.tar.gz\n",
      "/projects/rlmolecule/pgorai/volrelax/relaxed_output/_1_1_1_3_3.tar.gz\n",
      "/projects/rlmolecule/pgorai/volrelax/relaxed_output/_2_3_5.tar.gz\n",
      "/projects/rlmolecule/pgorai/volrelax/relaxed_output/_1_2_5.tar.gz\n",
      "/projects/rlmolecule/pgorai/volrelax/relaxed_output/_1_1_2_4.tar.gz\n",
      "/projects/rlmolecule/pgorai/volrelax/relaxed_output/_1_2_2_2_2.tar.gz\n",
      "/projects/rlmolecule/pgorai/volrelax/relaxed_output/_2_3_4.tar.gz\n",
      "/projects/rlmolecule/pgorai/volrelax/relaxed_output/_1_2_3_4.tar.gz\n"
     ]
    }
   ],
   "source": [
    "# Prashun shared the volume relaxed output files as .tar.gz \n",
    "# try reading them directly without extracting\n",
    "comp_type_archives = list(glob(\"/projects/rlmolecule/pgorai/volrelax/relaxed_output/*.tar.gz\"))\n",
    "# comp_type_archive = \"/projects/rlmolecule/pgorai/volrelax/relaxed_output/_3_3_4.tar.gz\"\n",
    "unrel_poscar = {}\n",
    "rel_contcar = {}\n",
    "failed = set()\n",
    "flagged = set()\n",
    "flagged_out_dir = \"/projects/rlmolecule/jlaw/inputs/structures/volrelax/distance_warnings\"\n",
    "flagged_out = open(f\"{flagged_out_dir}/distance_warnings.txt\", 'w')\n",
    "\n",
    "for comp_type_archive in tqdm(comp_type_archives):\n",
    "    print(comp_type_archive)\n",
    "    with tarfile.open(comp_type_archive, \"r:gz\") as tar:\n",
    "        for tarinfo in tar:\n",
    "            # print(f\"{tarinfo.name} is {tarinfo.size} bytes in size and is: \")\n",
    "            if len(tarinfo.name.split('/')) > 2:\n",
    "                strc_id = tarinfo.name.split('/')[2]\n",
    "            if tarinfo.name.endswith(\"POSCAR\"):\n",
    "                continue\n",
    "                # try:\n",
    "                #     strc = extract_strc_from_tar(tar, tarinfo.name)\n",
    "                #     unrel_poscar[strc_id] = strc\n",
    "                # except ValueError:\n",
    "                #     failed.add(strc_id)\n",
    "            elif tarinfo.name.endswith(\"CONTCAR\"):\n",
    "                continue\n",
    "                # try:\n",
    "                #     strc = extract_strc_from_tar(tar, tarinfo.name)\n",
    "                #     rel_contcar[strc_id] = strc\n",
    "                # except ValueError:\n",
    "                #     failed.add(strc_id)\n",
    "            elif tarinfo.name.endswith(\"stdout\"):\n",
    "                f = tar.extractfile(tarinfo.name)\n",
    "                content = f.read().decode()\n",
    "                if 'distance between some ions is very small' in content:\n",
    "                    flagged.add(strc_id)\n",
    "                    flagged_out.write(strc_id + \"\\n\")\n",
    "                    flagged_out.write(content + \"\\n\\n\")\n",
    "flagged_out.close()"
   ]
  },
  {
   "cell_type": "code",
   "execution_count": 77,
   "id": "ef99b1ab-0f6e-4da3-91b9-16ccb1a6b3b3",
   "metadata": {},
   "outputs": [
    {
     "name": "stdout",
     "output_type": "stream",
     "text": [
      "8014 flagged, 30522 unrel_poscar, 30324 rel_contcar\n"
     ]
    }
   ],
   "source": [
    "print(f\"{len(flagged)} flagged, {len(unrel_poscar)} unrel_poscar, {len(rel_contcar)} rel_contcar\")"
   ]
  },
  {
   "cell_type": "code",
   "execution_count": 70,
   "id": "19d0f48d-3733-4853-96ac-3fabd955eea9",
   "metadata": {},
   "outputs": [],
   "source": [
    "def write_structures_file(structures_file, structures_dict, round_float=None):\n",
    "    \"\"\" Write pymatgen structures to a gzipped json file\n",
    "    *round_float*: round floats in json file to the specified number\n",
    "    \"\"\"\n",
    "\n",
    "    def round_floats(o):\n",
    "        if isinstance(o, float): return round(o, round_float)\n",
    "        if isinstance(o, dict): return {k: round_floats(v) for k, v in o.items()}\n",
    "        if isinstance(o, (list, tuple)): return [round_floats(x) for x in o]\n",
    "        return o\n",
    "\n",
    "    if round_float is not None:\n",
    "        structures_dict = round_floats(structures_dict)\n",
    "\n",
    "    print(f\"writing {structures_file}\")\n",
    "    with gzip.open(structures_file, 'w') as out:\n",
    "        out.write(json.dumps(structures_dict).encode())"
   ]
  },
  {
   "cell_type": "code",
   "execution_count": 79,
   "id": "a62d1869-076c-45b4-a31d-edf8cab919e7",
   "metadata": {},
   "outputs": [
    {
     "name": "stdout",
     "output_type": "stream",
     "text": [
      "writing /projects/rlmolecule/jlaw/inputs/volrelax/battery_unrelaxed_vol_structures.json.gz\n",
      "writing /projects/rlmolecule/jlaw/inputs/volrelax/battery_relaxed_vol_structures.json.gz\n"
     ]
    }
   ],
   "source": [
    "out_dir = \"/projects/rlmolecule/jlaw/inputs/structures/volrelax\"\n",
    "# the poscar file was not properly formatted for pymatgen\n",
    "# unrel_file = f\"{out_dir}/battery_unrelaxed_vol_structures.json.gz\"\n",
    "rel_file = f\"{out_dir}/battery_relaxed_vol_structures.json.gz\"\n",
    "# write_structures_file(unrel_file, unrel_poscar, round_float=5)\n",
    "write_structures_file(rel_file, rel_contcar, round_float=5)"
   ]
  },
  {
   "cell_type": "code",
   "execution_count": 161,
   "id": "ee3ad3fa-4d2f-4617-a27a-655addc39d53",
   "metadata": {},
   "outputs": [],
   "source": [
    "out_dir = \"/projects/rlmolecule/jlaw/inputs/structures/volrelax\"\n",
    "with open(f\"{out_dir}/distance_warning_strcs.txt\", 'w') as out:\n",
    "    out.write('\\n'.join(flagged))"
   ]
  },
  {
   "cell_type": "code",
   "execution_count": null,
   "id": "e9db3b37-650f-4a35-9ccf-2e7e32c3ef3b",
   "metadata": {},
   "outputs": [],
   "source": []
  }
 ],
 "metadata": {
  "kernelspec": {
   "display_name": "Python 3 (ipykernel)",
   "language": "python",
   "name": "python3"
  },
  "language_info": {
   "codemirror_mode": {
    "name": "ipython",
    "version": 3
   },
   "file_extension": ".py",
   "mimetype": "text/x-python",
   "name": "python",
   "nbconvert_exporter": "python",
   "pygments_lexer": "ipython3",
   "version": "3.8.12"
  }
 },
 "nbformat": 4,
 "nbformat_minor": 5
}
