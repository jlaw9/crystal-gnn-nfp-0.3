{
 "cells": [
  {
   "cell_type": "code",
   "execution_count": 1,
   "id": "f302004f-bcdd-4218-a49e-77e56b87cae8",
   "metadata": {},
   "outputs": [],
   "source": [
    "import os\n",
    "from pathlib import Path\n",
    "# import nfp\n",
    "import numpy as np\n",
    "import pandas as pd\n",
    "import tarfile\n",
    "from pymatgen.core import Structure\n",
    "import json\n",
    "import gzip\n",
    "import re\n",
    "from glob import glob\n",
    "from tqdm.notebook import tqdm\n",
    "tqdm.pandas()"
   ]
  },
  {
   "cell_type": "code",
   "execution_count": 93,
   "id": "e1165d5f-0de1-4bec-b316-2c3269f03e16",
   "metadata": {},
   "outputs": [],
   "source": [
    "import matplotlib.pyplot as plt\n",
    "import seaborn as sns\n",
    "sns.set(context='notebook', \n",
    "        # font_scale=8/8.8,\n",
    "        style='ticks',\n",
    "        color_codes=True, \n",
    "        rc={'legend.frameon': False})\n",
    "\n",
    "plt.rcParams['svg.fonttype'] = 'none'\n",
    "# plt.rc('axes', labelsize=11)\n",
    "# plt.rc('legend', fontsize=11)\n",
    "\n",
    "%matplotlib inline"
   ]
  },
  {
   "cell_type": "code",
   "execution_count": 3,
   "id": "3b62b8f6-0781-4c48-96d6-1cc2283b0bb9",
   "metadata": {},
   "outputs": [
    {
     "data": {
      "text/plain": [
       "'/lustre/eaglefs/projects/rlmolecule/jlaw/projects/crystal-gnn-nfp-0.3-pruning-outliers'"
      ]
     },
     "execution_count": 3,
     "metadata": {},
     "output_type": "execute_result"
    }
   ],
   "source": [
    "os.chdir(\"../\")\n",
    "os.getcwd()"
   ]
  },
  {
   "cell_type": "code",
   "execution_count": 5,
   "id": "aa10c74f-4ba3-4647-ba5e-364b257ef515",
   "metadata": {},
   "outputs": [],
   "source": [
    "df_pred = pd.read_csv(\"/projects/rlmolecule/pstjohn/models/20220607_icsd_and_battery/predicted_energies.csv.gz\",\n",
    "                      index_col=0)\n",
    "# df_pred.head()"
   ]
  },
  {
   "cell_type": "code",
   "execution_count": 6,
   "id": "3d3a9e0a-4f30-4afe-994f-fff0adc29e6d",
   "metadata": {},
   "outputs": [
    {
     "data": {
      "text/html": [
       "<div>\n",
       "<style scoped>\n",
       "    .dataframe tbody tr th:only-of-type {\n",
       "        vertical-align: middle;\n",
       "    }\n",
       "\n",
       "    .dataframe tbody tr th {\n",
       "        vertical-align: top;\n",
       "    }\n",
       "\n",
       "    .dataframe thead th {\n",
       "        text-align: right;\n",
       "    }\n",
       "</style>\n",
       "<table border=\"1\" class=\"dataframe\">\n",
       "  <thead>\n",
       "    <tr style=\"text-align: right;\">\n",
       "      <th>type</th>\n",
       "      <th>icsd</th>\n",
       "      <th>relax</th>\n",
       "      <th>vol</th>\n",
       "    </tr>\n",
       "    <tr>\n",
       "      <th>set</th>\n",
       "      <th></th>\n",
       "      <th></th>\n",
       "      <th></th>\n",
       "    </tr>\n",
       "  </thead>\n",
       "  <tbody>\n",
       "    <tr>\n",
       "      <th>test</th>\n",
       "      <td>0.058</td>\n",
       "      <td>0.035</td>\n",
       "      <td>0.060</td>\n",
       "    </tr>\n",
       "    <tr>\n",
       "      <th>test_composition</th>\n",
       "      <td>0.057</td>\n",
       "      <td>0.040</td>\n",
       "      <td>0.076</td>\n",
       "    </tr>\n",
       "    <tr>\n",
       "      <th>train</th>\n",
       "      <td>0.044</td>\n",
       "      <td>0.030</td>\n",
       "      <td>0.043</td>\n",
       "    </tr>\n",
       "    <tr>\n",
       "      <th>valid</th>\n",
       "      <td>0.059</td>\n",
       "      <td>0.034</td>\n",
       "      <td>0.067</td>\n",
       "    </tr>\n",
       "  </tbody>\n",
       "</table>\n",
       "</div>"
      ],
      "text/plain": [
       "type               icsd  relax    vol\n",
       "set                                  \n",
       "test              0.058  0.035  0.060\n",
       "test_composition  0.057  0.040  0.076\n",
       "train             0.044  0.030  0.043\n",
       "valid             0.059  0.034  0.067"
      ]
     },
     "execution_count": 6,
     "metadata": {},
     "output_type": "execute_result"
    }
   ],
   "source": [
    "df_pred['energy_err'] = (df_pred['energyperatom'] - df_pred['energy_predicted']).abs()\n",
    "df_pred.groupby(['set', 'type']).energy_err.mean().unstack().round(3)"
   ]
  },
  {
   "cell_type": "code",
   "execution_count": 32,
   "id": "dc77c1d6-aadc-4750-a6f2-3e8fea81d83f",
   "metadata": {},
   "outputs": [],
   "source": [
    "df_pred['energy_err_real'] = df_pred['energy_predicted'] - df_pred['energyperatom']"
   ]
  },
  {
   "cell_type": "code",
   "execution_count": 34,
   "id": "066a4973-6032-444e-8057-3973c531d3e2",
   "metadata": {},
   "outputs": [
    {
     "name": "stderr",
     "output_type": "stream",
     "text": [
      "/tmp/ipykernel_28408/145337972.py:2: SettingWithCopyWarning: \n",
      "A value is trying to be set on a copy of a slice from a DataFrame\n",
      "\n",
      "See the caveats in the documentation: https://pandas.pydata.org/pandas-docs/stable/user_guide/indexing.html#returning-a-view-versus-a-copy\n",
      "  test_data.sort_values('type', ascending=False, inplace=True)\n"
     ]
    },
    {
     "data": {
      "text/html": [
       "<div>\n",
       "<style scoped>\n",
       "    .dataframe tbody tr th:only-of-type {\n",
       "        vertical-align: middle;\n",
       "    }\n",
       "\n",
       "    .dataframe tbody tr th {\n",
       "        vertical-align: top;\n",
       "    }\n",
       "\n",
       "    .dataframe thead th {\n",
       "        text-align: right;\n",
       "    }\n",
       "</style>\n",
       "<table border=\"1\" class=\"dataframe\">\n",
       "  <thead>\n",
       "    <tr style=\"text-align: right;\">\n",
       "      <th></th>\n",
       "      <th>id</th>\n",
       "      <th>type</th>\n",
       "      <th>composition</th>\n",
       "      <th>num_sites</th>\n",
       "      <th>hit_upper_bound</th>\n",
       "      <th>energyperatom</th>\n",
       "      <th>volperatom</th>\n",
       "      <th>scaled_input_volperatom</th>\n",
       "      <th>set</th>\n",
       "      <th>energy_predicted</th>\n",
       "      <th>energy_err</th>\n",
       "      <th>energy_err_real</th>\n",
       "    </tr>\n",
       "  </thead>\n",
       "  <tbody>\n",
       "    <tr>\n",
       "      <th>75048</th>\n",
       "      <td>Na1Hf1I2P1_sg2_icsd_171429_1</td>\n",
       "      <td>vol</td>\n",
       "      <td>Na1Hf1I2P1</td>\n",
       "      <td>20</td>\n",
       "      <td>False</td>\n",
       "      <td>-3.322296</td>\n",
       "      <td>32.974042</td>\n",
       "      <td>1.749668</td>\n",
       "      <td>test</td>\n",
       "      <td>-3.238382</td>\n",
       "      <td>0.083914</td>\n",
       "      <td>0.083914</td>\n",
       "    </tr>\n",
       "    <tr>\n",
       "      <th>42861</th>\n",
       "      <td>Na1Cd1I3_sg53_icsd_414116_2</td>\n",
       "      <td>vol</td>\n",
       "      <td>Na1Cd1I3</td>\n",
       "      <td>20</td>\n",
       "      <td>False</td>\n",
       "      <td>-1.108053</td>\n",
       "      <td>67.243879</td>\n",
       "      <td>2.188035</td>\n",
       "      <td>test</td>\n",
       "      <td>-1.104642</td>\n",
       "      <td>0.003411</td>\n",
       "      <td>0.003411</td>\n",
       "    </tr>\n",
       "  </tbody>\n",
       "</table>\n",
       "</div>"
      ],
      "text/plain": [
       "                                 id type composition  num_sites  \\\n",
       "75048  Na1Hf1I2P1_sg2_icsd_171429_1  vol  Na1Hf1I2P1         20   \n",
       "42861   Na1Cd1I3_sg53_icsd_414116_2  vol    Na1Cd1I3         20   \n",
       "\n",
       "       hit_upper_bound  energyperatom  volperatom  scaled_input_volperatom  \\\n",
       "75048            False      -3.322296   32.974042                 1.749668   \n",
       "42861            False      -1.108053   67.243879                 2.188035   \n",
       "\n",
       "        set  energy_predicted  energy_err  energy_err_real  \n",
       "75048  test         -3.238382    0.083914         0.083914  \n",
       "42861  test         -1.104642    0.003411         0.003411  "
      ]
     },
     "execution_count": 34,
     "metadata": {},
     "output_type": "execute_result"
    }
   ],
   "source": [
    "test_data = df_pred[df_pred.set == \"test\"]\n",
    "test_data.sort_values('type', ascending=False, inplace=True)\n",
    "test_data.head(2)"
   ]
  },
  {
   "cell_type": "code",
   "execution_count": null,
   "id": "b9a60a93-3ded-4990-a56a-123e9555269d",
   "metadata": {},
   "outputs": [],
   "source": [
    "out_dir = \"\""
   ]
  },
  {
   "cell_type": "code",
   "execution_count": 24,
   "id": "818bac2f-0da5-446b-a8c0-c587520c5ec7",
   "metadata": {},
   "outputs": [],
   "source": [
    "# use the average from the learning curve\n",
    "maes = {\n",
    "    \"icsd\": 0.053,\n",
    "    \"relax\": 0.032,\n",
    "    \"vol\": 0.056,\n",
    "}"
   ]
  },
  {
   "cell_type": "code",
   "execution_count": 27,
   "id": "6b3cf980-5662-4157-af1f-a5a1230f9026",
   "metadata": {},
   "outputs": [
    {
     "data": {
      "image/png": "[encoded data removed]",
      "text/plain": [
       "<Figure size 288x288 with 1 Axes>"
      ]
     },
     "metadata": {
      "needs_background": "light"
     },
     "output_type": "display_data"
    }
   ],
   "source": [
    "# f, ax = plt.subplots(figsize=(4,4))\n",
    "fig = plt.figure(figsize=(4,4))\n",
    "ax = fig.add_subplot(111, aspect='equal', adjustable='datalim')\n",
    "g = sns.scatterplot(data=test_data, x=\"energyperatom\", y=\"energy_predicted\", \n",
    "                hue=\"type\", hue_order=[\"icsd\", \"relax\", \"vol\"],\n",
    "                alpha=.4, s=20, linewidth=0,\n",
    "               )\n",
    "g.legend_.set_title(None)\n",
    "ax.legend(loc='upper left', bbox_to_anchor=(0, 1.15))\n",
    "# replace labels\n",
    "# new_labels = ['ICSD', 'Battery Relaxed', 'Battery Volume-Relaxed']\n",
    "# for t, l in zip(g.legend_.texts, new_labels):\n",
    "#     t.set_text(l)\n",
    "new_labels = ['ICSD', 'Battery Relaxed', 'Battery Volume-Relaxed']\n",
    "for t, l in zip(ax.legend_.texts, new_labels):\n",
    "    data_type = t.get_text()\n",
    "    # df = test_data[test_data.type == data_type]\n",
    "    # mae = (df.energyperatom - df.energy_predicted).abs().mean()\n",
    "    mae = maes[data_type]\n",
    "    new_label = f\"{l}  (MAE = {mae:0.2})\"\n",
    "    t.set_text(new_label)\n",
    "\n",
    "# plt.xlim(-10, 5)\n",
    "# plt.ylim(-10, 6)\n",
    "plt.xlabel(\"DFT Total Energy (eV/atom)\")\n",
    "plt.ylabel(\"Predited Total Energy (eV/atom)\")\n",
    "\n",
    "# sns.despine(offset=5, trim=True)\n",
    "sns.despine()\n",
    "\n",
    "# plt.title(\"Training data: ICSD, Battery Relaxed\")\n",
    "plt.savefig(f\"icsd-batt-vol-eval.svg\", bbox_inches='tight')\n",
    "# plt.savefig(f\"icsd-batt-eval-vol.png\", bbox_inches='tight', dpi=300)"
   ]
  },
  {
   "cell_type": "code",
   "execution_count": 28,
   "id": "5e45d4e2-49f4-4b46-9775-d9df40799917",
   "metadata": {},
   "outputs": [
    {
     "data": {
      "text/html": [
       "<div>\n",
       "<style scoped>\n",
       "    .dataframe tbody tr th:only-of-type {\n",
       "        vertical-align: middle;\n",
       "    }\n",
       "\n",
       "    .dataframe tbody tr th {\n",
       "        vertical-align: top;\n",
       "    }\n",
       "\n",
       "    .dataframe thead th {\n",
       "        text-align: right;\n",
       "    }\n",
       "</style>\n",
       "<table border=\"1\" class=\"dataframe\">\n",
       "  <thead>\n",
       "    <tr style=\"text-align: right;\">\n",
       "      <th></th>\n",
       "      <th>id</th>\n",
       "      <th>type</th>\n",
       "      <th>composition</th>\n",
       "      <th>num_sites</th>\n",
       "      <th>hit_upper_bound</th>\n",
       "      <th>energyperatom</th>\n",
       "      <th>volperatom</th>\n",
       "      <th>scaled_input_volperatom</th>\n",
       "      <th>set</th>\n",
       "      <th>energy_predicted</th>\n",
       "      <th>energy_err</th>\n",
       "    </tr>\n",
       "  </thead>\n",
       "  <tbody>\n",
       "    <tr>\n",
       "      <th>75048</th>\n",
       "      <td>Na1Hf1I2P1_sg2_icsd_171429_1</td>\n",
       "      <td>vol</td>\n",
       "      <td>Na1Hf1I2P1</td>\n",
       "      <td>20</td>\n",
       "      <td>False</td>\n",
       "      <td>-3.322296</td>\n",
       "      <td>32.974042</td>\n",
       "      <td>1.749668</td>\n",
       "      <td>test</td>\n",
       "      <td>-3.238382</td>\n",
       "      <td>0.083914</td>\n",
       "    </tr>\n",
       "    <tr>\n",
       "      <th>42861</th>\n",
       "      <td>Na1Cd1I3_sg53_icsd_414116_2</td>\n",
       "      <td>vol</td>\n",
       "      <td>Na1Cd1I3</td>\n",
       "      <td>20</td>\n",
       "      <td>False</td>\n",
       "      <td>-1.108053</td>\n",
       "      <td>67.243879</td>\n",
       "      <td>2.188035</td>\n",
       "      <td>test</td>\n",
       "      <td>-1.104642</td>\n",
       "      <td>0.003411</td>\n",
       "    </tr>\n",
       "  </tbody>\n",
       "</table>\n",
       "</div>"
      ],
      "text/plain": [
       "                                 id type composition  num_sites  \\\n",
       "75048  Na1Hf1I2P1_sg2_icsd_171429_1  vol  Na1Hf1I2P1         20   \n",
       "42861   Na1Cd1I3_sg53_icsd_414116_2  vol    Na1Cd1I3         20   \n",
       "\n",
       "       hit_upper_bound  energyperatom  volperatom  scaled_input_volperatom  \\\n",
       "75048            False      -3.322296   32.974042                 1.749668   \n",
       "42861            False      -1.108053   67.243879                 2.188035   \n",
       "\n",
       "        set  energy_predicted  energy_err  \n",
       "75048  test         -3.238382    0.083914  \n",
       "42861  test         -1.104642    0.003411  "
      ]
     },
     "execution_count": 28,
     "metadata": {},
     "output_type": "execute_result"
    }
   ],
   "source": [
    "test_data.head(2)"
   ]
  },
  {
   "cell_type": "code",
   "execution_count": 75,
   "id": "79531696-6348-472c-8102-d47043e29def",
   "metadata": {},
   "outputs": [],
   "source": [
    "test_data2 = test_data[test_data.energy_err < .3]"
   ]
  },
  {
   "cell_type": "code",
   "execution_count": 50,
   "id": "513ae68d-e031-465a-8d3e-907af29182da",
   "metadata": {},
   "outputs": [
    {
     "name": "stderr",
     "output_type": "stream",
     "text": [
      "/home/jlaw/.conda-envs/crystals_nfp0_3/lib/python3.8/site-packages/seaborn/distributions.py:2211: UserWarning: `displot` is a figure-level function and does not accept the ax= paramter. You may wish to try kdeplot.\n",
      "  warnings.warn(msg, UserWarning)\n"
     ]
    },
    {
     "data": {
      "text/plain": [
       "<seaborn.axisgrid.FacetGrid at 0x7f00f45d7d90>"
      ]
     },
     "execution_count": 50,
     "metadata": {},
     "output_type": "execute_result"
    },
    {
     "data": {
      "image/png": "[encoded data removed]",
      "text/plain": [
       "<Figure size 413.555x360 with 1 Axes>"
      ]
     },
     "metadata": {
      "needs_background": "light"
     },
     "output_type": "display_data"
    }
   ],
   "source": [
    "# fig = plt.figure(figsize=(4,4))\n",
    "# ax = fig.add_subplot(111, aspect='equal', adjustable='datalim')\n",
    "sns.displot(data=test_data2, x='energy_err_real', ax=ax,\n",
    "            # stat='percent',\n",
    "            # stat=\"density\", \n",
    "            common_norm=False,\n",
    "            # kind=\"kde\",\n",
    "            hue='type')"
   ]
  },
  {
   "cell_type": "code",
   "execution_count": 95,
   "id": "08138428-04d1-4935-8266-747390c06db5",
   "metadata": {},
   "outputs": [],
   "source": [
    "sns.set_style('whitegrid')"
   ]
  },
  {
   "cell_type": "code",
   "execution_count": 91,
   "id": "98b0bec9-f5c6-4243-9d6d-21a508da75c1",
   "metadata": {},
   "outputs": [],
   "source": [
    "plt.rcParams['text.usetex'] = False"
   ]
  },
  {
   "cell_type": "code",
   "execution_count": 108,
   "id": "40529a37-8763-4720-b194-5d543cb0f951",
   "metadata": {},
   "outputs": [],
   "source": [
    "# use the average from the learning curve\n",
    "maes = {\n",
    "    \"icsd\": 0.053 * 100,\n",
    "    \"relax\": 0.032 * 100,\n",
    "    \"vol\": 0.056 * 100,\n",
    "}\n",
    "labels = [\"ICSD \\nMAE = 53 meV/atom\", \n",
    "          'Battery Relaxed \\nMAE = 32 meV/atom', \n",
    "          'Battery Volume-Relaxed \\nMAE = 56 meV/atom']\n"
   ]
  },
  {
   "cell_type": "code",
   "execution_count": 140,
   "id": "9838165c-e1cf-463c-aecb-23bc9d7a6331",
   "metadata": {},
   "outputs": [
    {
     "name": "stdout",
     "output_type": "stream",
     "text": [
      "AxesSubplot(0.125,0.657941;0.775x0.222059) icsd\n",
      "AxesSubplot(0.125,0.391471;0.775x0.222059) relax\n",
      "AxesSubplot(0.125,0.125;0.775x0.222059) vol\n",
      "/lustre/eaglefs/projects/rlmolecule/jlaw/projects/crystal-gnn-nfp-0.3-pruning-outliers/20220607_icsd_and_battery/icsd-batt-vol-eval.svg\n"
     ]
    },
    {
     "data": {
      "image/png": "[encoded data removed]",
      "text/plain": [
       "<Figure size 288x288 with 3 Axes>"
      ]
     },
     "metadata": {},
     "output_type": "display_data"
    }
   ],
   "source": [
    "f, axes = plt.subplots(nrows=3, sharex=True, figsize=(4,4))\n",
    "bins = np.arange(-.3, .31, .025) * 1000\n",
    "colors = [\"C0\", \"C1\", \"C2\"]\n",
    "# labels = ['ICSD', '\n",
    "for ax, data_type, c in zip(axes, ['icsd', 'relax', 'vol'], colors):\n",
    "    print(ax, data_type)\n",
    "    curr_df = test_data2[test_data2.type == data_type]\n",
    "    (curr_df.energy_err_real * 1000).plot.hist(bins=bins,\n",
    "                                      color=c,\n",
    "                                      ax=ax)\n",
    "    \n",
    "    ax.axvline(-50, linestyle='--', color='black', alpha=0.7)\n",
    "    ax.axvline(50, linestyle='--', color='black', alpha=0.7)\n",
    "    ax.set_ylabel(\"\")\n",
    "    \n",
    "axes[2].set_ylim(axes[1].get_ylim())\n",
    "axes[0].set_yticks([15, 30])\n",
    "for ax in axes[1:]:\n",
    "    ax.set_yticks([100, 200])\n",
    "\n",
    "axes[2].set_xlabel(\"Predicted - DFT meV/atom\")\n",
    "\n",
    "# remove the borders\n",
    "for ax in axes:\n",
    "    ax.spines['top'].set_visible(False)\n",
    "    ax.spines['right'].set_visible(False)\n",
    "    ax.spines['left'].set_visible(False)\n",
    "    \n",
    "# also add text labels\n",
    "background_colors = [\"#c6d5e6\", \"#f8d8cb\", \"#c8e4d2\"]\n",
    "for ax, label, c in zip(axes, labels, background_colors):\n",
    "    ax.text(.9, .6, label,\n",
    "            # backgroundcolor=c,\n",
    "            ha='center',\n",
    "            bbox=dict(facecolor=c, alpha=0.9),\n",
    "        # color='black',\n",
    "       transform=ax.transAxes)\n",
    "\n",
    "out_file = f\"20220607_icsd_and_battery/icsd-batt-vol-eval.svg\"\n",
    "print(os.path.abspath(out_file))\n",
    "plt.savefig(out_file, bbox_inches='tight')\n",
    "plt.savefig(out_file.replace('.svg', '.png'), bbox_inches='tight', dpi=300)"
   ]
  },
  {
   "cell_type": "code",
   "execution_count": 158,
   "id": "18584702-9413-47c3-bc5c-91d5caaf588b",
   "metadata": {},
   "outputs": [],
   "source": [
    "# use the average from the learning curve\n",
    "labels = [f\"ICSD \\n N = {len(df_pred[df_pred.type == 'icsd'])}\", \n",
    "          f\"Battery Relaxed \\n N = {len(df_pred[df_pred.type == 'relax'])}\", \n",
    "          f\"Battery Vol-Relaxed \\n N = {len(df_pred[df_pred.type == 'vol'])}\"]\n"
   ]
  },
  {
   "cell_type": "code",
   "execution_count": 160,
   "id": "67d29dc4-a40e-4a57-ada8-e1891e339bb9",
   "metadata": {},
   "outputs": [
    {
     "name": "stdout",
     "output_type": "stream",
     "text": [
      "AxesSubplot(0.125,0.657941;0.775x0.222059) icsd\n",
      "AxesSubplot(0.125,0.391471;0.775x0.222059) relax\n",
      "AxesSubplot(0.125,0.125;0.775x0.222059) vol\n",
      "/lustre/eaglefs/projects/rlmolecule/jlaw/projects/crystal-gnn-nfp-0.3-pruning-outliers/20220607_icsd_and_battery/icsd-batt-vol-hist.svg\n"
     ]
    },
    {
     "data": {
      "image/png": "[encoded data removed]",
      "text/plain": [
       "<Figure size 288x288 with 3 Axes>"
      ]
     },
     "metadata": {},
     "output_type": "display_data"
    }
   ],
   "source": [
    "f, axes = plt.subplots(nrows=3, sharex=True, figsize=(4,4))\n",
    "bins = np.arange(-8.5, 1.1, .5)\n",
    "colors = [\"C0\", \"C1\", \"C2\"]\n",
    "# labels = ['ICSD', '\n",
    "for ax, data_type, c in zip(axes, ['icsd', 'relax', 'vol'], colors):\n",
    "    print(ax, data_type)\n",
    "    curr_df = df_pred[df_pred.type == data_type]\n",
    "    (curr_df.energyperatom).plot.hist(bins=bins,\n",
    "                                      color=c,\n",
    "                                      ax=ax)\n",
    "    \n",
    "    # ax.axvline(-50, linestyle='--', color='black', alpha=0.7)\n",
    "    # ax.axvline(50, linestyle='--', color='black', alpha=0.7)\n",
    "    ax.set_ylabel(\"\")\n",
    "    \n",
    "# axes[2].set_ylim(axes[1].get_ylim())\n",
    "# axes[0].set_yticks([15, 30])\n",
    "# for ax in axes[1:]:\n",
    "#     ax.set_yticks([100, 200])\n",
    "\n",
    "axes[2].set_xlabel(\"DFT Total Energy (eV/atom)\")\n",
    "\n",
    "# remove the borders\n",
    "for ax in axes:\n",
    "    ax.spines['top'].set_visible(False)\n",
    "    ax.spines['right'].set_visible(False)\n",
    "    ax.spines['left'].set_visible(False)\n",
    "    \n",
    "# also add text labels\n",
    "background_colors = [\"#c6d5e6\", \"#f8d8cb\", \"#c8e4d2\"]\n",
    "for ax, label, c in zip(axes, labels, background_colors):\n",
    "    ax.text(.95, .6, label,\n",
    "            # backgroundcolor=c,\n",
    "            ha='center',\n",
    "            bbox=dict(facecolor=c, alpha=0.9),\n",
    "        # color='black',\n",
    "       transform=ax.transAxes)\n",
    "\n",
    "out_file = f\"20220607_icsd_and_battery/icsd-batt-vol-hist.svg\"\n",
    "print(os.path.abspath(out_file))\n",
    "plt.savefig(out_file, bbox_inches='tight')\n",
    "plt.savefig(out_file.replace('.svg', '.png'), bbox_inches='tight', dpi=300)"
   ]
  },
  {
   "cell_type": "code",
   "execution_count": 148,
   "id": "1ecb0068-2282-470b-af25-02bf9afe5de7",
   "metadata": {},
   "outputs": [
    {
     "data": {
      "text/plain": [
       "<seaborn.axisgrid.FacetGrid at 0x7f04ac381190>"
      ]
     },
     "execution_count": 148,
     "metadata": {},
     "output_type": "execute_result"
    },
    {
     "data": {
      "image/png": "[encoded data removed]",
      "text/plain": [
       "<Figure size 427.225x360 with 1 Axes>"
      ]
     },
     "metadata": {},
     "output_type": "display_data"
    }
   ],
   "source": [
    "# fig = plt.figure(figsize=(4,4))\n",
    "# ax = fig.add_subplot(111, aspect='equal', adjustable='datalim')\n",
    "sns.displot(data=df_pred, x='energyperatom',\n",
    "            # stat='percent',\n",
    "            # stat=\"density\", \n",
    "            common_norm=False,\n",
    "            kind=\"kde\",\n",
    "            hue='type')"
   ]
  },
  {
   "cell_type": "code",
   "execution_count": 137,
   "id": "e52e5abd-2c70-46b7-8c8c-0dd7ec0f3c82",
   "metadata": {},
   "outputs": [
    {
     "name": "stdout",
     "output_type": "stream",
     "text": [
      "/lustre/eaglefs/projects/rlmolecule/jlaw/projects/crystal-gnn-nfp-0.3-pruning-outliers/20220607_icsd_and_battery/icsd-batt-vol-eval.svg\n"
     ]
    }
   ],
   "source": [
    "print(os.path.abspath(out_file))\n"
   ]
  },
  {
   "cell_type": "code",
   "execution_count": null,
   "id": "1b0702f6-6579-4ca2-b099-722175eca6f4",
   "metadata": {},
   "outputs": [],
   "source": []
  }
 ],
 "metadata": {
  "kernelspec": {
   "display_name": "Python 3 (ipykernel)",
   "language": "python",
   "name": "python3"
  },
  "language_info": {
   "codemirror_mode": {
    "name": "ipython",
    "version": 3
   },
   "file_extension": ".py",
   "mimetype": "text/x-python",
   "name": "python",
   "nbconvert_exporter": "python",
   "pygments_lexer": "ipython3",
   "version": "3.8.13"
  }
 },
 "nbformat": 4,
 "nbformat_minor": 5
}
