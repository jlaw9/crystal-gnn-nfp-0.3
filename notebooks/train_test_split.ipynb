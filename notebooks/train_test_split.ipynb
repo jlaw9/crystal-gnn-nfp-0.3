{
 "cells": [
  {
   "cell_type": "code",
   "execution_count": 167,
   "id": "0dcf0f82-94d6-44be-b014-3458e7cb217b",
   "metadata": {},
   "outputs": [],
   "source": [
    "from pathlib import Path\n",
    "import numpy as np\n",
    "import pandas as pd\n",
    "\n",
    "import matplotlib.pyplot as plt\n",
    "import seaborn as sns\n",
    "sns.set(context='talk', style='ticks',\n",
    "        color_codes=True, rc={'legend.frameon': False})\n",
    "\n",
    "%matplotlib inline\n",
    "\n",
    "from tqdm.auto import tqdm\n",
    "tqdm.pandas()\n"
   ]
  },
  {
   "cell_type": "code",
   "execution_count": 191,
   "id": "1f96a14a-0901-4d24-afaf-0cc8884c62c0",
   "metadata": {},
   "outputs": [],
   "source": [
    "inputs_dir = Path(\"/projects/rlmolecule/pstjohn/crystal_inputs/\")\n",
    "volrelax_dir = Path(\"/projects/rlmolecule/pstjohn/volume_relaxation_outputs/\")\n",
    "\n",
    "data = pd.read_pickle(Path(inputs_dir, \"20220510_structures_with_scaled_inputs.p\"))\n",
    "\n",
    "vol_energy_file = Path(volrelax_dir, \"20220504_volume_relaxed_energy.csv.gz\")\n",
    "vol_energy = pd.read_csv(vol_energy_file)"
   ]
  },
  {
   "cell_type": "code",
   "execution_count": 192,
   "id": "3fea1295-f284-4da4-bc6a-b2e362f78db9",
   "metadata": {},
   "outputs": [
    {
     "data": {
      "text/plain": [
       "7613"
      ]
     },
     "execution_count": 192,
     "metadata": {},
     "output_type": "execute_result"
    }
   ],
   "source": [
    "vol_energy['hit_upper_bound'] = vol_energy.volume > (vol_energy.dls_volume * 1.99 - 1)\n",
    "vol_energy['hit_upper_bound'].sum()"
   ]
  },
  {
   "cell_type": "code",
   "execution_count": 193,
   "id": "c9b35fc8-a782-4e83-bc02-a9490074844d",
   "metadata": {},
   "outputs": [
    {
     "data": {
      "text/plain": [
       "array(['icsd', 'vol', 'relax'], dtype=object)"
      ]
     },
     "execution_count": 193,
     "metadata": {},
     "output_type": "execute_result"
    }
   ],
   "source": [
    "data.type.unique()"
   ]
  },
  {
   "cell_type": "code",
   "execution_count": 194,
   "id": "99f88bdb-8143-4234-9bca-5c787bd1d45d",
   "metadata": {},
   "outputs": [],
   "source": [
    "to_drop = data[(data.type == 'vol') & data.id.isin(vol_energy[vol_energy['hit_upper_bound']].id)]\n",
    "data_subset = data.drop(to_drop.index)"
   ]
  },
  {
   "cell_type": "code",
   "execution_count": 197,
   "id": "7a1e97d3-dc1d-488d-b12d-80d8c25410d0",
   "metadata": {},
   "outputs": [],
   "source": [
    "# vol_energy[vol_energy.hit_upper_bound]"
   ]
  },
  {
   "cell_type": "code",
   "execution_count": 200,
   "id": "9b44365d-5fa2-447d-bf63-f9b0c0d0b810",
   "metadata": {},
   "outputs": [],
   "source": [
    "import sys\n",
    "sys.path.append('..')\n",
    "\n",
    "from preprocess import preprocessor"
   ]
  },
  {
   "cell_type": "code",
   "execution_count": 201,
   "id": "9b79f570-5e30-49b5-bdcb-39ff26b9cb98",
   "metadata": {},
   "outputs": [],
   "source": [
    "def preprocess_structure(row):\n",
    "    inputs = preprocessor(row.structure, train=True)\n",
    "\n",
    "    # scale structures to a minimum of 1A interatomic distance\n",
    "    min_distance = inputs[\"distance\"].min()\n",
    "    if np.isclose(min_distance, 0):\n",
    "        warn(f\"Error with {row.id}\")\n",
    "        return None\n",
    "\n",
    "    scale_factor =  1.0 / inputs[\"distance\"].min()\n",
    "    inputs[\"distance\"] *= scale_factor\n",
    "    return pd.Series({\"inputs\": inputs, \"scale_factor\": scale_factor})"
   ]
  },
  {
   "cell_type": "code",
   "execution_count": 202,
   "id": "75a53292-1e25-4af8-b828-d319b4c9577b",
   "metadata": {},
   "outputs": [
    {
     "data": {
      "text/plain": [
       "0.49448857329636925"
      ]
     },
     "execution_count": 202,
     "metadata": {},
     "output_type": "execute_result"
    }
   ],
   "source": [
    "scale_factor = preprocess_structure(data.iloc[10])['scale_factor']\n",
    "scale_factor"
   ]
  },
  {
   "cell_type": "code",
   "execution_count": 203,
   "id": "a892471f-af24-4743-a05e-f8984489c6cc",
   "metadata": {},
   "outputs": [
    {
     "data": {
      "text/plain": [
       "0.99999994"
      ]
     },
     "execution_count": 203,
     "metadata": {},
     "output_type": "execute_result"
    }
   ],
   "source": [
    "struct = data.iloc[10].structure.copy()\n",
    "struct.scale_lattice(data.iloc[10].structure.volume * scale_factor ** 3)\n",
    "preprocessor(struct)['distance'].min()"
   ]
  },
  {
   "cell_type": "code",
   "execution_count": 215,
   "id": "b3a47b8f-309f-48a2-a85d-396644704249",
   "metadata": {},
   "outputs": [
    {
     "name": "stdout",
     "output_type": "stream",
     "text": [
      "117.24017282470386 14.175723411330877\n"
     ]
    }
   ],
   "source": [
    "old_vol = data.iloc[10].structure.volume\n",
    "new_vol = data.iloc[10].structure.volume * scale_factor ** 3\n",
    "\n",
    "print(old_vol, new_vol)"
   ]
  },
  {
   "cell_type": "code",
   "execution_count": 216,
   "id": "0089ecc2-7cf1-42db-bfd7-b533c5b2830e",
   "metadata": {},
   "outputs": [
    {
     "data": {
      "text/plain": [
       "117.24017282470386"
      ]
     },
     "execution_count": 216,
     "metadata": {},
     "output_type": "execute_result"
    }
   ],
   "source": [
    "new_vol * scale_factor ** -3"
   ]
  },
  {
   "cell_type": "code",
   "execution_count": 204,
   "id": "9d9f2ac3-bb8f-4558-97ac-7d924aec8a74",
   "metadata": {},
   "outputs": [],
   "source": [
    "def check_row(row):\n",
    "    out = preprocess_structure(row)\n",
    "    inputs = out['inputs']\n",
    "    radii = np.array([site.specie.atomic_radius for site in row.structure.sites])\n",
    "\n",
    "    r0 = radii[inputs['connectivity'][:, 0]]\n",
    "    r1 = radii[inputs['connectivity'][:, 1]]\n",
    "    d = inputs['distance']\n",
    "\n",
    "    return pd.Series({\n",
    "        'scaling_from_radii': (d / (r0 + r1)).min(),\n",
    "        'scaling_factor': out['scale_factor'],\n",
    "    })"
   ]
  },
  {
   "cell_type": "code",
   "execution_count": 205,
   "id": "ce0d6c18-3489-49ac-983f-b9911ed65f9f",
   "metadata": {},
   "outputs": [],
   "source": [
    "sample = data_subset.sample(1000, random_state=0)"
   ]
  },
  {
   "cell_type": "code",
   "execution_count": 209,
   "id": "7641e675-df93-4b65-8207-caf400b3e545",
   "metadata": {},
   "outputs": [
    {
     "data": {
      "text/plain": [
       "False"
      ]
     },
     "execution_count": 209,
     "metadata": {},
     "output_type": "execute_result"
    }
   ],
   "source": [
    "vol_energy[vol_energy.id.isin(sample[sample.type == 'vol'].id)].hit_upper_bound.any()"
   ]
  },
  {
   "cell_type": "code",
   "execution_count": 210,
   "id": "408de798-09a6-4101-b777-8293524da4ac",
   "metadata": {},
   "outputs": [
    {
     "data": {
      "application/vnd.jupyter.widget-view+json": {
       "model_id": "6d0886844bd94b59a46fad1255d847c2",
       "version_major": 2,
       "version_minor": 0
      },
      "text/plain": [
       "  0%|          | 0/1000 [00:00<?, ?it/s]"
      ]
     },
     "metadata": {},
     "output_type": "display_data"
    }
   ],
   "source": [
    "output = sample.progress_apply(check_row, axis=1)"
   ]
  },
  {
   "cell_type": "code",
   "execution_count": 211,
   "id": "bf1b4200-3dc5-43c8-aeb4-c26fe1c2ccbc",
   "metadata": {},
   "outputs": [
    {
     "data": {
      "text/plain": [
       "(0.2, 1.5)"
      ]
     },
     "execution_count": 211,
     "metadata": {},
     "output_type": "execute_result"
    },
    {
     "data": {
      "image/png": "[encoded data removed]",
      "text/plain": [
       "<Figure size 432x288 with 1 Axes>"
      ]
     },
     "metadata": {
      "needs_background": "light"
     },
     "output_type": "display_data"
    }
   ],
   "source": [
    "for type_ in sample.type.unique():\n",
    "    plt.plot(output[sample.type == type_]['scaling_from_radii'], output[sample.type == type_]['scaling_factor'], '.')\n",
    "    \n",
    "plt.ylim([0.2, 1.5])"
   ]
  },
  {
   "cell_type": "code",
   "execution_count": 212,
   "id": "317f7409-fd10-4f82-8f07-18b98a31790f",
   "metadata": {},
   "outputs": [
    {
     "data": {
      "text/plain": [
       "20129      0.295334\n",
       "3111       0.299721\n",
       "8618       0.309119\n",
       "41663      0.311467\n",
       "43932      0.313727\n",
       "            ...    \n",
       "4227       0.886692\n",
       "11756      0.914170\n",
       "21881      0.918443\n",
       "38230      1.024771\n",
       "1344     459.219874\n",
       "Name: scaling_factor, Length: 1000, dtype: float64"
      ]
     },
     "execution_count": 212,
     "metadata": {},
     "output_type": "execute_result"
    }
   ],
   "source": [
    "output.scaling_factor.sort_values()"
   ]
  },
  {
   "cell_type": "code",
   "execution_count": 177,
   "id": "0273f4a6-8d6d-4198-9974-3150c206b430",
   "metadata": {},
   "outputs": [
    {
     "data": {
      "text/plain": [
       "scaling_from_radii    0.317460\n",
       "scaling_factor        1.365744\n",
       "Name: 43867, dtype: float64"
      ]
     },
     "execution_count": 177,
     "metadata": {},
     "output_type": "execute_result"
    }
   ],
   "source": [
    "output.loc[43867]"
   ]
  },
  {
   "cell_type": "code",
   "execution_count": 179,
   "id": "582a6520-f6d8-4665-b1c2-ec3ef66fafa3",
   "metadata": {},
   "outputs": [
    {
     "data": {
      "text/plain": [
       "id                                      Na1W1F7_sg62_icsd_072776_1\n",
       "type                                                           vol\n",
       "composition                                                Na1W1F7\n",
       "energyperatom                                            10.053316\n",
       "structure        [[6.49416165 3.11710691 1.49530918] Na, [2.715...\n",
       "volume                                                  680.941719\n",
       "num_sites                                                       36\n",
       "inputs           {'site': [11, 11, 11, 11, 9, 9, 9, 9, 9, 9, 9,...\n",
       "Name: 43867, dtype: object"
      ]
     },
     "execution_count": 179,
     "metadata": {},
     "output_type": "execute_result"
    }
   ],
   "source": [
    "sample.loc[43867]"
   ]
  },
  {
   "cell_type": "code",
   "execution_count": 180,
   "id": "40a862fc-d2ed-4873-9df6-e80664984db4",
   "metadata": {},
   "outputs": [
    {
     "data": {
      "text/html": [
       "<div>\n",
       "<style scoped>\n",
       "    .dataframe tbody tr th:only-of-type {\n",
       "        vertical-align: middle;\n",
       "    }\n",
       "\n",
       "    .dataframe tbody tr th {\n",
       "        vertical-align: top;\n",
       "    }\n",
       "\n",
       "    .dataframe thead th {\n",
       "        text-align: right;\n",
       "    }\n",
       "</style>\n",
       "<table border=\"1\" class=\"dataframe\">\n",
       "  <thead>\n",
       "    <tr style=\"text-align: right;\">\n",
       "      <th></th>\n",
       "      <th>id</th>\n",
       "      <th>comptype</th>\n",
       "      <th>num_sites</th>\n",
       "      <th>dls_volume</th>\n",
       "      <th>volume</th>\n",
       "      <th>energyperatom</th>\n",
       "      <th>hit_upper_bound</th>\n",
       "    </tr>\n",
       "  </thead>\n",
       "  <tbody>\n",
       "    <tr>\n",
       "      <th>58667</th>\n",
       "      <td>Na1W1F7_sg62_icsd_072776_1</td>\n",
       "      <td>_1_1_7</td>\n",
       "      <td>36</td>\n",
       "      <td>680.941719</td>\n",
       "      <td>1361.391283</td>\n",
       "      <td>10.053316</td>\n",
       "      <td>True</td>\n",
       "    </tr>\n",
       "  </tbody>\n",
       "</table>\n",
       "</div>"
      ],
      "text/plain": [
       "                               id comptype  num_sites  dls_volume  \\\n",
       "58667  Na1W1F7_sg62_icsd_072776_1   _1_1_7         36  680.941719   \n",
       "\n",
       "            volume  energyperatom  hit_upper_bound  \n",
       "58667  1361.391283      10.053316             True  "
      ]
     },
     "execution_count": 180,
     "metadata": {},
     "output_type": "execute_result"
    }
   ],
   "source": [
    "vol_energy[vol_energy.id == 'Na1W1F7_sg62_icsd_072776_1']"
   ]
  },
  {
   "cell_type": "code",
   "execution_count": null,
   "id": "1b0c148d-b903-4479-b39d-64aed5500d36",
   "metadata": {},
   "outputs": [],
   "source": [
    "dls_volume "
   ]
  },
  {
   "cell_type": "code",
   "execution_count": 118,
   "id": "581b8849-eae0-445a-afb2-a0024e8731b4",
   "metadata": {},
   "outputs": [
    {
     "data": {
      "text/plain": [
       "14.175723411330871"
      ]
     },
     "execution_count": 118,
     "metadata": {},
     "output_type": "execute_result"
    }
   ],
   "source": [
    "struct.volume"
   ]
  },
  {
   "cell_type": "code",
   "execution_count": 95,
   "id": "1b95faab-be32-43ec-a746-27c30981fabf",
   "metadata": {},
   "outputs": [],
   "source": [
    "data.structure.iloc[index].scale_lattice(scale_factor ** 3)"
   ]
  },
  {
   "cell_type": "code",
   "execution_count": 88,
   "id": "8bd9bf23-f498-4506-9476-8440df859734",
   "metadata": {},
   "outputs": [
    {
     "data": {
      "text/plain": [
       "inputs          {'site': [22, 22, 53, 53, 53, 53, 53, 53], 'di...\n",
       "scale_factor                                             3.331643\n",
       "dtype: object"
      ]
     },
     "execution_count": 88,
     "metadata": {},
     "output_type": "execute_result"
    }
   ],
   "source": [
    "preprocess_structure(data.iloc[index])"
   ]
  },
  {
   "cell_type": "code",
   "execution_count": 17,
   "id": "985a60df-4a08-43c2-8b37-d8f581f4880d",
   "metadata": {},
   "outputs": [
    {
     "data": {
      "text/plain": [
       "1.95"
      ]
     },
     "execution_count": 17,
     "metadata": {},
     "output_type": "execute_result"
    }
   ],
   "source": [
    "sp.atomic_radius"
   ]
  },
  {
   "cell_type": "code",
   "execution_count": 5,
   "id": "12727daf-6f40-438c-9e51-5b522e666584",
   "metadata": {},
   "outputs": [
    {
     "data": {
      "text/html": [
       "<div>\n",
       "<style scoped>\n",
       "    .dataframe tbody tr th:only-of-type {\n",
       "        vertical-align: middle;\n",
       "    }\n",
       "\n",
       "    .dataframe tbody tr th {\n",
       "        vertical-align: top;\n",
       "    }\n",
       "\n",
       "    .dataframe thead th {\n",
       "        text-align: right;\n",
       "    }\n",
       "</style>\n",
       "<table border=\"1\" class=\"dataframe\">\n",
       "  <thead>\n",
       "    <tr style=\"text-align: right;\">\n",
       "      <th></th>\n",
       "      <th>id</th>\n",
       "      <th>type</th>\n",
       "      <th>composition</th>\n",
       "      <th>energyperatom</th>\n",
       "      <th>volume</th>\n",
       "      <th>num_sites</th>\n",
       "      <th>inputs</th>\n",
       "    </tr>\n",
       "  </thead>\n",
       "  <tbody>\n",
       "    <tr>\n",
       "      <th>0</th>\n",
       "      <td>icsd_085777</td>\n",
       "      <td>icsd</td>\n",
       "      <td>La1O1P1Zn1</td>\n",
       "      <td>-5.833295</td>\n",
       "      <td>145.053230</td>\n",
       "      <td>8</td>\n",
       "      <td>{'site': [57, 57, 30, 30, 15, 15, 8, 8], 'dist...</td>\n",
       "    </tr>\n",
       "    <tr>\n",
       "      <th>1</th>\n",
       "      <td>icsd_173786</td>\n",
       "      <td>icsd</td>\n",
       "      <td>I3Ti1</td>\n",
       "      <td>-3.397267</td>\n",
       "      <td>287.551744</td>\n",
       "      <td>8</td>\n",
       "      <td>{'site': [22, 22, 53, 53, 53, 53, 53, 53], 'di...</td>\n",
       "    </tr>\n",
       "    <tr>\n",
       "      <th>2</th>\n",
       "      <td>icsd_056827</td>\n",
       "      <td>icsd</td>\n",
       "      <td>Al2O12W3</td>\n",
       "      <td>-8.063763</td>\n",
       "      <td>1024.266060</td>\n",
       "      <td>68</td>\n",
       "      <td>{'site': [13, 13, 13, 13, 13, 13, 13, 13, 74, ...</td>\n",
       "    </tr>\n",
       "    <tr>\n",
       "      <th>3</th>\n",
       "      <td>icsd_078912</td>\n",
       "      <td>icsd</td>\n",
       "      <td>Cl9Sb1Se1</td>\n",
       "      <td>-2.729116</td>\n",
       "      <td>1208.211653</td>\n",
       "      <td>44</td>\n",
       "      <td>{'site': [51, 51, 51, 51, 34, 34, 34, 34, 17, ...</td>\n",
       "    </tr>\n",
       "    <tr>\n",
       "      <th>4</th>\n",
       "      <td>icsd_076029</td>\n",
       "      <td>icsd</td>\n",
       "      <td>P1W1</td>\n",
       "      <td>-7.874002</td>\n",
       "      <td>115.123926</td>\n",
       "      <td>8</td>\n",
       "      <td>{'site': [15, 15, 15, 15, 74, 74, 74, 74], 'di...</td>\n",
       "    </tr>\n",
       "    <tr>\n",
       "      <th>...</th>\n",
       "      <td>...</td>\n",
       "      <td>...</td>\n",
       "      <td>...</td>\n",
       "      <td>...</td>\n",
       "      <td>...</td>\n",
       "      <td>...</td>\n",
       "      <td>...</td>\n",
       "    </tr>\n",
       "    <tr>\n",
       "      <th>67835</th>\n",
       "      <td>Li1Sc1Cl4_sg148_icsd_095431_1</td>\n",
       "      <td>relax</td>\n",
       "      <td>Li1Sc1Cl4</td>\n",
       "      <td>-4.329067</td>\n",
       "      <td>1564.808701</td>\n",
       "      <td>36</td>\n",
       "      <td>{'site': [21, 21, 21, 21, 21, 21, 3, 3, 3, 3, ...</td>\n",
       "    </tr>\n",
       "    <tr>\n",
       "      <th>67836</th>\n",
       "      <td>K3La1F3P1_sg36_icsd_281593_3</td>\n",
       "      <td>relax</td>\n",
       "      <td>K3La1F3P1</td>\n",
       "      <td>-4.478600</td>\n",
       "      <td>1461.317455</td>\n",
       "      <td>32</td>\n",
       "      <td>{'site': [9, 9, 9, 9, 9, 9, 9, 9, 9, 9, 9, 9, ...</td>\n",
       "    </tr>\n",
       "    <tr>\n",
       "      <th>67837</th>\n",
       "      <td>K1Y1Sb1N3_sg62_icsd_380105_4</td>\n",
       "      <td>relax</td>\n",
       "      <td>K1Y1Sb1N3</td>\n",
       "      <td>-5.993678</td>\n",
       "      <td>461.358843</td>\n",
       "      <td>24</td>\n",
       "      <td>{'site': [39, 39, 39, 39, 7, 7, 7, 7, 7, 7, 7,...</td>\n",
       "    </tr>\n",
       "    <tr>\n",
       "      <th>67838</th>\n",
       "      <td>K3Cd1Hg1F1O3_sg29_icsd_010318_12</td>\n",
       "      <td>relax</td>\n",
       "      <td>K3Cd1Hg1F1O3</td>\n",
       "      <td>-3.647115</td>\n",
       "      <td>773.751564</td>\n",
       "      <td>36</td>\n",
       "      <td>{'site': [9, 9, 9, 9, 8, 8, 8, 8, 8, 8, 8, 8, ...</td>\n",
       "    </tr>\n",
       "    <tr>\n",
       "      <th>67839</th>\n",
       "      <td>Zn1P1I7_sg74_icsd_413972_1</td>\n",
       "      <td>relax</td>\n",
       "      <td>Zn1P1I7</td>\n",
       "      <td>-1.944508</td>\n",
       "      <td>1355.026222</td>\n",
       "      <td>36</td>\n",
       "      <td>{'site': [15, 15, 15, 15, 30, 30, 30, 30, 53, ...</td>\n",
       "    </tr>\n",
       "  </tbody>\n",
       "</table>\n",
       "<p>145213 rows × 7 columns</p>\n",
       "</div>"
      ],
      "text/plain": [
       "                                     id   type   composition  energyperatom  \\\n",
       "0                           icsd_085777   icsd    La1O1P1Zn1      -5.833295   \n",
       "1                           icsd_173786   icsd         I3Ti1      -3.397267   \n",
       "2                           icsd_056827   icsd      Al2O12W3      -8.063763   \n",
       "3                           icsd_078912   icsd     Cl9Sb1Se1      -2.729116   \n",
       "4                           icsd_076029   icsd          P1W1      -7.874002   \n",
       "...                                 ...    ...           ...            ...   \n",
       "67835     Li1Sc1Cl4_sg148_icsd_095431_1  relax     Li1Sc1Cl4      -4.329067   \n",
       "67836      K3La1F3P1_sg36_icsd_281593_3  relax     K3La1F3P1      -4.478600   \n",
       "67837      K1Y1Sb1N3_sg62_icsd_380105_4  relax     K1Y1Sb1N3      -5.993678   \n",
       "67838  K3Cd1Hg1F1O3_sg29_icsd_010318_12  relax  K3Cd1Hg1F1O3      -3.647115   \n",
       "67839        Zn1P1I7_sg74_icsd_413972_1  relax       Zn1P1I7      -1.944508   \n",
       "\n",
       "            volume  num_sites  \\\n",
       "0       145.053230          8   \n",
       "1       287.551744          8   \n",
       "2      1024.266060         68   \n",
       "3      1208.211653         44   \n",
       "4       115.123926          8   \n",
       "...            ...        ...   \n",
       "67835  1564.808701         36   \n",
       "67836  1461.317455         32   \n",
       "67837   461.358843         24   \n",
       "67838   773.751564         36   \n",
       "67839  1355.026222         36   \n",
       "\n",
       "                                                  inputs  \n",
       "0      {'site': [57, 57, 30, 30, 15, 15, 8, 8], 'dist...  \n",
       "1      {'site': [22, 22, 53, 53, 53, 53, 53, 53], 'di...  \n",
       "2      {'site': [13, 13, 13, 13, 13, 13, 13, 13, 74, ...  \n",
       "3      {'site': [51, 51, 51, 51, 34, 34, 34, 34, 17, ...  \n",
       "4      {'site': [15, 15, 15, 15, 74, 74, 74, 74], 'di...  \n",
       "...                                                  ...  \n",
       "67835  {'site': [21, 21, 21, 21, 21, 21, 3, 3, 3, 3, ...  \n",
       "67836  {'site': [9, 9, 9, 9, 9, 9, 9, 9, 9, 9, 9, 9, ...  \n",
       "67837  {'site': [39, 39, 39, 39, 7, 7, 7, 7, 7, 7, 7,...  \n",
       "67838  {'site': [9, 9, 9, 9, 8, 8, 8, 8, 8, 8, 8, 8, ...  \n",
       "67839  {'site': [15, 15, 15, 15, 30, 30, 30, 30, 53, ...  \n",
       "\n",
       "[145213 rows x 7 columns]"
      ]
     },
     "execution_count": 5,
     "metadata": {},
     "output_type": "execute_result"
    }
   ],
   "source": [
    "data.dropna().drop(['structure'], axis=1)"
   ]
  },
  {
   "cell_type": "code",
   "execution_count": null,
   "id": "0b8007cd-8fe6-49e3-9cf9-7f7d57892adf",
   "metadata": {},
   "outputs": [],
   "source": []
  }
 ],
 "metadata": {
  "kernelspec": {
   "display_name": "Python 3 (ipykernel)",
   "language": "python",
   "name": "python3"
  },
  "language_info": {
   "codemirror_mode": {
    "name": "ipython",
    "version": 3
   },
   "file_extension": ".py",
   "mimetype": "text/x-python",
   "name": "python",
   "nbconvert_exporter": "python",
   "pygments_lexer": "ipython3",
   "version": "3.8.12"
  }
 },
 "nbformat": 4,
 "nbformat_minor": 5
}
