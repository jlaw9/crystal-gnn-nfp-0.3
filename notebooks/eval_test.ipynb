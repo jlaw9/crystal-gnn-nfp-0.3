{
 "cells": [
  {
   "cell_type": "code",
   "execution_count": 1,
   "id": "f302004f-bcdd-4218-a49e-77e56b87cae8",
   "metadata": {},
   "outputs": [],
   "source": [
    "from pathlib import Path\n",
    "# import nfp\n",
    "import numpy as np\n",
    "import pandas as pd\n",
    "import tarfile\n",
    "from pymatgen.core import Structure\n",
    "import json\n",
    "import gzip\n",
    "import re\n",
    "from glob import glob\n",
    "from tqdm.notebook import tqdm\n",
    "tqdm.pandas()"
   ]
  },
  {
   "cell_type": "code",
   "execution_count": 2,
   "id": "11eba072-7a68-48af-82a1-d0ec063ee980",
   "metadata": {},
   "outputs": [],
   "source": [
    "import matplotlib.pyplot as plt\n",
    "import seaborn as sns\n",
    "sns.set(context='talk', style='ticks',\n",
    "        color_codes=True, rc={'legend.frameon': False})\n",
    "\n",
    "%matplotlib inline"
   ]
  },
  {
   "cell_type": "code",
   "execution_count": null,
   "id": "1fc45573-3eeb-43aa-aa51-745729c1576f",
   "metadata": {},
   "outputs": [],
   "source": []
  },
  {
   "cell_type": "code",
   "execution_count": 16,
   "id": "dbe7ce3b-5c0a-4e21-9c4d-d4e041985cd7",
   "metadata": {},
   "outputs": [
    {
     "data": {
      "text/html": [
       "<div>\n",
       "<style scoped>\n",
       "    .dataframe tbody tr th:only-of-type {\n",
       "        vertical-align: middle;\n",
       "    }\n",
       "\n",
       "    .dataframe tbody tr th {\n",
       "        vertical-align: top;\n",
       "    }\n",
       "\n",
       "    .dataframe thead th {\n",
       "        text-align: right;\n",
       "    }\n",
       "</style>\n",
       "<table border=\"1\" class=\"dataframe\">\n",
       "  <thead>\n",
       "    <tr style=\"text-align: right;\">\n",
       "      <th></th>\n",
       "      <th>comp_type</th>\n",
       "      <th>composition</th>\n",
       "      <th>id</th>\n",
       "      <th>energyperatom</th>\n",
       "      <th>sg</th>\n",
       "      <th>cluster</th>\n",
       "      <th>inputs</th>\n",
       "      <th>data_type</th>\n",
       "    </tr>\n",
       "  </thead>\n",
       "  <tbody>\n",
       "    <tr>\n",
       "      <th>0</th>\n",
       "      <td>125</td>\n",
       "      <td>Mg1Hf2O5</td>\n",
       "      <td>Mg1Hf2O5_sg31_icsd_088642_1</td>\n",
       "      <td>-8.693218</td>\n",
       "      <td>31.0</td>\n",
       "      <td>5375.0</td>\n",
       "      <td>{'site': [9, 9, 9, 9, 8, 8, 8, 8, 8, 8, 8, 8, ...</td>\n",
       "      <td>battery_relaxed</td>\n",
       "    </tr>\n",
       "    <tr>\n",
       "      <th>1</th>\n",
       "      <td>125</td>\n",
       "      <td>Mg1Hf2O5</td>\n",
       "      <td>Mg1Hf2O5_sg12_icsd_069975_1</td>\n",
       "      <td>-8.676021</td>\n",
       "      <td>12.0</td>\n",
       "      <td>45414.0</td>\n",
       "      <td>{'site': [11, 11, 11, 11, 11, 11, 11, 11, 9, 9...</td>\n",
       "      <td>battery_relaxed</td>\n",
       "    </tr>\n",
       "  </tbody>\n",
       "</table>\n",
       "</div>"
      ],
      "text/plain": [
       "  comp_type composition                           id  energyperatom    sg  \\\n",
       "0       125    Mg1Hf2O5  Mg1Hf2O5_sg31_icsd_088642_1      -8.693218  31.0   \n",
       "1       125    Mg1Hf2O5  Mg1Hf2O5_sg12_icsd_069975_1      -8.676021  12.0   \n",
       "\n",
       "   cluster                                             inputs        data_type  \n",
       "0   5375.0  {'site': [9, 9, 9, 9, 8, 8, 8, 8, 8, 8, 8, 8, ...  battery_relaxed  \n",
       "1  45414.0  {'site': [11, 11, 11, 11, 11, 11, 11, 11, 9, 9...  battery_relaxed  "
      ]
     },
     "execution_count": 16,
     "metadata": {},
     "output_type": "execute_result"
    }
   ],
   "source": [
    "base_dir = \"/projects/rlmolecule/jlaw/projects/crystal-gnn-nfp-0.3-fork\"\n",
    "data_file = Path(base_dir, \"outputs/20220314_batt_icsd_and_volunrelax/all_data.p\")\n",
    "data = pd.read_pickle(data_file)\n",
    "data.head(2)"
   ]
  },
  {
   "cell_type": "code",
   "execution_count": null,
   "id": "1457296d-1393-4ec3-be9e-32c7625c28f1",
   "metadata": {},
   "outputs": [],
   "source": [
    "# also load the unrelaxed battery structures to see if we do any bettery on those\n",
    "# TODO leave out the same structures on the relaxed and unrelaxed side"
   ]
  },
  {
   "cell_type": "code",
   "execution_count": null,
   "id": "f892014d-f28b-4fc9-931b-c7ca132a5885",
   "metadata": {},
   "outputs": [],
   "source": [
    "# a better evaluation may be to test the decomposition energy directly\n",
    "# check the precision/recall for decomposition energy < 0 (or < -1)"
   ]
  },
  {
   "cell_type": "code",
   "execution_count": null,
   "id": "5cb212fd-d978-4f0d-9728-8a205d3e59b5",
   "metadata": {},
   "outputs": [],
   "source": []
  }
 ],
 "metadata": {
  "kernelspec": {
   "display_name": "Python 3 (ipykernel)",
   "language": "python",
   "name": "python3"
  },
  "language_info": {
   "codemirror_mode": {
    "name": "ipython",
    "version": 3
   },
   "file_extension": ".py",
   "mimetype": "text/x-python",
   "name": "python",
   "nbconvert_exporter": "python",
   "pygments_lexer": "ipython3",
   "version": "3.8.12"
  }
 },
 "nbformat": 4,
 "nbformat_minor": 5
}
