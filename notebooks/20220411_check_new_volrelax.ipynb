{
 "cells": [
  {
   "cell_type": "code",
   "execution_count": 1,
   "id": "8e9832f5-fa6b-4670-988d-faec302870ec",
   "metadata": {},
   "outputs": [],
   "source": [
    "from pathlib import Path\n",
    "import numpy as np\n",
    "import pandas as pd\n",
    "from pymatgen.core import Structure\n",
    "import json\n",
    "import gzip\n",
    "import re\n",
    "from glob import glob\n",
    "from tqdm.notebook import tqdm\n",
    "tqdm.pandas()"
   ]
  },
  {
   "cell_type": "code",
   "execution_count": 2,
   "id": "4393832d-bd2b-41f1-8b2b-43833172caa9",
   "metadata": {},
   "outputs": [],
   "source": [
    "import matplotlib.pyplot as plt\n",
    "import seaborn as sns\n",
    "sns.set(context='talk', style='ticks',\n",
    "        color_codes=True, rc={'legend.frameon': False})\n",
    "\n",
    "%matplotlib inline"
   ]
  },
  {
   "cell_type": "code",
   "execution_count": 3,
   "id": "e6356d40-2bbc-4fac-a40c-e9129770f7ff",
   "metadata": {},
   "outputs": [],
   "source": [
    "def get_structures(filename, ids=None):\n",
    "    with gzip.open(Path(structure_dir, filename), 'r') as f:\n",
    "        data = json.loads(f.read().decode())\n",
    "        \n",
    "        if ids is None:\n",
    "            ids = data.keys()\n",
    "            \n",
    "        for key in tqdm(ids):\n",
    "            if key in data:\n",
    "                yield {'id': key, 'structure': Structure.from_dict(data[key])}        "
   ]
  },
  {
   "cell_type": "code",
   "execution_count": 4,
   "id": "22851173-df80-4d9d-85f1-6eb3db59f1ae",
   "metadata": {},
   "outputs": [],
   "source": [
    "structure_dir = Path('/projects/rlmolecule/jlaw/inputs/structures/')\n",
    "calc_energy = pd.read_csv(Path(structure_dir, 'battery_relaxed_energies.csv'))"
   ]
  },
  {
   "cell_type": "markdown",
   "id": "9342abfc-0189-4090-ad55-227cfe86332c",
   "metadata": {},
   "source": [
    "## Check the differencew between the original volume DFT run and Prashun's fix\n",
    "- Prashun found that running one more calculation at the end of DFT has a more correct volume and energy"
   ]
  },
  {
   "cell_type": "code",
   "execution_count": 5,
   "id": "c724fe3f-dd3a-4a72-82af-f33b0235cd19",
   "metadata": {},
   "outputs": [
    {
     "data": {
      "text/html": [
       "<div>\n",
       "<style scoped>\n",
       "    .dataframe tbody tr th:only-of-type {\n",
       "        vertical-align: middle;\n",
       "    }\n",
       "\n",
       "    .dataframe tbody tr th {\n",
       "        vertical-align: top;\n",
       "    }\n",
       "\n",
       "    .dataframe thead th {\n",
       "        text-align: right;\n",
       "    }\n",
       "</style>\n",
       "<table border=\"1\" class=\"dataframe\">\n",
       "  <thead>\n",
       "    <tr style=\"text-align: right;\">\n",
       "      <th></th>\n",
       "      <th>comp_type</th>\n",
       "      <th>composition</th>\n",
       "      <th>id</th>\n",
       "      <th>energyperatom</th>\n",
       "    </tr>\n",
       "  </thead>\n",
       "  <tbody>\n",
       "    <tr>\n",
       "      <th>0</th>\n",
       "      <td>_1_1_2_5</td>\n",
       "      <td>K5Hg1I1N2</td>\n",
       "      <td>K5Hg1I1N2_sg194_icsd_033805_2</td>\n",
       "      <td>-0.176</td>\n",
       "    </tr>\n",
       "    <tr>\n",
       "      <th>1</th>\n",
       "      <td>_1_1_2_5</td>\n",
       "      <td>K5Hg1I1N2</td>\n",
       "      <td>K5Hg1I1N2_sg26_icsd_059680_1</td>\n",
       "      <td>-2.092</td>\n",
       "    </tr>\n",
       "  </tbody>\n",
       "</table>\n",
       "</div>"
      ],
      "text/plain": [
       "  comp_type composition                             id  energyperatom\n",
       "0  _1_1_2_5   K5Hg1I1N2  K5Hg1I1N2_sg194_icsd_033805_2         -0.176\n",
       "1  _1_1_2_5   K5Hg1I1N2   K5Hg1I1N2_sg26_icsd_059680_1         -2.092"
      ]
     },
     "execution_count": 5,
     "metadata": {},
     "output_type": "execute_result"
    }
   ],
   "source": [
    "data = pd.read_csv(Path(structure_dir, \"volrelax/battery_volrelaxed_energies.csv\"))\n",
    "data.head(2)"
   ]
  },
  {
   "cell_type": "code",
   "execution_count": 6,
   "id": "6f2c612c-de24-4b23-8b29-5195c3120744",
   "metadata": {},
   "outputs": [
    {
     "data": {
      "text/html": [
       "<div>\n",
       "<style scoped>\n",
       "    .dataframe tbody tr th:only-of-type {\n",
       "        vertical-align: middle;\n",
       "    }\n",
       "\n",
       "    .dataframe tbody tr th {\n",
       "        vertical-align: top;\n",
       "    }\n",
       "\n",
       "    .dataframe thead th {\n",
       "        text-align: right;\n",
       "    }\n",
       "</style>\n",
       "<table border=\"1\" class=\"dataframe\">\n",
       "  <thead>\n",
       "    <tr style=\"text-align: right;\">\n",
       "      <th></th>\n",
       "      <th>comp_type</th>\n",
       "      <th>composition</th>\n",
       "      <th>id</th>\n",
       "      <th>energyperatom</th>\n",
       "      <th>proto_id</th>\n",
       "    </tr>\n",
       "  </thead>\n",
       "  <tbody>\n",
       "    <tr>\n",
       "      <th>0</th>\n",
       "      <td>_1_1_2_5</td>\n",
       "      <td>K5Hg1I1N2</td>\n",
       "      <td>K5Hg1I1N2_sg194_icsd_033805_2</td>\n",
       "      <td>-0.176</td>\n",
       "      <td>icsd_033805</td>\n",
       "    </tr>\n",
       "    <tr>\n",
       "      <th>1</th>\n",
       "      <td>_1_1_2_5</td>\n",
       "      <td>K5Hg1I1N2</td>\n",
       "      <td>K5Hg1I1N2_sg26_icsd_059680_1</td>\n",
       "      <td>-2.092</td>\n",
       "      <td>icsd_059680</td>\n",
       "    </tr>\n",
       "  </tbody>\n",
       "</table>\n",
       "</div>"
      ],
      "text/plain": [
       "  comp_type composition                             id  energyperatom  \\\n",
       "0  _1_1_2_5   K5Hg1I1N2  K5Hg1I1N2_sg194_icsd_033805_2         -0.176   \n",
       "1  _1_1_2_5   K5Hg1I1N2   K5Hg1I1N2_sg26_icsd_059680_1         -2.092   \n",
       "\n",
       "      proto_id  \n",
       "0  icsd_033805  \n",
       "1  icsd_059680  "
      ]
     },
     "execution_count": 6,
     "metadata": {},
     "output_type": "execute_result"
    }
   ],
   "source": [
    "data['proto_id'] = data['id'].apply(lambda x: 'icsd_' + x.split('_')[-2])\n",
    "data.head(2)"
   ]
  },
  {
   "cell_type": "code",
   "execution_count": 26,
   "id": "a2febbc4-3c8d-4f2c-8310-b357f50e7cdb",
   "metadata": {},
   "outputs": [
    {
     "data": {
      "text/plain": [
       "<AxesSubplot:>"
      ]
     },
     "execution_count": 26,
     "metadata": {},
     "output_type": "execute_result"
    },
    {
     "data": {
      "image/png": "[encoded data removed]",
      "text/plain": [
       "<Figure size 432x288 with 1 Axes>"
      ]
     },
     "metadata": {
      "needs_background": "light"
     },
     "output_type": "display_data"
    }
   ],
   "source": [
    "data = data[(data.energyperatom > -10) & (data.energyperatom < 10)]\n",
    "data['energyperatom'].hist()"
   ]
  },
  {
   "cell_type": "code",
   "execution_count": 21,
   "id": "074e7aeb-fb0a-435b-be86-2e00ec98a30a",
   "metadata": {},
   "outputs": [
    {
     "data": {
      "text/html": [
       "<div>\n",
       "<style scoped>\n",
       "    .dataframe tbody tr th:only-of-type {\n",
       "        vertical-align: middle;\n",
       "    }\n",
       "\n",
       "    .dataframe tbody tr th {\n",
       "        vertical-align: top;\n",
       "    }\n",
       "\n",
       "    .dataframe thead th {\n",
       "        text-align: right;\n",
       "    }\n",
       "</style>\n",
       "<table border=\"1\" class=\"dataframe\">\n",
       "  <thead>\n",
       "    <tr style=\"text-align: right;\">\n",
       "      <th></th>\n",
       "      <th>decoration</th>\n",
       "      <th>energyperatom</th>\n",
       "      <th>volume</th>\n",
       "      <th>numatoms</th>\n",
       "    </tr>\n",
       "  </thead>\n",
       "  <tbody>\n",
       "    <tr>\n",
       "      <th>0</th>\n",
       "      <td>Na3P1_sg71_icsd_167554_1</td>\n",
       "      <td>-2.610</td>\n",
       "      <td>172.3</td>\n",
       "      <td>8</td>\n",
       "    </tr>\n",
       "    <tr>\n",
       "      <th>1</th>\n",
       "      <td>Na3P1_sg44_icsd_104488_1</td>\n",
       "      <td>-2.273</td>\n",
       "      <td>192.2</td>\n",
       "      <td>8</td>\n",
       "    </tr>\n",
       "  </tbody>\n",
       "</table>\n",
       "</div>"
      ],
      "text/plain": [
       "                 decoration  energyperatom  volume  numatoms\n",
       "0  Na3P1_sg71_icsd_167554_1         -2.610   172.3         8\n",
       "1  Na3P1_sg44_icsd_104488_1         -2.273   192.2         8"
      ]
     },
     "execution_count": 21,
     "metadata": {},
     "output_type": "execute_result"
    }
   ],
   "source": [
    "new_vol_files = [\"_1_3.csv\",\n",
    "                \"_2_2_3_3.csv\",\n",
    "                \"_2_3_5.csv\",\n",
    "                \"_3_3_4.csv\",\n",
    "                ]\n",
    "new_vol_files = [f\"/scratch/jlaw/crystals/{f}\" for f in new_vol_files]\n",
    "new_data = pd.concat([pd.read_csv(f) for f in new_vol_files])\n",
    "new_data.head(2)"
   ]
  },
  {
   "cell_type": "code",
   "execution_count": 22,
   "id": "d5c1f967-8f1f-4c24-adf9-5a0fad4ddd2c",
   "metadata": {},
   "outputs": [
    {
     "data": {
      "text/html": [
       "<div>\n",
       "<style scoped>\n",
       "    .dataframe tbody tr th:only-of-type {\n",
       "        vertical-align: middle;\n",
       "    }\n",
       "\n",
       "    .dataframe tbody tr th {\n",
       "        vertical-align: top;\n",
       "    }\n",
       "\n",
       "    .dataframe thead th {\n",
       "        text-align: right;\n",
       "    }\n",
       "</style>\n",
       "<table border=\"1\" class=\"dataframe\">\n",
       "  <thead>\n",
       "    <tr style=\"text-align: right;\">\n",
       "      <th></th>\n",
       "      <th>decoration</th>\n",
       "      <th>energyperatom</th>\n",
       "      <th>volume</th>\n",
       "      <th>numatoms</th>\n",
       "    </tr>\n",
       "  </thead>\n",
       "  <tbody>\n",
       "    <tr>\n",
       "      <th>517</th>\n",
       "      <td>Na3N1_sg151_icsd_020717_1</td>\n",
       "      <td>-1487.648</td>\n",
       "      <td>529.1</td>\n",
       "      <td>24</td>\n",
       "    </tr>\n",
       "    <tr>\n",
       "      <th>656</th>\n",
       "      <td>K3N1_sg140_icsd_034270_1</td>\n",
       "      <td>20.060</td>\n",
       "      <td>240.3</td>\n",
       "      <td>16</td>\n",
       "    </tr>\n",
       "    <tr>\n",
       "      <th>671</th>\n",
       "      <td>K3N1_sg72_icsd_027135_1</td>\n",
       "      <td>20.006</td>\n",
       "      <td>180.8</td>\n",
       "      <td>16</td>\n",
       "    </tr>\n",
       "    <tr>\n",
       "      <th>677</th>\n",
       "      <td>K3N1_sg88_icsd_030633_1</td>\n",
       "      <td>20.477</td>\n",
       "      <td>388.6</td>\n",
       "      <td>32</td>\n",
       "    </tr>\n",
       "    <tr>\n",
       "      <th>751</th>\n",
       "      <td>K3N1_sg166_icsd_001144_1</td>\n",
       "      <td>20.035</td>\n",
       "      <td>168.0</td>\n",
       "      <td>12</td>\n",
       "    </tr>\n",
       "    <tr>\n",
       "      <th>833</th>\n",
       "      <td>K3P1_sg72_icsd_027135_1</td>\n",
       "      <td>20.665</td>\n",
       "      <td>185.9</td>\n",
       "      <td>16</td>\n",
       "    </tr>\n",
       "    <tr>\n",
       "      <th>878</th>\n",
       "      <td>K3P1_sg166_icsd_001144_1</td>\n",
       "      <td>20.782</td>\n",
       "      <td>172.5</td>\n",
       "      <td>12</td>\n",
       "    </tr>\n",
       "    <tr>\n",
       "      <th>903</th>\n",
       "      <td>K3P1_sg88_icsd_030633_1</td>\n",
       "      <td>21.626</td>\n",
       "      <td>402.4</td>\n",
       "      <td>32</td>\n",
       "    </tr>\n",
       "    <tr>\n",
       "      <th>919</th>\n",
       "      <td>K3P1_sg140_icsd_034270_1</td>\n",
       "      <td>20.225</td>\n",
       "      <td>243.8</td>\n",
       "      <td>16</td>\n",
       "    </tr>\n",
       "  </tbody>\n",
       "</table>\n",
       "</div>"
      ],
      "text/plain": [
       "                    decoration  energyperatom  volume  numatoms\n",
       "517  Na3N1_sg151_icsd_020717_1      -1487.648   529.1        24\n",
       "656   K3N1_sg140_icsd_034270_1         20.060   240.3        16\n",
       "671    K3N1_sg72_icsd_027135_1         20.006   180.8        16\n",
       "677    K3N1_sg88_icsd_030633_1         20.477   388.6        32\n",
       "751   K3N1_sg166_icsd_001144_1         20.035   168.0        12\n",
       "833    K3P1_sg72_icsd_027135_1         20.665   185.9        16\n",
       "878   K3P1_sg166_icsd_001144_1         20.782   172.5        12\n",
       "903    K3P1_sg88_icsd_030633_1         21.626   402.4        32\n",
       "919   K3P1_sg140_icsd_034270_1         20.225   243.8        16"
      ]
     },
     "execution_count": 22,
     "metadata": {},
     "output_type": "execute_result"
    }
   ],
   "source": [
    "new_data[(new_data.energyperatom < -10) | (new_data.energyperatom > 10)]"
   ]
  },
  {
   "cell_type": "code",
   "execution_count": 23,
   "id": "707029e3-b624-4969-8adb-5c36d250382e",
   "metadata": {},
   "outputs": [
    {
     "data": {
      "text/plain": [
       "<AxesSubplot:>"
      ]
     },
     "execution_count": 23,
     "metadata": {},
     "output_type": "execute_result"
    },
    {
     "data": {
      "image/png": "[encoded data removed]",
      "text/plain": [
       "<Figure size 432x288 with 1 Axes>"
      ]
     },
     "metadata": {
      "needs_background": "light"
     },
     "output_type": "display_data"
    }
   ],
   "source": [
    "new_data = new_data[(new_data.energyperatom > -10) & (new_data.energyperatom < 10)]\n",
    "new_data['energyperatom'].hist()"
   ]
  },
  {
   "cell_type": "code",
   "execution_count": 27,
   "id": "205d8a57-0a7b-4162-bdb4-ac544644d40e",
   "metadata": {},
   "outputs": [
    {
     "data": {
      "text/html": [
       "<div>\n",
       "<style scoped>\n",
       "    .dataframe tbody tr th:only-of-type {\n",
       "        vertical-align: middle;\n",
       "    }\n",
       "\n",
       "    .dataframe tbody tr th {\n",
       "        vertical-align: top;\n",
       "    }\n",
       "\n",
       "    .dataframe thead th {\n",
       "        text-align: right;\n",
       "    }\n",
       "</style>\n",
       "<table border=\"1\" class=\"dataframe\">\n",
       "  <thead>\n",
       "    <tr style=\"text-align: right;\">\n",
       "      <th></th>\n",
       "      <th>comp_type</th>\n",
       "      <th>composition</th>\n",
       "      <th>id</th>\n",
       "      <th>energyperatom_orig</th>\n",
       "      <th>proto_id</th>\n",
       "      <th>decoration</th>\n",
       "      <th>energyperatom_fix</th>\n",
       "      <th>volume</th>\n",
       "      <th>numatoms</th>\n",
       "    </tr>\n",
       "  </thead>\n",
       "  <tbody>\n",
       "    <tr>\n",
       "      <th>0</th>\n",
       "      <td>_1_3</td>\n",
       "      <td>Na3P1</td>\n",
       "      <td>Na3P1_sg71_icsd_167554_1</td>\n",
       "      <td>-2.479</td>\n",
       "      <td>icsd_167554</td>\n",
       "      <td>Na3P1_sg71_icsd_167554_1</td>\n",
       "      <td>-2.610</td>\n",
       "      <td>172.3</td>\n",
       "      <td>8</td>\n",
       "    </tr>\n",
       "    <tr>\n",
       "      <th>1</th>\n",
       "      <td>_1_3</td>\n",
       "      <td>Na3P1</td>\n",
       "      <td>Na3P1_sg44_icsd_104488_1</td>\n",
       "      <td>-2.236</td>\n",
       "      <td>icsd_104488</td>\n",
       "      <td>Na3P1_sg44_icsd_104488_1</td>\n",
       "      <td>-2.273</td>\n",
       "      <td>192.2</td>\n",
       "      <td>8</td>\n",
       "    </tr>\n",
       "    <tr>\n",
       "      <th>2</th>\n",
       "      <td>_1_3</td>\n",
       "      <td>Na3P1</td>\n",
       "      <td>Na3P1_sg194_icsd_024569_1</td>\n",
       "      <td>-2.262</td>\n",
       "      <td>icsd_024569</td>\n",
       "      <td>Na3P1_sg194_icsd_024569_1</td>\n",
       "      <td>-2.305</td>\n",
       "      <td>188.2</td>\n",
       "      <td>8</td>\n",
       "    </tr>\n",
       "    <tr>\n",
       "      <th>3</th>\n",
       "      <td>_1_3</td>\n",
       "      <td>Na3P1</td>\n",
       "      <td>Na3P1_sg12_icsd_029380_1</td>\n",
       "      <td>-1.047</td>\n",
       "      <td>icsd_029380</td>\n",
       "      <td>Na3P1_sg12_icsd_029380_1</td>\n",
       "      <td>-1.622</td>\n",
       "      <td>328.9</td>\n",
       "      <td>8</td>\n",
       "    </tr>\n",
       "    <tr>\n",
       "      <th>4</th>\n",
       "      <td>_1_3</td>\n",
       "      <td>Na3P1</td>\n",
       "      <td>Na3P1_sg216_icsd_629268_1</td>\n",
       "      <td>-2.605</td>\n",
       "      <td>icsd_629268</td>\n",
       "      <td>Na3P1_sg216_icsd_629268_1</td>\n",
       "      <td>-2.621</td>\n",
       "      <td>341.6</td>\n",
       "      <td>16</td>\n",
       "    </tr>\n",
       "    <tr>\n",
       "      <th>...</th>\n",
       "      <td>...</td>\n",
       "      <td>...</td>\n",
       "      <td>...</td>\n",
       "      <td>...</td>\n",
       "      <td>...</td>\n",
       "      <td>...</td>\n",
       "      <td>...</td>\n",
       "      <td>...</td>\n",
       "      <td>...</td>\n",
       "    </tr>\n",
       "    <tr>\n",
       "      <th>919</th>\n",
       "      <td>_1_3</td>\n",
       "      <td>K3P1</td>\n",
       "      <td>K3P1_sg162_icsd_043292_1</td>\n",
       "      <td>-1.860</td>\n",
       "      <td>icsd_043292</td>\n",
       "      <td>K3P1_sg162_icsd_043292_1</td>\n",
       "      <td>-1.869</td>\n",
       "      <td>369.8</td>\n",
       "      <td>8</td>\n",
       "    </tr>\n",
       "    <tr>\n",
       "      <th>920</th>\n",
       "      <td>_1_3</td>\n",
       "      <td>K3P1</td>\n",
       "      <td>K3P1_sg139_icsd_710068_1</td>\n",
       "      <td>-1.622</td>\n",
       "      <td>icsd_710068</td>\n",
       "      <td>K3P1_sg139_icsd_710068_1</td>\n",
       "      <td>-1.690</td>\n",
       "      <td>1237.7</td>\n",
       "      <td>32</td>\n",
       "    </tr>\n",
       "    <tr>\n",
       "      <th>921</th>\n",
       "      <td>_1_3</td>\n",
       "      <td>K3P1</td>\n",
       "      <td>K3P1_sg18_icsd_026765_1</td>\n",
       "      <td>-1.715</td>\n",
       "      <td>icsd_026765</td>\n",
       "      <td>K3P1_sg18_icsd_026765_1</td>\n",
       "      <td>-1.741</td>\n",
       "      <td>668.6</td>\n",
       "      <td>16</td>\n",
       "    </tr>\n",
       "    <tr>\n",
       "      <th>922</th>\n",
       "      <td>_1_3</td>\n",
       "      <td>K3P1</td>\n",
       "      <td>K3P1_sg216_icsd_629268_1</td>\n",
       "      <td>-2.278</td>\n",
       "      <td>icsd_629268</td>\n",
       "      <td>K3P1_sg216_icsd_629268_1</td>\n",
       "      <td>-2.334</td>\n",
       "      <td>510.1</td>\n",
       "      <td>16</td>\n",
       "    </tr>\n",
       "    <tr>\n",
       "      <th>923</th>\n",
       "      <td>_1_3</td>\n",
       "      <td>K3P1</td>\n",
       "      <td>K3P1_sg44_icsd_180565_1</td>\n",
       "      <td>0.368</td>\n",
       "      <td>icsd_180565</td>\n",
       "      <td>K3P1_sg44_icsd_180565_1</td>\n",
       "      <td>-1.276</td>\n",
       "      <td>460.2</td>\n",
       "      <td>8</td>\n",
       "    </tr>\n",
       "  </tbody>\n",
       "</table>\n",
       "<p>924 rows × 9 columns</p>\n",
       "</div>"
      ],
      "text/plain": [
       "    comp_type composition                         id  energyperatom_orig  \\\n",
       "0        _1_3       Na3P1   Na3P1_sg71_icsd_167554_1              -2.479   \n",
       "1        _1_3       Na3P1   Na3P1_sg44_icsd_104488_1              -2.236   \n",
       "2        _1_3       Na3P1  Na3P1_sg194_icsd_024569_1              -2.262   \n",
       "3        _1_3       Na3P1   Na3P1_sg12_icsd_029380_1              -1.047   \n",
       "4        _1_3       Na3P1  Na3P1_sg216_icsd_629268_1              -2.605   \n",
       "..        ...         ...                        ...                 ...   \n",
       "919      _1_3        K3P1   K3P1_sg162_icsd_043292_1              -1.860   \n",
       "920      _1_3        K3P1   K3P1_sg139_icsd_710068_1              -1.622   \n",
       "921      _1_3        K3P1    K3P1_sg18_icsd_026765_1              -1.715   \n",
       "922      _1_3        K3P1   K3P1_sg216_icsd_629268_1              -2.278   \n",
       "923      _1_3        K3P1    K3P1_sg44_icsd_180565_1               0.368   \n",
       "\n",
       "        proto_id                 decoration  energyperatom_fix  volume  \\\n",
       "0    icsd_167554   Na3P1_sg71_icsd_167554_1             -2.610   172.3   \n",
       "1    icsd_104488   Na3P1_sg44_icsd_104488_1             -2.273   192.2   \n",
       "2    icsd_024569  Na3P1_sg194_icsd_024569_1             -2.305   188.2   \n",
       "3    icsd_029380   Na3P1_sg12_icsd_029380_1             -1.622   328.9   \n",
       "4    icsd_629268  Na3P1_sg216_icsd_629268_1             -2.621   341.6   \n",
       "..           ...                        ...                ...     ...   \n",
       "919  icsd_043292   K3P1_sg162_icsd_043292_1             -1.869   369.8   \n",
       "920  icsd_710068   K3P1_sg139_icsd_710068_1             -1.690  1237.7   \n",
       "921  icsd_026765    K3P1_sg18_icsd_026765_1             -1.741   668.6   \n",
       "922  icsd_629268   K3P1_sg216_icsd_629268_1             -2.334   510.1   \n",
       "923  icsd_180565    K3P1_sg44_icsd_180565_1             -1.276   460.2   \n",
       "\n",
       "     numatoms  \n",
       "0           8  \n",
       "1           8  \n",
       "2           8  \n",
       "3           8  \n",
       "4          16  \n",
       "..        ...  \n",
       "919         8  \n",
       "920        32  \n",
       "921        16  \n",
       "922        16  \n",
       "923         8  \n",
       "\n",
       "[924 rows x 9 columns]"
      ]
     },
     "execution_count": 27,
     "metadata": {},
     "output_type": "execute_result"
    }
   ],
   "source": [
    "merged_data = pd.merge(data, new_data, left_on='id', right_on='decoration', suffixes=('_orig', '_fix'))\n",
    "merged_data"
   ]
  },
  {
   "cell_type": "code",
   "execution_count": 13,
   "id": "17e489a2-8e06-4b5e-928b-16149407d353",
   "metadata": {},
   "outputs": [],
   "source": [
    "import datashader as ds\n",
    "from datashader.mpl_ext import dsshow\n",
    "import datashader.transfer_functions as dstf"
   ]
  },
  {
   "cell_type": "code",
   "execution_count": 14,
   "id": "af805fe6-4f95-48cb-887c-27472f2ea449",
   "metadata": {},
   "outputs": [],
   "source": [
    "def dss_scatter(df, x, y, ax, xrange=None, yrange=None, xlabel='', ylabel=''):\n",
    "    # xrange = (0, df[x].max()) if not xrange else xrange\n",
    "    # yrange = (0, df[y].max()) if not yrange else yrange\n",
    "    dsshow(df, ds.Point(x, y),\n",
    "       ax=ax, shade_hook=dstf.dynspread, \n",
    "           cmap='Blues', norm='eq_hist', aspect='auto', \n",
    "           y_range=yrange, x_range=xrange)\n",
    "\n",
    "    if xlabel:\n",
    "        ax.set_xlabel(xlabel)\n",
    "    if ylabel:\n",
    "        ax.set_ylabel(ylabel)\n",
    "        \n",
    "    # also compute the MAE and add it to the plot\n",
    "    # mae = mean_absolute_error(df.dropna()[x], df.dropna()[y])\n",
    "    # ax.text(1, 0.925, f'MAE: {mae:.1f} vol/atom',\n",
    "    #     ha='right', va='bottom', transform=ax.transAxes, fontsize=14)"
   ]
  },
  {
   "cell_type": "code",
   "execution_count": null,
   "id": "058f20bd-fef6-42be-ac46-cb91f115b5e4",
   "metadata": {},
   "outputs": [],
   "source": [
    "sns.set_context('talk')"
   ]
  },
  {
   "cell_type": "code",
   "execution_count": null,
   "id": "a6281377-c070-4fc8-a383-ea4a6c0408f4",
   "metadata": {},
   "outputs": [
    {
     "data": {
      "image/png": "[encoded data removed]",
      "text/plain": [
       "<Figure size 360x360 with 1 Axes>"
      ]
     },
     "metadata": {
      "needs_background": "light"
     },
     "output_type": "display_data"
    }
   ],
   "source": [
    "f, ax = plt.subplots(figsize=(5,5))\n",
    "dss_scatter(merged_data, \n",
    "            'energyperatom_orig', 'energyperatom_fix', ax, \n",
    "            xrange=(-5, 0), yrange=(-5, 0), \n",
    "            xlabel='Original volume-relaxed eV/atom', \n",
    "            ylabel='Fixed volume-relaxed eV/atom')\n"
   ]
  },
  {
   "cell_type": "code",
   "execution_count": 35,
   "id": "928a5184-64bd-4f28-b13d-6d4d251afa1c",
   "metadata": {},
   "outputs": [
    {
     "name": "stderr",
     "output_type": "stream",
     "text": [
      "*c* argument looks like a single numeric RGB or RGBA sequence, which should be avoided as value-mapping will have precedence in case its length matches with *x* & *y*.  Please use the *color* keyword-argument or provide a 2D array with a single row if you intend to specify the same RGB or RGBA value for all points.\n"
     ]
    },
    {
     "data": {
      "text/plain": [
       "Text(0, 0.5, 'Fixed vol-relaxed eV/atom')"
      ]
     },
     "execution_count": 35,
     "metadata": {},
     "output_type": "execute_result"
    },
    {
     "data": {
      "image/png": "[encoded data removed]",
      "text/plain": [
       "<Figure size 432x288 with 1 Axes>"
      ]
     },
     "metadata": {
      "needs_background": "light"
     },
     "output_type": "display_data"
    }
   ],
   "source": [
    "ax = merged_data.plot.scatter(\n",
    "                'energyperatom_orig', 'energyperatom_fix',\n",
    "    s=2,\n",
    ")\n",
    "ax.set_xlabel('Original volume-relaxed eV/atom')\n",
    "ax.set_ylabel('Fixed vol-relaxed eV/atom')"
   ]
  },
  {
   "cell_type": "code",
   "execution_count": null,
   "id": "391cf4d6-12e1-4ce9-be86-a00d63f748d0",
   "metadata": {},
   "outputs": [],
   "source": [
    "# also check the factor of change in volume\n"
   ]
  }
 ],
 "metadata": {
  "kernelspec": {
   "display_name": "Python 3 (ipykernel)",
   "language": "python",
   "name": "python3"
  },
  "language_info": {
   "codemirror_mode": {
    "name": "ipython",
    "version": 3
   },
   "file_extension": ".py",
   "mimetype": "text/x-python",
   "name": "python",
   "nbconvert_exporter": "python",
   "pygments_lexer": "ipython3",
   "version": "3.8.12"
  }
 },
 "nbformat": 4,
 "nbformat_minor": 5
}
