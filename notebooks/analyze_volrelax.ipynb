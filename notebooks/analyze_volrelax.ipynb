{
 "cells": [
  {
   "cell_type": "code",
   "execution_count": 1,
   "id": "595ecffd-5dc2-4035-a8f9-624612771c89",
   "metadata": {},
   "outputs": [],
   "source": [
    "from pathlib import Path\n",
    "# import nfp\n",
    "import numpy as np\n",
    "import pandas as pd\n",
    "import tarfile\n",
    "from pymatgen.core import Structure\n",
    "import json\n",
    "import gzip\n",
    "from glob import glob\n",
    "from tqdm.notebook import tqdm\n",
    "tqdm.pandas()"
   ]
  },
  {
   "cell_type": "code",
   "execution_count": 2,
   "id": "3bba71c9-8403-4547-b543-2903babfad7a",
   "metadata": {},
   "outputs": [],
   "source": [
    "import matplotlib.pyplot as plt\n",
    "import seaborn as sns\n",
    "sns.set(context='talk', style='ticks',\n",
    "        color_codes=True, rc={'legend.frameon': False})\n",
    "\n",
    "%matplotlib inline"
   ]
  },
  {
   "cell_type": "markdown",
   "id": "c37e8cee-7c86-4664-80f0-83fd925d13e1",
   "metadata": {},
   "source": [
    "## Data Exploration"
   ]
  },
  {
   "cell_type": "markdown",
   "id": "385fe6c6-1155-4c8f-a1a7-9d9cc0f2ee1a",
   "metadata": {},
   "source": [
    "### Check prototype structures\n",
    "Double check that the prototype structures don't have atoms in the same positions"
   ]
  },
  {
   "cell_type": "code",
   "execution_count": 3,
   "id": "0f1abd80-fd02-4aa5-ab6b-a60282ce689e",
   "metadata": {},
   "outputs": [],
   "source": [
    "def get_structures(filename, ids=None):\n",
    "    with gzip.open(Path(structure_dir, filename), 'r') as f:\n",
    "        data = json.loads(f.read().decode())\n",
    "        \n",
    "        if ids is None:\n",
    "            ids = data.keys()\n",
    "            \n",
    "        for key in tqdm(ids):\n",
    "            if key in data:\n",
    "                yield {'id': key, 'structure': Structure.from_dict(data[key])}        "
   ]
  },
  {
   "cell_type": "code",
   "execution_count": 4,
   "id": "2f416f16-3f2a-4ff8-960d-14ba6f331863",
   "metadata": {},
   "outputs": [
    {
     "name": "stderr",
     "output_type": "stream",
     "text": [
      "2022-03-11 17:04:37.723932: W tensorflow/stream_executor/platform/default/dso_loader.cc:64] Could not load dynamic library 'libcudart.so.11.0'; dlerror: libcudart.so.11.0: cannot open shared object file: No such file or directory; LD_LIBRARY_PATH: /nopt/slurm/current/lib:\n",
      "2022-03-11 17:04:37.723965: I tensorflow/stream_executor/cuda/cudart_stub.cc:29] Ignore above cudart dlerror if you do not have a GPU set up on your machine.\n"
     ]
    }
   ],
   "source": [
    "from nfp.preprocessing.crystal_preprocessor import PymatgenPreprocessor\n",
    "from pymatgen.core import Structure\n",
    "preprocessor = PymatgenPreprocessor()\n",
    "\n",
    "def preprocess_structure(structure):\n",
    "    scaled_struct = structure.copy()\n",
    "    inputs = preprocessor(scaled_struct, train=True)\n",
    "\n",
    "    # scale structures to a minimum of 1A interatomic distance\n",
    "    min_distance = inputs[\"distance\"].min()\n",
    "    if np.isclose(min_distance, 0):\n",
    "        raise RuntimeError(f\"Error with {structure}\")\n",
    "\n",
    "    inputs[\"distance\"] /= inputs[\"distance\"].min()\n",
    "    return inputs"
   ]
  },
  {
   "cell_type": "code",
   "execution_count": 5,
   "id": "25d641ac-a5db-49dc-9bcb-355a6f9715b2",
   "metadata": {},
   "outputs": [],
   "source": [
    "structure_dir = Path('/projects/rlmolecule/jlaw/inputs/structures/')\n",
    "calc_energy = pd.read_csv(Path(structure_dir, 'battery_relaxed_energies.csv'))"
   ]
  },
  {
   "cell_type": "code",
   "execution_count": 6,
   "id": "cc5e8610-f5fe-4f52-8efc-a030a2d94d94",
   "metadata": {},
   "outputs": [
    {
     "data": {
      "application/vnd.jupyter.widget-view+json": {
       "model_id": "844d9719db22489f9f735044048a228a",
       "version_major": 2,
       "version_minor": 0
      },
      "text/plain": [
       "  0%|          | 0/4170 [00:00<?, ?it/s]"
      ]
     },
     "metadata": {},
     "output_type": "display_data"
    },
    {
     "data": {
      "text/html": [
       "<div>\n",
       "<style scoped>\n",
       "    .dataframe tbody tr th:only-of-type {\n",
       "        vertical-align: middle;\n",
       "    }\n",
       "\n",
       "    .dataframe tbody tr th {\n",
       "        vertical-align: top;\n",
       "    }\n",
       "\n",
       "    .dataframe thead th {\n",
       "        text-align: right;\n",
       "    }\n",
       "</style>\n",
       "<table border=\"1\" class=\"dataframe\">\n",
       "  <thead>\n",
       "    <tr style=\"text-align: right;\">\n",
       "      <th></th>\n",
       "      <th>rlcrystal_id</th>\n",
       "      <th>structure</th>\n",
       "    </tr>\n",
       "  </thead>\n",
       "  <tbody>\n",
       "    <tr>\n",
       "      <th>0</th>\n",
       "      <td>_1_1_1_2_3|orthorhombic|POSCAR_sg62_icsd_174512</td>\n",
       "      <td>[[12.70681846  1.413475    0.1000818 ] H, [4.0...</td>\n",
       "    </tr>\n",
       "    <tr>\n",
       "      <th>1</th>\n",
       "      <td>_1_1_1_2_3|orthorhombic|POSCAR_sg70_icsd_079945</td>\n",
       "      <td>[[ 6.13025    9.783375  17.3280125] K, [ 6.130...</td>\n",
       "    </tr>\n",
       "  </tbody>\n",
       "</table>\n",
       "</div>"
      ],
      "text/plain": [
       "                                      rlcrystal_id  \\\n",
       "0  _1_1_1_2_3|orthorhombic|POSCAR_sg62_icsd_174512   \n",
       "1  _1_1_1_2_3|orthorhombic|POSCAR_sg70_icsd_079945   \n",
       "\n",
       "                                           structure  \n",
       "0  [[12.70681846  1.413475    0.1000818 ] H, [4.0...  \n",
       "1  [[ 6.13025    9.783375  17.3280125] K, [ 6.130...  "
      ]
     },
     "execution_count": 6,
     "metadata": {},
     "output_type": "execute_result"
    }
   ],
   "source": [
    "protos_file = \"/home/jlaw/projects/arpa-e/crystals/rlmolecule/rlmolecule/crystal/inputs/icsd_prototypes.json.gz\"\n",
    "proto_strcs = pd.DataFrame(get_structures(protos_file))\n",
    "proto_strcs.columns = ['rlcrystal_id', 'structure']\n",
    "proto_strcs.head(2)"
   ]
  },
  {
   "cell_type": "code",
   "execution_count": 7,
   "id": "472ab725-fb0a-426a-a7e0-5fb8a6f8c520",
   "metadata": {},
   "outputs": [
    {
     "data": {
      "text/html": [
       "<div>\n",
       "<style scoped>\n",
       "    .dataframe tbody tr th:only-of-type {\n",
       "        vertical-align: middle;\n",
       "    }\n",
       "\n",
       "    .dataframe tbody tr th {\n",
       "        vertical-align: top;\n",
       "    }\n",
       "\n",
       "    .dataframe thead th {\n",
       "        text-align: right;\n",
       "    }\n",
       "</style>\n",
       "<table border=\"1\" class=\"dataframe\">\n",
       "  <thead>\n",
       "    <tr style=\"text-align: right;\">\n",
       "      <th></th>\n",
       "      <th>rlcrystal_id</th>\n",
       "      <th>structure</th>\n",
       "    </tr>\n",
       "    <tr>\n",
       "      <th>id</th>\n",
       "      <th></th>\n",
       "      <th></th>\n",
       "    </tr>\n",
       "  </thead>\n",
       "  <tbody>\n",
       "    <tr>\n",
       "      <th>icsd_174512</th>\n",
       "      <td>_1_1_1_2_3|orthorhombic|POSCAR_sg62_icsd_174512</td>\n",
       "      <td>[[12.70681846  1.413475    0.1000818 ] H, [4.0...</td>\n",
       "    </tr>\n",
       "    <tr>\n",
       "      <th>icsd_079945</th>\n",
       "      <td>_1_1_1_2_3|orthorhombic|POSCAR_sg70_icsd_079945</td>\n",
       "      <td>[[ 6.13025    9.783375  17.3280125] K, [ 6.130...</td>\n",
       "    </tr>\n",
       "  </tbody>\n",
       "</table>\n",
       "</div>"
      ],
      "text/plain": [
       "                                                rlcrystal_id  \\\n",
       "id                                                             \n",
       "icsd_174512  _1_1_1_2_3|orthorhombic|POSCAR_sg62_icsd_174512   \n",
       "icsd_079945  _1_1_1_2_3|orthorhombic|POSCAR_sg70_icsd_079945   \n",
       "\n",
       "                                                     structure  \n",
       "id                                                              \n",
       "icsd_174512  [[12.70681846  1.413475    0.1000818 ] H, [4.0...  \n",
       "icsd_079945  [[ 6.13025    9.783375  17.3280125] K, [ 6.130...  "
      ]
     },
     "execution_count": 7,
     "metadata": {},
     "output_type": "execute_result"
    }
   ],
   "source": [
    "proto_strcs['id'] = proto_strcs['rlcrystal_id'].apply(lambda x: 'icsd_' + x.split('_')[-1])\n",
    "proto_strcs = proto_strcs.set_index('id')\n",
    "proto_strcs.head(2)"
   ]
  },
  {
   "cell_type": "code",
   "execution_count": 8,
   "id": "2bfc6cdf-fd21-46ff-a500-9ea4c282b5f1",
   "metadata": {},
   "outputs": [],
   "source": [
    "def is_valid(structure):\n",
    "    scaled_struct = structure.copy()\n",
    "    inputs = preprocessor(structure, train=True)\n",
    "\n",
    "    # check the minimum interatomic distance\n",
    "    # if it's 0, then one or more atoms occupy the same site\n",
    "    min_distance = inputs[\"distance\"].min()\n",
    "    if np.isclose(min_distance, 0):\n",
    "        return False\n",
    "    return True"
   ]
  },
  {
   "cell_type": "code",
   "execution_count": 112,
   "id": "788ad199-aabb-492c-b538-fe2a56f0d505",
   "metadata": {},
   "outputs": [
    {
     "name": "stderr",
     "output_type": "stream",
     "text": [
      "2022-03-11 10:17:33.669531: W tensorflow/stream_executor/platform/default/dso_loader.cc:64] Could not load dynamic library 'libcudart.so.11.0'; dlerror: libcudart.so.11.0: cannot open shared object file: No such file or directory; LD_LIBRARY_PATH: /nopt/slurm/current/lib:\n",
      "2022-03-11 10:17:33.671545: W tensorflow/stream_executor/platform/default/dso_loader.cc:64] Could not load dynamic library 'libcublas.so.11'; dlerror: libcublas.so.11: cannot open shared object file: No such file or directory; LD_LIBRARY_PATH: /nopt/slurm/current/lib:\n",
      "2022-03-11 10:17:33.672708: W tensorflow/stream_executor/platform/default/dso_loader.cc:64] Could not load dynamic library 'libcublasLt.so.11'; dlerror: libcublasLt.so.11: cannot open shared object file: No such file or directory; LD_LIBRARY_PATH: /nopt/slurm/current/lib:\n",
      "2022-03-11 10:17:33.674057: W tensorflow/stream_executor/platform/default/dso_loader.cc:64] Could not load dynamic library 'libcufft.so.10'; dlerror: libcufft.so.10: cannot open shared object file: No such file or directory; LD_LIBRARY_PATH: /nopt/slurm/current/lib:\n",
      "2022-03-11 10:17:33.679461: W tensorflow/stream_executor/platform/default/dso_loader.cc:64] Could not load dynamic library 'libcurand.so.10'; dlerror: libcurand.so.10: cannot open shared object file: No such file or directory; LD_LIBRARY_PATH: /nopt/slurm/current/lib:\n",
      "2022-03-11 10:17:33.680553: W tensorflow/stream_executor/platform/default/dso_loader.cc:64] Could not load dynamic library 'libcusolver.so.11'; dlerror: libcusolver.so.11: cannot open shared object file: No such file or directory; LD_LIBRARY_PATH: /nopt/slurm/current/lib:\n",
      "2022-03-11 10:17:33.681374: W tensorflow/stream_executor/platform/default/dso_loader.cc:64] Could not load dynamic library 'libcusparse.so.11'; dlerror: libcusparse.so.11: cannot open shared object file: No such file or directory; LD_LIBRARY_PATH: /nopt/slurm/current/lib:\n",
      "2022-03-11 10:17:33.682805: W tensorflow/stream_executor/platform/default/dso_loader.cc:64] Could not load dynamic library 'libcudnn.so.8'; dlerror: libcudnn.so.8: cannot open shared object file: No such file or directory; LD_LIBRARY_PATH: /nopt/slurm/current/lib:\n",
      "2022-03-11 10:17:33.778704: W tensorflow/core/common_runtime/gpu/gpu_device.cc:1850] Cannot dlopen some GPU libraries. Please make sure the missing libraries mentioned above are installed properly if you would like to use GPU. Follow the guide at https://www.tensorflow.org/install/gpu for how to download and setup the required libraries for your platform.\n",
      "Skipping registering GPU devices...\n",
      "2022-03-11 10:17:34.422579: I tensorflow/core/platform/cpu_feature_guard.cc:151] This TensorFlow binary is optimized with oneAPI Deep Neural Network Library (oneDNN) to use the following CPU instructions in performance-critical operations:  AVX2 AVX512F FMA\n",
      "To enable them in other operations, rebuild TensorFlow with the appropriate compiler flags.\n"
     ]
    }
   ],
   "source": [
    "proto_strcs['valid_proto'] = proto_strcs['structure'].progress_apply(is_valid)"
   ]
  },
  {
   "cell_type": "code",
   "execution_count": 132,
   "id": "9eb83cf6-dbdc-461c-b5dd-755c11704396",
   "metadata": {},
   "outputs": [
    {
     "name": "stdout",
     "output_type": "stream",
     "text": [
      "4144 / 4170 valid prototype structures\n"
     ]
    }
   ],
   "source": [
    "print(f\"{len(proto_strcs[proto_strcs['valid_proto'] == True])} / {len(proto_strcs)} valid prototype structures\")"
   ]
  },
  {
   "cell_type": "code",
   "execution_count": 9,
   "id": "9b1255e4-6b0b-4246-92da-5f7dac407c83",
   "metadata": {},
   "outputs": [
    {
     "data": {
      "application/vnd.jupyter.widget-view+json": {
       "model_id": "899dc301c7114eb6876329425181e33c",
       "version_major": 2,
       "version_minor": 0
      },
      "text/plain": [
       "  0%|          | 0/30324 [00:00<?, ?it/s]"
      ]
     },
     "metadata": {},
     "output_type": "display_data"
    },
    {
     "data": {
      "application/vnd.jupyter.widget-view+json": {
       "model_id": "7c9fbf884b684059a80ab15261dd856d",
       "version_major": 2,
       "version_minor": 0
      },
      "text/plain": [
       "  0%|          | 0/30522 [00:00<?, ?it/s]"
      ]
     },
     "metadata": {},
     "output_type": "display_data"
    },
    {
     "data": {
      "application/vnd.jupyter.widget-view+json": {
       "model_id": "3cb272f88839497cb83b46e7fc43a43c",
       "version_major": 2,
       "version_minor": 0
      },
      "text/plain": [
       "  0%|          | 0/67840 [00:00<?, ?it/s]"
      ]
     },
     "metadata": {},
     "output_type": "display_data"
    },
    {
     "data": {
      "application/vnd.jupyter.widget-view+json": {
       "model_id": "d703f82b67db401dbdad2db04b7c4a0b",
       "version_major": 2,
       "version_minor": 0
      },
      "text/plain": [
       "  0%|          | 0/67840 [00:00<?, ?it/s]"
      ]
     },
     "metadata": {},
     "output_type": "display_data"
    }
   ],
   "source": [
    "battery_structures_volrelaxed = pd.DataFrame(get_structures('volrelax/battery_relaxed_vol_structures.json.gz')).set_index('id')\n",
    "battery_structures_volunrelaxed = pd.DataFrame(get_structures('volrelax/battery_unrelaxed_vol_structures.json.gz')).set_index('id')\n",
    "battery_structures_relaxed = pd.DataFrame(get_structures('battery_relaxed_structures.json.gz')).set_index('id')\n",
    "battery_structures_unrelaxed = pd.DataFrame(get_structures('battery_unrelaxed_structures.json.gz')).set_index('id')"
   ]
  },
  {
   "cell_type": "code",
   "execution_count": 136,
   "id": "08373c93-b050-484f-a63f-0d850c0559ff",
   "metadata": {},
   "outputs": [
    {
     "data": {
      "text/html": [
       "<div>\n",
       "<style scoped>\n",
       "    .dataframe tbody tr th:only-of-type {\n",
       "        vertical-align: middle;\n",
       "    }\n",
       "\n",
       "    .dataframe tbody tr th {\n",
       "        vertical-align: top;\n",
       "    }\n",
       "\n",
       "    .dataframe thead th {\n",
       "        text-align: right;\n",
       "    }\n",
       "</style>\n",
       "<table border=\"1\" class=\"dataframe\">\n",
       "  <thead>\n",
       "    <tr style=\"text-align: right;\">\n",
       "      <th></th>\n",
       "      <th>structure</th>\n",
       "      <th>proto_id</th>\n",
       "      <th>valid_proto</th>\n",
       "    </tr>\n",
       "    <tr>\n",
       "      <th>id</th>\n",
       "      <th></th>\n",
       "      <th></th>\n",
       "      <th></th>\n",
       "    </tr>\n",
       "  </thead>\n",
       "  <tbody>\n",
       "    <tr>\n",
       "      <th>Zn1La3I2P3_sg189_icsd_076297_1</th>\n",
       "      <td>[[1.55036141 2.68529936 0.        ] La, [4.580...</td>\n",
       "      <td>icsd_076297</td>\n",
       "      <td>True</td>\n",
       "    </tr>\n",
       "    <tr>\n",
       "      <th>Zn1La3I2P3_sg189_icsd_076297_2</th>\n",
       "      <td>[[1.60535746 2.78056045 0.        ] P, [4.7425...</td>\n",
       "      <td>icsd_076297</td>\n",
       "      <td>True</td>\n",
       "    </tr>\n",
       "  </tbody>\n",
       "</table>\n",
       "</div>"
      ],
      "text/plain": [
       "                                                                        structure  \\\n",
       "id                                                                                  \n",
       "Zn1La3I2P3_sg189_icsd_076297_1  [[1.55036141 2.68529936 0.        ] La, [4.580...   \n",
       "Zn1La3I2P3_sg189_icsd_076297_2  [[1.60535746 2.78056045 0.        ] P, [4.7425...   \n",
       "\n",
       "                                   proto_id  valid_proto  \n",
       "id                                                        \n",
       "Zn1La3I2P3_sg189_icsd_076297_1  icsd_076297         True  \n",
       "Zn1La3I2P3_sg189_icsd_076297_2  icsd_076297         True  "
      ]
     },
     "execution_count": 136,
     "metadata": {},
     "output_type": "execute_result"
    }
   ],
   "source": [
    "# check how many have a valid prototype structure\n",
    "battery_structures_volrelaxed['proto_id'] = battery_structures_volrelaxed.index.map(lambda x: 'icsd_' + x.split('_')[-2])\n",
    "df_volrel = battery_structures_volrelaxed.merge(proto_strcs['valid_proto'], left_on='proto_id', right_index=True, how='inner')\n",
    "df_volrel.head(2)"
   ]
  },
  {
   "cell_type": "code",
   "execution_count": 137,
   "id": "5999cd46-36c6-4997-af5d-ac3a6117085c",
   "metadata": {},
   "outputs": [
    {
     "data": {
      "text/plain": [
       "30241"
      ]
     },
     "execution_count": 137,
     "metadata": {},
     "output_type": "execute_result"
    }
   ],
   "source": [
    "df_volrel['valid_proto'].sum()"
   ]
  },
  {
   "cell_type": "code",
   "execution_count": 139,
   "id": "69044c7e-2980-4e68-9f4b-81882744c0cb",
   "metadata": {},
   "outputs": [
    {
     "data": {
      "application/vnd.jupyter.widget-view+json": {
       "model_id": "8b9cd4ecd5124eaca975309ac42faf81",
       "version_major": 2,
       "version_minor": 0
      },
      "text/plain": [
       "  0%|          | 0/30324 [00:00<?, ?it/s]"
      ]
     },
     "metadata": {},
     "output_type": "display_data"
    }
   ],
   "source": [
    "df_volrel['valid_strc'] = df_volrel['structure'].progress_apply(is_valid)"
   ]
  },
  {
   "cell_type": "code",
   "execution_count": 146,
   "id": "649e3112-dcee-4962-8e3d-462abc2e97d1",
   "metadata": {},
   "outputs": [
    {
     "name": "stdout",
     "output_type": "stream",
     "text": [
      "30245 / 30324 are valid\n"
     ]
    }
   ],
   "source": [
    "print(f\"{len(df_volrel[df_volrel['valid_strc'] == True])} / {len(df_volrel)} are valid\")"
   ]
  },
  {
   "cell_type": "code",
   "execution_count": 148,
   "id": "ff1f6c19-ee81-4417-aa31-fe5f073dea20",
   "metadata": {},
   "outputs": [
    {
     "data": {
      "text/plain": [
       "icsd_158336    16\n",
       "icsd_107859    15\n",
       "icsd_038443    12\n",
       "icsd_065634    12\n",
       "icsd_246867    10\n",
       "icsd_607870    10\n",
       "icsd_044995     4\n",
       "Name: proto_id, dtype: int64"
      ]
     },
     "execution_count": 148,
     "metadata": {},
     "output_type": "execute_result"
    }
   ],
   "source": [
    "df_volrel[df_volrel['valid_strc'] == False]['proto_id'].value_counts()"
   ]
  },
  {
   "cell_type": "code",
   "execution_count": 147,
   "id": "4dda3215-465c-4980-af11-6527e342a72a",
   "metadata": {},
   "outputs": [
    {
     "data": {
      "text/plain": [
       "structure      [[-0.033255  3.541605  0.      ] O, [0. 0. 0.]...\n",
       "proto_id                                             icsd_158336\n",
       "valid_proto                                                False\n",
       "valid_strc                                                 False\n",
       "Name: Mg3F2O2_sg15_icsd_158336_2, dtype: object"
      ]
     },
     "execution_count": 147,
     "metadata": {},
     "output_type": "execute_result"
    }
   ],
   "source": [
    "df_volrel.loc['Mg3F2O2_sg15_icsd_158336_2']"
   ]
  },
  {
   "cell_type": "code",
   "execution_count": null,
   "id": "a62af16a-b282-4730-8adf-fab39f3eaff8",
   "metadata": {},
   "outputs": [],
   "source": [
    "battery_structures_volunrelaxed['proto_id'] = battery_structures_volunrelaxed.index.map(lambda x: 'icsd_' + x.split('_')[-2])\n",
    "df_volunrel = battery_structures_volunrelaxed.merge(proto_strcs['valid_proto'], left_on='proto_id', right_index=True, how='inner')"
   ]
  },
  {
   "cell_type": "code",
   "execution_count": 11,
   "id": "80ba089a-928a-41e7-ac99-243d40d545cb",
   "metadata": {},
   "outputs": [
    {
     "name": "stdout",
     "output_type": "stream",
     "text": [
      "26006\n"
     ]
    },
    {
     "data": {
      "text/html": [
       "<div>\n",
       "<style scoped>\n",
       "    .dataframe tbody tr th:only-of-type {\n",
       "        vertical-align: middle;\n",
       "    }\n",
       "\n",
       "    .dataframe tbody tr th {\n",
       "        vertical-align: top;\n",
       "    }\n",
       "\n",
       "    .dataframe thead th {\n",
       "        text-align: right;\n",
       "    }\n",
       "</style>\n",
       "<table border=\"1\" class=\"dataframe\">\n",
       "  <thead>\n",
       "    <tr style=\"text-align: right;\">\n",
       "      <th></th>\n",
       "      <th>comp_type</th>\n",
       "      <th>composition</th>\n",
       "      <th>id</th>\n",
       "      <th>energyperatom</th>\n",
       "    </tr>\n",
       "  </thead>\n",
       "  <tbody>\n",
       "    <tr>\n",
       "      <th>0</th>\n",
       "      <td>_1_1_2_5</td>\n",
       "      <td>K5Hg1I1N2</td>\n",
       "      <td>K5Hg1I1N2_sg194_icsd_033805_2</td>\n",
       "      <td>-0.176</td>\n",
       "    </tr>\n",
       "    <tr>\n",
       "      <th>1</th>\n",
       "      <td>_1_1_2_5</td>\n",
       "      <td>K5Hg1I1N2</td>\n",
       "      <td>K5Hg1I1N2_sg26_icsd_059680_1</td>\n",
       "      <td>-2.092</td>\n",
       "    </tr>\n",
       "  </tbody>\n",
       "</table>\n",
       "</div>"
      ],
      "text/plain": [
       "  comp_type composition                             id  energyperatom\n",
       "0  _1_1_2_5   K5Hg1I1N2  K5Hg1I1N2_sg194_icsd_033805_2         -0.176\n",
       "1  _1_1_2_5   K5Hg1I1N2   K5Hg1I1N2_sg26_icsd_059680_1         -2.092"
      ]
     },
     "execution_count": 11,
     "metadata": {},
     "output_type": "execute_result"
    }
   ],
   "source": [
    "# load the energies\n",
    "df = pd.read_csv(\"/projects/rlmolecule/jlaw/inputs/structures/volrelax/battery_volrelaxed_energies.csv\")\n",
    "print(len(df))\n",
    "df.head(2)"
   ]
  },
  {
   "cell_type": "code",
   "execution_count": 12,
   "id": "3206bbe9-89fe-4180-be53-9c131b5f0a10",
   "metadata": {},
   "outputs": [
    {
     "data": {
      "text/plain": [
       "<AxesSubplot:>"
      ]
     },
     "execution_count": 12,
     "metadata": {},
     "output_type": "execute_result"
    },
    {
     "data": {
      "image/png": "[encoded data removed]",
      "text/plain": [
       "<Figure size 432x288 with 1 Axes>"
      ]
     },
     "metadata": {
      "needs_background": "light"
     },
     "output_type": "display_data"
    }
   ],
   "source": [
    "# limit to -10 to 10 eV/atom \n",
    "df = df[(df['energyperatom'] > -10) & (df['energyperatom'] < 10)]\n",
    "df['energyperatom'].hist(bins=30)"
   ]
  },
  {
   "cell_type": "code",
   "execution_count": 159,
   "id": "4bd6556f-d345-454a-a664-389189cd6ac7",
   "metadata": {},
   "outputs": [
    {
     "data": {
      "text/plain": [
       "<AxesSubplot:>"
      ]
     },
     "execution_count": 159,
     "metadata": {},
     "output_type": "execute_result"
    },
    {
     "data": {
      "image/png": "[encoded data removed]",
      "text/plain": [
       "<Figure size 432x288 with 1 Axes>"
      ]
     },
     "metadata": {
      "needs_background": "light"
     },
     "output_type": "display_data"
    }
   ],
   "source": [
    "# compare distribution to DFT relaxed structures\n",
    "calc_energy.energyperatom.hist(bins=30)"
   ]
  },
  {
   "cell_type": "code",
   "execution_count": 87,
   "id": "8acd3828-61ed-4c65-b5d1-366116924d9f",
   "metadata": {},
   "outputs": [
    {
     "data": {
      "text/plain": [
       "24863"
      ]
     },
     "execution_count": 87,
     "metadata": {},
     "output_type": "execute_result"
    }
   ],
   "source": [
    "len(df)"
   ]
  },
  {
   "cell_type": "code",
   "execution_count": 10,
   "id": "7a49228b-0927-45ec-b57b-e4e032aef214",
   "metadata": {},
   "outputs": [],
   "source": [
    "# filter out structures that have atoms at the same position\n",
    "# the above \"min_distance == 0\" filter was applied to this all_data.p file\n",
    "from pathlib import Path\n",
    "inputs_dir = Path(\"../outputs/20220309_volrelax\")\n",
    "data = pd.read_pickle(Path(inputs_dir, \"all_data.p\"))"
   ]
  },
  {
   "cell_type": "code",
   "execution_count": 85,
   "id": "50920410-87e5-48a2-8d96-fede65071974",
   "metadata": {},
   "outputs": [
    {
     "data": {
      "text/html": [
       "<div>\n",
       "<style scoped>\n",
       "    .dataframe tbody tr th:only-of-type {\n",
       "        vertical-align: middle;\n",
       "    }\n",
       "\n",
       "    .dataframe tbody tr th {\n",
       "        vertical-align: top;\n",
       "    }\n",
       "\n",
       "    .dataframe thead th {\n",
       "        text-align: right;\n",
       "    }\n",
       "</style>\n",
       "<table border=\"1\" class=\"dataframe\">\n",
       "  <thead>\n",
       "    <tr style=\"text-align: right;\">\n",
       "      <th></th>\n",
       "      <th>comp_type</th>\n",
       "      <th>composition</th>\n",
       "      <th>id</th>\n",
       "      <th>energyperatom</th>\n",
       "      <th>inputs</th>\n",
       "    </tr>\n",
       "  </thead>\n",
       "  <tbody>\n",
       "    <tr>\n",
       "      <th>0</th>\n",
       "      <td>_1_1_2_5</td>\n",
       "      <td>K5Hg1I1N2</td>\n",
       "      <td>K5Hg1I1N2_sg194_icsd_033805_2</td>\n",
       "      <td>-0.176</td>\n",
       "      <td>{'site': [7, 7, 7, 7, 4, 4, 4, 4, 10, 10, 10, ...</td>\n",
       "    </tr>\n",
       "    <tr>\n",
       "      <th>1</th>\n",
       "      <td>_1_1_2_5</td>\n",
       "      <td>K5Hg1I1N2</td>\n",
       "      <td>K5Hg1I1N2_sg26_icsd_059680_1</td>\n",
       "      <td>-2.092</td>\n",
       "      <td>{'site': [4, 4, 7, 7, 10, 10, 10, 10, 10, 10, ...</td>\n",
       "    </tr>\n",
       "  </tbody>\n",
       "</table>\n",
       "</div>"
      ],
      "text/plain": [
       "  comp_type composition                             id  energyperatom  \\\n",
       "0  _1_1_2_5   K5Hg1I1N2  K5Hg1I1N2_sg194_icsd_033805_2         -0.176   \n",
       "1  _1_1_2_5   K5Hg1I1N2   K5Hg1I1N2_sg26_icsd_059680_1         -2.092   \n",
       "\n",
       "                                              inputs  \n",
       "0  {'site': [7, 7, 7, 7, 4, 4, 4, 4, 10, 10, 10, ...  \n",
       "1  {'site': [4, 4, 7, 7, 10, 10, 10, 10, 10, 10, ...  "
      ]
     },
     "execution_count": 85,
     "metadata": {},
     "output_type": "execute_result"
    }
   ],
   "source": [
    "data.head(2)"
   ]
  },
  {
   "cell_type": "code",
   "execution_count": 94,
   "id": "0a0cc1c7-baec-4318-8964-cb61f09eae93",
   "metadata": {},
   "outputs": [
    {
     "name": "stdout",
     "output_type": "stream",
     "text": [
      "25769 / 30324 structures pass the min distance filter\n"
     ]
    }
   ],
   "source": [
    "print(f\"{len(data)} / {len(df_volrel)} structures have DFT energy and pass min-dist filter\")"
   ]
  },
  {
   "cell_type": "code",
   "execution_count": 88,
   "id": "09a1e1d1-b596-4f0b-8312-bf81a94584a9",
   "metadata": {},
   "outputs": [
    {
     "data": {
      "text/plain": [
       "<AxesSubplot:>"
      ]
     },
     "execution_count": 88,
     "metadata": {},
     "output_type": "execute_result"
    },
    {
     "data": {
      "image/png": "[encoded data removed]",
      "text/plain": [
       "<Figure size 432x288 with 1 Axes>"
      ]
     },
     "metadata": {
      "needs_background": "light"
     },
     "output_type": "display_data"
    }
   ],
   "source": [
    "data = data[(data['energyperatom'] > -10) & (data['energyperatom'] < 10)]\n",
    "data['energyperatom'].hist()"
   ]
  },
  {
   "cell_type": "code",
   "execution_count": 89,
   "id": "35c62a70-7352-461b-ab2a-ca107cc7ad1d",
   "metadata": {},
   "outputs": [
    {
     "data": {
      "text/plain": [
       "24674"
      ]
     },
     "execution_count": 89,
     "metadata": {},
     "output_type": "execute_result"
    }
   ],
   "source": [
    "len(data)"
   ]
  },
  {
   "cell_type": "code",
   "execution_count": null,
   "id": "be5cf1c4-72e3-480e-a261-3de8942b487c",
   "metadata": {},
   "outputs": [],
   "source": [
    "# write to a different energies file\n",
    "#df = pd.read_csv(\"/projects/rlmolecule/jlaw/inputs/structures/volrelax/battery_volrelaxed_energies_.csv\")\n",
    "#df.head(2)"
   ]
  },
  {
   "cell_type": "code",
   "execution_count": 153,
   "id": "9eacf8d0-d431-4f6f-b3a1-af0e4c2fb8b7",
   "metadata": {},
   "outputs": [
    {
     "name": "stderr",
     "output_type": "stream",
     "text": [
      "/lustre/eaglefs/projects/rlmolecule/jlaw/envs/crystals_nfp0_3/lib/python3.8/site-packages/pymatgen/io/vasp/inputs.py:394: UserWarning: Elements in POSCAR cannot be determined. Defaulting to false names H H H He.\n",
      "  warnings.warn(\n"
     ]
    },
    {
     "data": {
      "text/plain": [
       "Structure Summary\n",
       "Lattice\n",
       "    abc : 4.719 4.719 4.719\n",
       " angles : 90.0 90.0 90.0\n",
       " volume : 105.08722695900003\n",
       "      A : 4.719 0.0 0.0\n",
       "      B : 0.0 4.719 0.0\n",
       "      C : 0.0 0.0 4.719\n",
       "PeriodicSite: H (2.3595, 2.3595, 0.0000) [0.5000, 0.5000, 0.0000]\n",
       "PeriodicSite: H (2.3595, 0.0000, 2.3595) [0.5000, 0.0000, 0.5000]\n",
       "PeriodicSite: H (0.0000, 2.3595, 2.3595) [0.0000, 0.5000, 0.5000]\n",
       "PeriodicSite: He (0.0000, 0.0000, 0.0000) [0.0000, 0.0000, 0.0000]"
      ]
     },
     "execution_count": 153,
     "metadata": {},
     "output_type": "execute_result"
    }
   ],
   "source": [
    "strc = Structure.from_file(\"/projects/rlmolecule/jlaw/inputs/structures/volrelax/_1_3/Li3N1/Li3N1_sg221_icsd_652775_1/POSCAR\")\n",
    "strc"
   ]
  }
 ],
 "metadata": {
  "kernelspec": {
   "display_name": "Python 3 (ipykernel)",
   "language": "python",
   "name": "python3"
  },
  "language_info": {
   "codemirror_mode": {
    "name": "ipython",
    "version": 3
   },
   "file_extension": ".py",
   "mimetype": "text/x-python",
   "name": "python",
   "nbconvert_exporter": "python",
   "pygments_lexer": "ipython3",
   "version": "3.8.12"
  }
 },
 "nbformat": 4,
 "nbformat_minor": 5
}
