{
 "cells": [
  {
   "cell_type": "code",
   "execution_count": 1,
   "id": "829a1216-003f-4955-b5c4-d2ec85e981a8",
   "metadata": {},
   "outputs": [],
   "source": [
    "import os\n",
    "import numpy as np\n",
    "import pandas as pd\n",
    "\n",
    "import matplotlib.pyplot as plt\n",
    "import seaborn as sns\n",
    "# sns.set(context='notebook', \n",
    "sns.set(context='paper', \n",
    "        # font_scale=8/8.8,\n",
    "        style='ticks',\n",
    "        color_codes=True, \n",
    "        rc={'legend.frameon': False})\n",
    "\n",
    "plt.rcParams['svg.fonttype'] = 'none'\n",
    "# plt.rc('axes', labelsize=11)\n",
    "# plt.rc('legend', fontsize=11)\n",
    "\n",
    "\n",
    "%matplotlib inline"
   ]
  },
  {
   "cell_type": "code",
   "execution_count": 2,
   "id": "3b62b8f6-0781-4c48-96d6-1cc2283b0bb9",
   "metadata": {},
   "outputs": [
    {
     "data": {
      "text/plain": [
       "'/lustre/eaglefs/projects/rlmolecule/jlaw/projects/crystal-gnn-nfp-0.3-pruning-outliers'"
      ]
     },
     "execution_count": 2,
     "metadata": {},
     "output_type": "execute_result"
    }
   ],
   "source": [
    "os.chdir(\"../\")\n",
    "os.getcwd()"
   ]
  },
  {
   "cell_type": "code",
   "execution_count": 3,
   "id": "9a00ef61-f56f-4228-994b-8db8d1da017d",
   "metadata": {},
   "outputs": [
    {
     "data": {
      "text/html": [
       "<div>\n",
       "<style scoped>\n",
       "    .dataframe tbody tr th:only-of-type {\n",
       "        vertical-align: middle;\n",
       "    }\n",
       "\n",
       "    .dataframe tbody tr th {\n",
       "        vertical-align: top;\n",
       "    }\n",
       "\n",
       "    .dataframe thead th {\n",
       "        text-align: right;\n",
       "    }\n",
       "</style>\n",
       "<table border=\"1\" class=\"dataframe\">\n",
       "  <thead>\n",
       "    <tr style=\"text-align: right;\">\n",
       "      <th></th>\n",
       "      <th>id</th>\n",
       "      <th>type</th>\n",
       "      <th>composition</th>\n",
       "      <th>num_sites</th>\n",
       "      <th>hit_upper_bound</th>\n",
       "      <th>energyperatom</th>\n",
       "      <th>volperatom</th>\n",
       "      <th>scaled_input_volperatom</th>\n",
       "      <th>set</th>\n",
       "      <th>energy_predicted</th>\n",
       "    </tr>\n",
       "  </thead>\n",
       "  <tbody>\n",
       "    <tr>\n",
       "      <th>0</th>\n",
       "      <td>icsd_085777</td>\n",
       "      <td>icsd</td>\n",
       "      <td>La1O1P1Zn1</td>\n",
       "      <td>8</td>\n",
       "      <td>False</td>\n",
       "      <td>-5.833295</td>\n",
       "      <td>18.131654</td>\n",
       "      <td>1.368655</td>\n",
       "      <td>train</td>\n",
       "      <td>-5.815193</td>\n",
       "    </tr>\n",
       "    <tr>\n",
       "      <th>1</th>\n",
       "      <td>icsd_173786</td>\n",
       "      <td>icsd</td>\n",
       "      <td>I3Ti1</td>\n",
       "      <td>8</td>\n",
       "      <td>False</td>\n",
       "      <td>-3.397267</td>\n",
       "      <td>35.943968</td>\n",
       "      <td>1.657735</td>\n",
       "      <td>train</td>\n",
       "      <td>-3.393148</td>\n",
       "    </tr>\n",
       "  </tbody>\n",
       "</table>\n",
       "</div>"
      ],
      "text/plain": [
       "            id  type composition  num_sites  hit_upper_bound  energyperatom  \\\n",
       "0  icsd_085777  icsd  La1O1P1Zn1          8            False      -5.833295   \n",
       "1  icsd_173786  icsd       I3Ti1          8            False      -3.397267   \n",
       "\n",
       "   volperatom  scaled_input_volperatom    set  energy_predicted  \n",
       "0   18.131654                 1.368655  train         -5.815193  \n",
       "1   35.943968                 1.657735  train         -3.393148  "
      ]
     },
     "execution_count": 3,
     "metadata": {},
     "output_type": "execute_result"
    }
   ],
   "source": [
    "# trained with relaxed structures, predict with unrelaxed\n",
    "rel_unrel = pd.read_csv(\"20220708_icsd_and_battery_novol/predicted_energies.csv.gz\")\n",
    "# trained with unrelaxed structures, predict with unrelaxed\n",
    "unrel_unrel = pd.read_csv(\"20220708_icsd_and_unrel_battery_novol/predicted_energies.csv.gz\")\n",
    "unrel_unrel.head(2)"
   ]
  },
  {
   "cell_type": "code",
   "execution_count": 4,
   "id": "546de166-623d-4d1e-a076-fc865a84b0b8",
   "metadata": {},
   "outputs": [
    {
     "data": {
      "text/plain": [
       "train               68676\n",
       "test                 3816\n",
       "valid                3815\n",
       "test_composition      631\n",
       "Name: set, dtype: int64"
      ]
     },
     "execution_count": 4,
     "metadata": {},
     "output_type": "execute_result"
    }
   ],
   "source": [
    "unrel_unrel.set.value_counts()"
   ]
  },
  {
   "cell_type": "code",
   "execution_count": 5,
   "id": "0e6540e1-00de-4693-a09f-77e7f5ce8797",
   "metadata": {},
   "outputs": [],
   "source": [
    "# TODO make predictions on the unrelaxed structures with the model trained on relaxed\n"
   ]
  },
  {
   "cell_type": "code",
   "execution_count": 6,
   "id": "635fafeb-fd22-4853-b2c4-089fd4f6b76e",
   "metadata": {},
   "outputs": [
    {
     "data": {
      "text/html": [
       "<div>\n",
       "<style scoped>\n",
       "    .dataframe tbody tr th:only-of-type {\n",
       "        vertical-align: middle;\n",
       "    }\n",
       "\n",
       "    .dataframe tbody tr th {\n",
       "        vertical-align: top;\n",
       "    }\n",
       "\n",
       "    .dataframe thead th {\n",
       "        text-align: right;\n",
       "    }\n",
       "</style>\n",
       "<table border=\"1\" class=\"dataframe\">\n",
       "  <thead>\n",
       "    <tr style=\"text-align: right;\">\n",
       "      <th>type</th>\n",
       "      <th>icsd</th>\n",
       "      <th>relax</th>\n",
       "    </tr>\n",
       "    <tr>\n",
       "      <th>set</th>\n",
       "      <th></th>\n",
       "      <th></th>\n",
       "    </tr>\n",
       "  </thead>\n",
       "  <tbody>\n",
       "    <tr>\n",
       "      <th>test</th>\n",
       "      <td>0.045</td>\n",
       "      <td>0.029</td>\n",
       "    </tr>\n",
       "    <tr>\n",
       "      <th>test_composition</th>\n",
       "      <td>0.032</td>\n",
       "      <td>0.038</td>\n",
       "    </tr>\n",
       "    <tr>\n",
       "      <th>train</th>\n",
       "      <td>0.025</td>\n",
       "      <td>0.019</td>\n",
       "    </tr>\n",
       "    <tr>\n",
       "      <th>valid</th>\n",
       "      <td>0.054</td>\n",
       "      <td>0.030</td>\n",
       "    </tr>\n",
       "  </tbody>\n",
       "</table>\n",
       "</div>"
      ],
      "text/plain": [
       "type               icsd  relax\n",
       "set                           \n",
       "test              0.045  0.029\n",
       "test_composition  0.032  0.038\n",
       "train             0.025  0.019\n",
       "valid             0.054  0.030"
      ]
     },
     "execution_count": 6,
     "metadata": {},
     "output_type": "execute_result"
    }
   ],
   "source": [
    "rel_unrel['energy_err'] = (rel_unrel['energyperatom'] - rel_unrel['energy_predicted']).abs()\n",
    "rel_unrel.groupby(['set', 'type']).energy_err.mean().unstack().round(3)"
   ]
  },
  {
   "cell_type": "code",
   "execution_count": 7,
   "id": "ad3537eb-d0c4-42d3-8598-dd99ce984bcb",
   "metadata": {},
   "outputs": [
    {
     "data": {
      "text/html": [
       "<div>\n",
       "<style scoped>\n",
       "    .dataframe tbody tr th:only-of-type {\n",
       "        vertical-align: middle;\n",
       "    }\n",
       "\n",
       "    .dataframe tbody tr th {\n",
       "        vertical-align: top;\n",
       "    }\n",
       "\n",
       "    .dataframe thead th {\n",
       "        text-align: right;\n",
       "    }\n",
       "</style>\n",
       "<table border=\"1\" class=\"dataframe\">\n",
       "  <thead>\n",
       "    <tr style=\"text-align: right;\">\n",
       "      <th>type</th>\n",
       "      <th>icsd</th>\n",
       "      <th>relax</th>\n",
       "    </tr>\n",
       "    <tr>\n",
       "      <th>set</th>\n",
       "      <th></th>\n",
       "      <th></th>\n",
       "    </tr>\n",
       "  </thead>\n",
       "  <tbody>\n",
       "    <tr>\n",
       "      <th>test</th>\n",
       "      <td>0.053</td>\n",
       "      <td>0.133</td>\n",
       "    </tr>\n",
       "    <tr>\n",
       "      <th>test_composition</th>\n",
       "      <td>0.053</td>\n",
       "      <td>0.203</td>\n",
       "    </tr>\n",
       "    <tr>\n",
       "      <th>train</th>\n",
       "      <td>0.025</td>\n",
       "      <td>0.038</td>\n",
       "    </tr>\n",
       "    <tr>\n",
       "      <th>valid</th>\n",
       "      <td>0.053</td>\n",
       "      <td>0.134</td>\n",
       "    </tr>\n",
       "  </tbody>\n",
       "</table>\n",
       "</div>"
      ],
      "text/plain": [
       "type               icsd  relax\n",
       "set                           \n",
       "test              0.053  0.133\n",
       "test_composition  0.053  0.203\n",
       "train             0.025  0.038\n",
       "valid             0.053  0.134"
      ]
     },
     "execution_count": 7,
     "metadata": {},
     "output_type": "execute_result"
    }
   ],
   "source": [
    "unrel_unrel['energy_err'] = (unrel_unrel['energyperatom'] - unrel_unrel['energy_predicted']).abs()\n",
    "unrel_unrel.groupby(['set', 'type']).energy_err.mean().unstack().round(3)"
   ]
  },
  {
   "cell_type": "code",
   "execution_count": 8,
   "id": "7ec748d0-3447-4ad0-85f4-c63758311dce",
   "metadata": {},
   "outputs": [],
   "source": [
    "unrel_unrel.sort_values('type', ascending=False, inplace=True)"
   ]
  },
  {
   "cell_type": "code",
   "execution_count": 14,
   "id": "fd75b97e-ce64-4268-96cd-e5ee5f0838fe",
   "metadata": {},
   "outputs": [
    {
     "name": "stdout",
     "output_type": "stream",
     "text": [
      "20220708_icsd_and_unrel_battery_novol/dft_vs_pred.svg\n"
     ]
    },
    {
     "data": {
      "image/png": "[encoded data removed]",
      "text/plain": [
       "<Figure size 288x288 with 1 Axes>"
      ]
     },
     "metadata": {
      "needs_background": "light"
     },
     "output_type": "display_data"
    }
   ],
   "source": [
    "df = unrel_unrel[unrel_unrel.set == \"test\"]\n",
    "fig = plt.figure(figsize=(4,4))\n",
    "ax = fig.add_subplot(111, aspect='equal', adjustable='datalim')\n",
    "\n",
    "# artist = dsshow(volumes,\n",
    "#        ds.Point('volume_predicted', 'volperatom'),\n",
    "#        ds.count_cat('type'),       \n",
    "#        cmap='Blues', norm='eq_hist', aspect='equal',\n",
    "#        x_range=(0, 70), y_range=(0, 70), ax=ax)\n",
    "g = sns.scatterplot(data=df, x=\"energyperatom\", y=\"energy_predicted\", \n",
    "                hue=\"type\", hue_order=[\"icsd\", \"relax\"],\n",
    "                alpha=.4, s=20, linewidth=0,\n",
    "               )\n",
    "\n",
    "# ax.legend(loc=(0.05,1))\n",
    "ax.legend_.set_title(None)\n",
    "# replace labels\n",
    "new_labels = ['ICSD', 'Battery Unrelaxed']\n",
    "for t, l in zip(ax.legend_.texts, new_labels):\n",
    "    data_type = t.get_text()\n",
    "    mae = (df[df.type == data_type][\"energyperatom\"] - df[df.type == data_type][\"energy_predicted\"]).abs().mean()\n",
    "    new_label = f\"{l}\\nMAE = {mae:0.2}\"\n",
    "    t.set_text(new_label)\n",
    "    \n",
    "\n",
    "ax.set_xlabel('DFT Total Energy (eV/atom)')\n",
    "ax.set_ylabel('Predicted Total Energy (eV/atom)')\n",
    "# ax.legend(handles=artist.get_legend_elements(), fontsize=13, loc='lower right')\n",
    "sns.despine()\n",
    "out_file = \"20220708_icsd_and_unrel_battery_novol/dft_vs_pred.svg\"\n",
    "print(out_file)\n",
    "plt.savefig(out_file, bbox_inches='tight')\n",
    "plt.savefig(out_file.replace('.svg', '.png'), bbox_inches='tight')"
   ]
  },
  {
   "cell_type": "code",
   "execution_count": 10,
   "id": "e2e42a22-06b9-4e4f-9dc7-cb39ba2ad8a5",
   "metadata": {},
   "outputs": [],
   "source": [
    "import datashader as ds\n",
    "from datashader.mpl_ext import dsshow#, alpha_colormap"
   ]
  },
  {
   "cell_type": "code",
   "execution_count": 11,
   "id": "e6e62f70-51d4-4ce9-8fc8-db2f2a3aa061",
   "metadata": {},
   "outputs": [
    {
     "name": "stderr",
     "output_type": "stream",
     "text": [
      "/tmp/ipykernel_27732/3494204619.py:2: SettingWithCopyWarning: \n",
      "A value is trying to be set on a copy of a slice from a DataFrame.\n",
      "Try using .loc[row_indexer,col_indexer] = value instead\n",
      "\n",
      "See the caveats in the documentation: https://pandas.pydata.org/pandas-docs/stable/user_guide/indexing.html#returning-a-view-versus-a-copy\n",
      "  df.type = df.type.astype('category')\n"
     ]
    },
    {
     "data": {
      "image/png": "[encoded data removed]",
      "text/plain": [
       "<Figure size 288x288 with 1 Axes>"
      ]
     },
     "metadata": {
      "needs_background": "light"
     },
     "output_type": "display_data"
    }
   ],
   "source": [
    "df = unrel_unrel[unrel_unrel.set == \"test\"]\n",
    "df.type = df.type.astype('category')\n",
    "fig = plt.figure(figsize=(4,4))\n",
    "ax = fig.add_subplot(111, aspect='equal', adjustable='datalim')\n",
    "\n",
    "artist = dsshow(df,\n",
    "       ds.Point('energy_predicted', 'energyperatom'),\n",
    "       ds.count_cat('type'),\n",
    "       cmap='Blues', #norm='eq_hist', aspect='equal',\n",
    "       # x_range=(0, 70), y_range=(0, 70), \n",
    "                ax=ax)\n",
    "# g = sns.scatterplot(data=df, x=\"energyperatom\", y=\"energy_predicted\", \n",
    "#                 hue=\"type\", hue_order=[\"icsd\", \"relax\"],\n",
    "#                 alpha=.5, s=20, linewidth=0,\n",
    "#                )\n",
    "\n",
    "ax.set_xlabel('energy/atom, ML')\n",
    "ax.set_ylabel('energy/atom, DFT')\n",
    "# ax.legend(handles=artist.get_legend_elements(), fontsize=13, loc='lower right')\n",
    "sns.despine()"
   ]
  },
  {
   "cell_type": "code",
   "execution_count": 40,
   "id": "84001e76-3384-412e-8d59-01d90ce561d9",
   "metadata": {},
   "outputs": [
    {
     "data": {
      "image/png": "[encoded data removed]",
      "text/plain": [
       "<Figure size 288x288 with 1 Axes>"
      ]
     },
     "metadata": {
      "needs_background": "light"
     },
     "output_type": "display_data"
    }
   ],
   "source": [
    "df = unrel_unrel[unrel_unrel.set == \"test_composition\"]\n",
    "fig = plt.figure(figsize=(4,4))\n",
    "ax = fig.add_subplot(111, aspect='equal', adjustable='datalim')\n",
    "\n",
    "# artist = dsshow(volumes,\n",
    "#        ds.Point('volume_predicted', 'volperatom'),\n",
    "#        ds.count_cat('type'),       \n",
    "#        cmap='Blues', norm='eq_hist', aspect='equal',\n",
    "#        x_range=(0, 70), y_range=(0, 70), ax=ax)\n",
    "g = sns.scatterplot(data=df, x=\"energyperatom\", y=\"energy_predicted\", \n",
    "                hue=\"type\", hue_order=[\"icsd\", \"relax\"],\n",
    "                alpha=.5, s=20, linewidth=0,\n",
    "               )\n",
    "\n",
    "ax.set_xlabel('energy/atom, ML')\n",
    "ax.set_ylabel('energy/atom, DFT')\n",
    "# ax.legend(handles=artist.get_legend_elements(), fontsize=13, loc='lower right')\n",
    "sns.despine()"
   ]
  },
  {
   "cell_type": "code",
   "execution_count": null,
   "id": "8b60b068-5484-4156-ae73-46936d5f99e2",
   "metadata": {},
   "outputs": [],
   "source": []
  }
 ],
 "metadata": {
  "kernelspec": {
   "display_name": "Python 3 (ipykernel)",
   "language": "python",
   "name": "python3"
  },
  "language_info": {
   "codemirror_mode": {
    "name": "ipython",
    "version": 3
   },
   "file_extension": ".py",
   "mimetype": "text/x-python",
   "name": "python",
   "nbconvert_exporter": "python",
   "pygments_lexer": "ipython3",
   "version": "3.8.13"
  }
 },
 "nbformat": 4,
 "nbformat_minor": 5
}
