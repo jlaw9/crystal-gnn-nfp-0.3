{
 "cells": [
  {
   "cell_type": "code",
   "execution_count": 1,
   "id": "fe034a78-a749-46d4-bc54-3a9ace3e14f7",
   "metadata": {},
   "outputs": [],
   "source": [
    "import os\n",
    "import numpy as np\n",
    "import pandas as pd\n",
    "\n",
    "import matplotlib.pyplot as plt\n",
    "import seaborn as sns"
   ]
  },
  {
   "cell_type": "code",
   "execution_count": 2,
   "id": "e68f6c56-7505-4e8d-9fae-ca2b34c0bcea",
   "metadata": {},
   "outputs": [],
   "source": [
    "# sns.set(context='notebook', \n",
    "sns.set(context='paper', \n",
    "        # font_scale=8/8.8,\n",
    "        style='ticks',\n",
    "        color_codes=True, \n",
    "        rc={'legend.frameon': False})\n",
    "\n",
    "plt.rcParams['svg.fonttype'] = 'none'\n",
    "# plt.rc('axes', labelsize=11)\n",
    "# plt.rc('legend', fontsize=11)\n",
    "\n",
    "\n",
    "%matplotlib inline"
   ]
  },
  {
   "cell_type": "code",
   "execution_count": 3,
   "id": "3b62b8f6-0781-4c48-96d6-1cc2283b0bb9",
   "metadata": {},
   "outputs": [
    {
     "data": {
      "text/plain": [
       "'/lustre/eaglefs/projects/rlmolecule/jlaw/projects/crystal-gnn-nfp-0.3-pruning-outliers'"
      ]
     },
     "execution_count": 3,
     "metadata": {},
     "output_type": "execute_result"
    }
   ],
   "source": [
    "os.chdir(\"../\")\n",
    "os.getcwd()"
   ]
  },
  {
   "cell_type": "code",
   "execution_count": 11,
   "id": "37e68631-c4eb-48f0-8575-61342e55b6d9",
   "metadata": {},
   "outputs": [
    {
     "name": "stdout",
     "output_type": "stream",
     "text": [
      "20220706_icsd_and_battery_learning_curve/run_1/n_9/predicted_energies.csv.gz\n",
      "20220706_icsd_and_battery_learning_curve/run_2/n_6/predicted_energies.csv.gz\n",
      "20220706_icsd_and_battery_learning_curve/run_2/n_7/predicted_energies.csv.gz\n",
      "20220706_icsd_and_battery_learning_curve/run_4/n_3/predicted_energies.csv.gz\n",
      "20220706_icsd_and_battery_learning_curve/run_5/n_6/predicted_energies.csv.gz\n",
      "67500\n"
     ]
    },
    {
     "data": {
      "text/html": [
       "<div>\n",
       "<style scoped>\n",
       "    .dataframe tbody tr th:only-of-type {\n",
       "        vertical-align: middle;\n",
       "    }\n",
       "\n",
       "    .dataframe tbody tr th {\n",
       "        vertical-align: top;\n",
       "    }\n",
       "\n",
       "    .dataframe thead th {\n",
       "        text-align: right;\n",
       "    }\n",
       "</style>\n",
       "<table border=\"1\" class=\"dataframe\">\n",
       "  <thead>\n",
       "    <tr style=\"text-align: right;\">\n",
       "      <th></th>\n",
       "      <th>id</th>\n",
       "      <th>type</th>\n",
       "      <th>composition</th>\n",
       "      <th>num_sites</th>\n",
       "      <th>hit_upper_bound</th>\n",
       "      <th>energyperatom</th>\n",
       "      <th>volperatom</th>\n",
       "      <th>scaled_input_volperatom</th>\n",
       "      <th>set</th>\n",
       "      <th>energy_predicted</th>\n",
       "      <th>run_id</th>\n",
       "      <th>train_idx</th>\n",
       "    </tr>\n",
       "  </thead>\n",
       "  <tbody>\n",
       "    <tr>\n",
       "      <th>98</th>\n",
       "      <td>icsd_049751</td>\n",
       "      <td>icsd</td>\n",
       "      <td>Ba2Si1Te4</td>\n",
       "      <td>14</td>\n",
       "      <td>False</td>\n",
       "      <td>-4.180950</td>\n",
       "      <td>37.129097</td>\n",
       "      <td>2.394699</td>\n",
       "      <td>test</td>\n",
       "      <td>-4.527718</td>\n",
       "      <td>1</td>\n",
       "      <td>0</td>\n",
       "    </tr>\n",
       "    <tr>\n",
       "      <th>146</th>\n",
       "      <td>icsd_044369</td>\n",
       "      <td>icsd</td>\n",
       "      <td>Mn4N1</td>\n",
       "      <td>5</td>\n",
       "      <td>False</td>\n",
       "      <td>-7.502654</td>\n",
       "      <td>11.574158</td>\n",
       "      <td>1.600000</td>\n",
       "      <td>test</td>\n",
       "      <td>-4.267200</td>\n",
       "      <td>1</td>\n",
       "      <td>0</td>\n",
       "    </tr>\n",
       "  </tbody>\n",
       "</table>\n",
       "</div>"
      ],
      "text/plain": [
       "              id  type composition  num_sites  hit_upper_bound  energyperatom  \\\n",
       "98   icsd_049751  icsd   Ba2Si1Te4         14            False      -4.180950   \n",
       "146  icsd_044369  icsd       Mn4N1          5            False      -7.502654   \n",
       "\n",
       "     volperatom  scaled_input_volperatom   set  energy_predicted  run_id  \\\n",
       "98    37.129097                 2.394699  test         -4.527718       1   \n",
       "146   11.574158                 1.600000  test         -4.267200       1   \n",
       "\n",
       "     train_idx  \n",
       "98           0  \n",
       "146          0  "
      ]
     },
     "execution_count": 11,
     "metadata": {},
     "output_type": "execute_result"
    }
   ],
   "source": [
    "# load all the data\n",
    "df_all = pd.DataFrame()\n",
    "base_dir = \"20220706_icsd_and_battery_learning_curve\"\n",
    "for run_id in range(1, 6):\n",
    "    run_dir = f\"{base_dir}/run_{run_id}\"\n",
    "    for i in range(10):\n",
    "        pred_energies_file = f\"{run_dir}/n_{i}/predicted_energies.csv.gz\"\n",
    "        if not os.path.isfile(pred_energies_file):\n",
    "            print(pred_energies_file)\n",
    "            continue\n",
    "        df = pd.read_csv(pred_energies_file, index_col=0)\n",
    "        df = df[df.set == 'test']\n",
    "        df['run_id'] = run_id\n",
    "        df['train_idx'] = i\n",
    "        df_all = pd.concat([df_all, df])\n",
    "\n",
    "print(len(df_all))\n",
    "df_all.head(2)"
   ]
  },
  {
   "cell_type": "code",
   "execution_count": 12,
   "id": "cc271c7e-e5aa-44e7-a43f-d6486a04e30b",
   "metadata": {},
   "outputs": [
    {
     "data": {
      "text/html": [
       "<div>\n",
       "<style scoped>\n",
       "    .dataframe tbody tr th:only-of-type {\n",
       "        vertical-align: middle;\n",
       "    }\n",
       "\n",
       "    .dataframe tbody tr th {\n",
       "        vertical-align: top;\n",
       "    }\n",
       "\n",
       "    .dataframe thead th {\n",
       "        text-align: right;\n",
       "    }\n",
       "</style>\n",
       "<table border=\"1\" class=\"dataframe\">\n",
       "  <thead>\n",
       "    <tr style=\"text-align: right;\">\n",
       "      <th></th>\n",
       "      <th>id</th>\n",
       "      <th>type</th>\n",
       "      <th>composition</th>\n",
       "      <th>num_sites</th>\n",
       "      <th>hit_upper_bound</th>\n",
       "      <th>energyperatom</th>\n",
       "      <th>volperatom</th>\n",
       "      <th>scaled_input_volperatom</th>\n",
       "      <th>set</th>\n",
       "      <th>energy_predicted</th>\n",
       "      <th>run_id</th>\n",
       "      <th>train_idx</th>\n",
       "      <th>energy_err</th>\n",
       "    </tr>\n",
       "  </thead>\n",
       "  <tbody>\n",
       "    <tr>\n",
       "      <th>98</th>\n",
       "      <td>icsd_049751</td>\n",
       "      <td>icsd</td>\n",
       "      <td>Ba2Si1Te4</td>\n",
       "      <td>14</td>\n",
       "      <td>False</td>\n",
       "      <td>-4.180950</td>\n",
       "      <td>37.129097</td>\n",
       "      <td>2.394699</td>\n",
       "      <td>test</td>\n",
       "      <td>-4.527718</td>\n",
       "      <td>1</td>\n",
       "      <td>0</td>\n",
       "      <td>0.346768</td>\n",
       "    </tr>\n",
       "    <tr>\n",
       "      <th>146</th>\n",
       "      <td>icsd_044369</td>\n",
       "      <td>icsd</td>\n",
       "      <td>Mn4N1</td>\n",
       "      <td>5</td>\n",
       "      <td>False</td>\n",
       "      <td>-7.502654</td>\n",
       "      <td>11.574158</td>\n",
       "      <td>1.600000</td>\n",
       "      <td>test</td>\n",
       "      <td>-4.267200</td>\n",
       "      <td>1</td>\n",
       "      <td>0</td>\n",
       "      <td>3.235454</td>\n",
       "    </tr>\n",
       "  </tbody>\n",
       "</table>\n",
       "</div>"
      ],
      "text/plain": [
       "              id  type composition  num_sites  hit_upper_bound  energyperatom  \\\n",
       "98   icsd_049751  icsd   Ba2Si1Te4         14            False      -4.180950   \n",
       "146  icsd_044369  icsd       Mn4N1          5            False      -7.502654   \n",
       "\n",
       "     volperatom  scaled_input_volperatom   set  energy_predicted  run_id  \\\n",
       "98    37.129097                 2.394699  test         -4.527718       1   \n",
       "146   11.574158                 1.600000  test         -4.267200       1   \n",
       "\n",
       "     train_idx  energy_err  \n",
       "98           0    0.346768  \n",
       "146          0    3.235454  "
      ]
     },
     "execution_count": 12,
     "metadata": {},
     "output_type": "execute_result"
    }
   ],
   "source": [
    "# get the MAE per set\n",
    "df_all['energy_err'] = (df_all['energyperatom'] - df_all['energy_predicted']).abs()\n",
    "df_all.head(2)\n",
    "# df_mae = df_all.groupby("
   ]
  },
  {
   "cell_type": "code",
   "execution_count": 13,
   "id": "3a4a5fee-5e7f-4cd7-8372-737519a405dd",
   "metadata": {},
   "outputs": [
    {
     "data": {
      "text/plain": [
       "67500"
      ]
     },
     "execution_count": 13,
     "metadata": {},
     "output_type": "execute_result"
    }
   ],
   "source": [
    "df2 = df_all[['type', 'train_idx', 'energy_err']].reset_index()\n",
    "len(df2)"
   ]
  },
  {
   "cell_type": "code",
   "execution_count": 14,
   "id": "5aea0887-89f7-4417-8692-b6a82877e964",
   "metadata": {},
   "outputs": [
    {
     "data": {
      "text/html": [
       "<div>\n",
       "<style scoped>\n",
       "    .dataframe tbody tr th:only-of-type {\n",
       "        vertical-align: middle;\n",
       "    }\n",
       "\n",
       "    .dataframe tbody tr th {\n",
       "        vertical-align: top;\n",
       "    }\n",
       "\n",
       "    .dataframe thead th {\n",
       "        text-align: right;\n",
       "    }\n",
       "</style>\n",
       "<table border=\"1\" class=\"dataframe\">\n",
       "  <thead>\n",
       "    <tr style=\"text-align: right;\">\n",
       "      <th></th>\n",
       "      <th>index</th>\n",
       "      <th>type</th>\n",
       "      <th>train_idx</th>\n",
       "      <th>energy_err</th>\n",
       "      <th>num_train</th>\n",
       "    </tr>\n",
       "  </thead>\n",
       "  <tbody>\n",
       "    <tr>\n",
       "      <th>0</th>\n",
       "      <td>98</td>\n",
       "      <td>icsd</td>\n",
       "      <td>0</td>\n",
       "      <td>0.346768</td>\n",
       "      <td>100.0</td>\n",
       "    </tr>\n",
       "    <tr>\n",
       "      <th>1</th>\n",
       "      <td>146</td>\n",
       "      <td>icsd</td>\n",
       "      <td>0</td>\n",
       "      <td>3.235454</td>\n",
       "      <td>100.0</td>\n",
       "    </tr>\n",
       "  </tbody>\n",
       "</table>\n",
       "</div>"
      ],
      "text/plain": [
       "   index  type  train_idx  energy_err  num_train\n",
       "0     98  icsd          0    0.346768      100.0\n",
       "1    146  icsd          0    3.235454      100.0"
      ]
     },
     "execution_count": 14,
     "metadata": {},
     "output_type": "execute_result"
    }
   ],
   "source": [
    "num_train_list = np.logspace(2, np.log10(141385), num=10)\n",
    "df2['num_train'] = df2.train_idx.apply(lambda x: num_train_list[x])\n",
    "df2.head(2)"
   ]
  },
  {
   "cell_type": "code",
   "execution_count": 15,
   "id": "5267dadb-3ae7-473a-a7d7-b1773411d489",
   "metadata": {},
   "outputs": [
    {
     "data": {
      "text/plain": [
       "0    7500\n",
       "1    7500\n",
       "2    7500\n",
       "4    7500\n",
       "5    7500\n",
       "8    7500\n",
       "3    6000\n",
       "7    6000\n",
       "9    6000\n",
       "6    4500\n",
       "Name: train_idx, dtype: int64"
      ]
     },
     "execution_count": 15,
     "metadata": {},
     "output_type": "execute_result"
    }
   ],
   "source": [
    "df2['train_idx'].value_counts()"
   ]
  },
  {
   "cell_type": "code",
   "execution_count": 21,
   "id": "4c79a009-40da-4b24-9ff3-db3e80713495",
   "metadata": {},
   "outputs": [
    {
     "name": "stdout",
     "output_type": "stream",
     "text": [
      "20220706_icsd_and_battery_learning_curve/learning_curve.svg\n"
     ]
    },
    {
     "data": {
      "image/png": "[encoded data removed]",
      "text/plain": [
       "<Figure size 432x288 with 1 Axes>"
      ]
     },
     "metadata": {
      "needs_background": "light"
     },
     "output_type": "display_data"
    }
   ],
   "source": [
    "# plot the mean and error bars from the different run_ids \n",
    "f, ax = plt.subplots(figsize=(6, 4))\n",
    "ax = sns.lineplot(\n",
    "    data=df2, x='num_train', y='energy_err', \n",
    "    hue='type', style='type', markers=True, dashes=False,\n",
    "    markersize=10,\n",
    ")\n",
    "ax.legend_.set_title(None)\n",
    "# replace labels\n",
    "new_labels = ['ICSD', 'Battery Relaxed', 'Battery Volume-Relaxed']\n",
    "for t, l in zip(ax.legend_.texts, new_labels):\n",
    "    t.set_text(l)\n",
    "for lh in ax.legend_.legendHandles:\n",
    "    lh.set_alpha(1)\n",
    "    # lh._sizes = [30]\n",
    "    lh.set_markersize(10)\n",
    "    lh.set_markeredgecolor('white')\n",
    "    lh.set_linewidth(2)\n",
    "\n",
    "plt.axhline(0.05, color='gray', linestyle='--')\n",
    "ax.text(.1, .2, 'MAE = 0.05',\n",
    "        # color='black',\n",
    "       transform=ax.transAxes)\n",
    "\n",
    "plt.yscale('log')\n",
    "plt.xscale('log')\n",
    "plt.ylabel(\"Predicted Total Energy MAE (eV/atom)\")\n",
    "plt.xlabel(\"# Training Examples\")\n",
    "out_file = f\"{base_dir}/learning_curve.svg\"\n",
    "print(out_file)\n",
    "plt.savefig(out_file, bbox_inches='tight')\n",
    "plt.savefig(out_file.replace('.svg', '.png'), \n",
    "            dpi=300,\n",
    "            bbox_inches='tight')"
   ]
  },
  {
   "cell_type": "code",
   "execution_count": 20,
   "id": "f3abcbf8-5cc6-43da-bde9-8bdbfcd12d0e",
   "metadata": {},
   "outputs": [
    {
     "data": {
      "text/plain": [
       "train_idx  type \n",
       "0          icsd     1.244409\n",
       "           relax    0.526958\n",
       "           vol      1.205342\n",
       "1          icsd     1.283514\n",
       "           relax    0.431905\n",
       "           vol      0.930252\n",
       "2          icsd     0.959113\n",
       "           relax    0.326803\n",
       "           vol      0.771708\n",
       "3          icsd     0.592976\n",
       "           relax    0.204592\n",
       "           vol      0.618683\n",
       "4          icsd     0.349030\n",
       "           relax    0.132944\n",
       "           vol      0.378634\n",
       "5          icsd     0.207809\n",
       "           relax    0.077666\n",
       "           vol      0.206677\n",
       "6          icsd     0.118816\n",
       "           relax    0.047990\n",
       "           vol      0.132421\n",
       "7          icsd     0.079546\n",
       "           relax    0.038522\n",
       "           vol      0.089412\n",
       "8          icsd     0.062412\n",
       "           relax    0.032161\n",
       "           vol      0.069277\n",
       "9          icsd     0.053001\n",
       "           relax    0.031795\n",
       "           vol      0.055764\n",
       "Name: energy_err, dtype: float64"
      ]
     },
     "execution_count": 20,
     "metadata": {},
     "output_type": "execute_result"
    }
   ],
   "source": [
    "df2.groupby(['train_idx', 'type']).energy_err.mean()"
   ]
  },
  {
   "cell_type": "code",
   "execution_count": null,
   "id": "790d3fab-634d-4bbd-8655-899e8ce6ca43",
   "metadata": {},
   "outputs": [],
   "source": []
  }
 ],
 "metadata": {
  "kernelspec": {
   "display_name": "Python 3 (ipykernel)",
   "language": "python",
   "name": "python3"
  },
  "language_info": {
   "codemirror_mode": {
    "name": "ipython",
    "version": 3
   },
   "file_extension": ".py",
   "mimetype": "text/x-python",
   "name": "python",
   "nbconvert_exporter": "python",
   "pygments_lexer": "ipython3",
   "version": "3.8.13"
  }
 },
 "nbformat": 4,
 "nbformat_minor": 5
}
