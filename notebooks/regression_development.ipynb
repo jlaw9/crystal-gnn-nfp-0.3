{
 "cells": [
  {
   "cell_type": "code",
   "execution_count": 1,
   "id": "de0e449e-4182-408a-a1a8-3fe61b26bbe9",
   "metadata": {},
   "outputs": [],
   "source": [
    "import numpy as np\n",
    "import pandas as pd\n",
    "\n",
    "import matplotlib.pyplot as plt\n",
    "import seaborn as sns\n",
    "sns.set(context='talk', style='ticks',\n",
    "        color_codes=True, rc={'legend.frameon': False})\n",
    "\n",
    "%matplotlib inline"
   ]
  },
  {
   "cell_type": "code",
   "execution_count": 2,
   "id": "c97e5e0a-b96f-4bc7-9cf7-1ba3ef842531",
   "metadata": {},
   "outputs": [],
   "source": [
    "import gzip\n",
    "import json\n",
    "import re\n",
    "from pathlib import Path\n",
    "\n",
    "import numpy as np\n",
    "import pandas as pd\n",
    "from nfp.preprocessing.crystal_preprocessor import PymatgenPreprocessor\n",
    "from pymatgen import Structure\n",
    "from tqdm.auto import tqdm\n",
    "\n",
    "tqdm.pandas()\n",
    "\n",
    "structure_dir = Path(\"/projects/rlmolecule/jlaw/inputs/structures\")\n",
    "inputs_dir = Path(\"/projects/rlmolecule/pstjohn/crystal_inputs/\")\n",
    "volrelax_dir = Path(\"/projects/rlmolecule/pstjohn/volume_relaxation_outputs/\")\n",
    "\n",
    "# batt_energy_file = Path(inputs_dir, \"20211223_deduped_energies_matminer_0.01.csv\")\n",
    "vol_energy_file = Path(volrelax_dir, \"20220504_volume_relaxed_energy.csv.gz\")\n",
    "# icsd_energy_file = Path(structure_dir, \"icsd/icsd_energies.csv\")\n",
    "\n",
    "vol_energy = pd.read_csv(vol_energy_file)\n",
    "# batt_energy = pd.read_csv(Path(batt_energy_file))\n",
    "# icsd_energy = pd.read_csv(icsd_energy_file)\n",
    "\n",
    "data = pd.read_pickle(Path(inputs_dir, \"20220511_scaled_inputs.p\"))\n",
    "data['type'] = data.type.astype('category')\n",
    "max_distance = data['inputs'].apply(lambda x: x['distance'].max())\n",
    "data = data[max_distance < 100]  # drop some problematic icsd structures"
   ]
  },
  {
   "cell_type": "code",
   "execution_count": 3,
   "id": "114ddd56-7c36-4a8a-93d0-adeefbcd7e60",
   "metadata": {},
   "outputs": [],
   "source": [
    "vol_energy['hit_upper_bound'] = vol_energy.volume > (vol_energy.dls_volume * 1.95 - 1)\n",
    "\n",
    "to_drop = data[(data.type == 'vol') & data.id.isin(vol_energy[vol_energy['hit_upper_bound']].id)]\n",
    "data['hit_upper_bound'] = data.index.isin(to_drop.index)"
   ]
  },
  {
   "cell_type": "code",
   "execution_count": 4,
   "id": "0b1432e7-3767-4ec1-be5a-8615adef35cc",
   "metadata": {},
   "outputs": [
    {
     "data": {
      "text/html": [
       "<div>\n",
       "<style scoped>\n",
       "    .dataframe tbody tr th:only-of-type {\n",
       "        vertical-align: middle;\n",
       "    }\n",
       "\n",
       "    .dataframe tbody tr th {\n",
       "        vertical-align: top;\n",
       "    }\n",
       "\n",
       "    .dataframe thead th {\n",
       "        text-align: right;\n",
       "    }\n",
       "</style>\n",
       "<table border=\"1\" class=\"dataframe\">\n",
       "  <thead>\n",
       "    <tr style=\"text-align: right;\">\n",
       "      <th></th>\n",
       "      <th>id</th>\n",
       "      <th>type</th>\n",
       "      <th>composition</th>\n",
       "      <th>energyperatom</th>\n",
       "      <th>volume</th>\n",
       "      <th>num_sites</th>\n",
       "      <th>inputs</th>\n",
       "      <th>scale_factor</th>\n",
       "      <th>radii_scale_factor</th>\n",
       "      <th>hit_upper_bound</th>\n",
       "    </tr>\n",
       "  </thead>\n",
       "  <tbody>\n",
       "    <tr>\n",
       "      <th>0</th>\n",
       "      <td>icsd_085777</td>\n",
       "      <td>icsd</td>\n",
       "      <td>La1O1P1Zn1</td>\n",
       "      <td>-5.833295</td>\n",
       "      <td>145.053230</td>\n",
       "      <td>8</td>\n",
       "      <td>{'site': [57, 57, 30, 30, 15, 15, 8, 8], 'dist...</td>\n",
       "      <td>0.422622</td>\n",
       "      <td>0.392157</td>\n",
       "      <td>False</td>\n",
       "    </tr>\n",
       "    <tr>\n",
       "      <th>1</th>\n",
       "      <td>icsd_173786</td>\n",
       "      <td>icsd</td>\n",
       "      <td>I3Ti1</td>\n",
       "      <td>-3.397267</td>\n",
       "      <td>287.551744</td>\n",
       "      <td>8</td>\n",
       "      <td>{'site': [22, 22, 53, 53, 53, 53, 53, 53], 'di...</td>\n",
       "      <td>0.358616</td>\n",
       "      <td>0.357143</td>\n",
       "      <td>False</td>\n",
       "    </tr>\n",
       "    <tr>\n",
       "      <th>2</th>\n",
       "      <td>icsd_056827</td>\n",
       "      <td>icsd</td>\n",
       "      <td>Al2O12W3</td>\n",
       "      <td>-8.063763</td>\n",
       "      <td>1024.266060</td>\n",
       "      <td>68</td>\n",
       "      <td>{'site': [13, 13, 13, 13, 13, 13, 13, 13, 74, ...</td>\n",
       "      <td>0.585426</td>\n",
       "      <td>0.512821</td>\n",
       "      <td>False</td>\n",
       "    </tr>\n",
       "    <tr>\n",
       "      <th>3</th>\n",
       "      <td>icsd_078912</td>\n",
       "      <td>icsd</td>\n",
       "      <td>Cl9Sb1Se1</td>\n",
       "      <td>-2.729116</td>\n",
       "      <td>1208.211653</td>\n",
       "      <td>44</td>\n",
       "      <td>{'site': [51, 51, 51, 51, 34, 34, 34, 34, 17, ...</td>\n",
       "      <td>0.472882</td>\n",
       "      <td>0.449266</td>\n",
       "      <td>False</td>\n",
       "    </tr>\n",
       "    <tr>\n",
       "      <th>4</th>\n",
       "      <td>icsd_076029</td>\n",
       "      <td>icsd</td>\n",
       "      <td>P1W1</td>\n",
       "      <td>-7.874002</td>\n",
       "      <td>115.123926</td>\n",
       "      <td>8</td>\n",
       "      <td>{'site': [15, 15, 15, 15, 74, 74, 74, 74], 'di...</td>\n",
       "      <td>0.424328</td>\n",
       "      <td>0.425532</td>\n",
       "      <td>False</td>\n",
       "    </tr>\n",
       "  </tbody>\n",
       "</table>\n",
       "</div>"
      ],
      "text/plain": [
       "            id  type composition  energyperatom       volume  num_sites  \\\n",
       "0  icsd_085777  icsd  La1O1P1Zn1      -5.833295   145.053230          8   \n",
       "1  icsd_173786  icsd       I3Ti1      -3.397267   287.551744          8   \n",
       "2  icsd_056827  icsd    Al2O12W3      -8.063763  1024.266060         68   \n",
       "3  icsd_078912  icsd   Cl9Sb1Se1      -2.729116  1208.211653         44   \n",
       "4  icsd_076029  icsd        P1W1      -7.874002   115.123926          8   \n",
       "\n",
       "                                              inputs  scale_factor  \\\n",
       "0  {'site': [57, 57, 30, 30, 15, 15, 8, 8], 'dist...      0.422622   \n",
       "1  {'site': [22, 22, 53, 53, 53, 53, 53, 53], 'di...      0.358616   \n",
       "2  {'site': [13, 13, 13, 13, 13, 13, 13, 13, 74, ...      0.585426   \n",
       "3  {'site': [51, 51, 51, 51, 34, 34, 34, 34, 17, ...      0.472882   \n",
       "4  {'site': [15, 15, 15, 15, 74, 74, 74, 74], 'di...      0.424328   \n",
       "\n",
       "   radii_scale_factor  hit_upper_bound  \n",
       "0            0.392157            False  \n",
       "1            0.357143            False  \n",
       "2            0.512821            False  \n",
       "3            0.449266            False  \n",
       "4            0.425532            False  "
      ]
     },
     "execution_count": 4,
     "metadata": {},
     "output_type": "execute_result"
    }
   ],
   "source": [
    "data.head()"
   ]
  },
  {
   "cell_type": "code",
   "execution_count": 5,
   "id": "61df046f-2402-45b5-831c-d387172b5e56",
   "metadata": {},
   "outputs": [
    {
     "data": {
      "text/plain": [
       "['icsd', 'vol', 'relax']\n",
       "Categories (3, object): ['icsd', 'relax', 'vol']"
      ]
     },
     "execution_count": 5,
     "metadata": {},
     "output_type": "execute_result"
    }
   ],
   "source": [
    "data.type.unique()"
   ]
  },
  {
   "cell_type": "code",
   "execution_count": 6,
   "id": "fb77c005-26df-4ea1-a3e6-f23b3bd3c0d1",
   "metadata": {},
   "outputs": [],
   "source": [
    "from pymatgen.core.composition import Composition\n",
    "from pymatgen.core.periodic_table import Element"
   ]
  },
  {
   "cell_type": "code",
   "execution_count": 7,
   "id": "f058adf0-d1ce-4e66-957c-c9ad34d636ac",
   "metadata": {},
   "outputs": [
    {
     "data": {
      "application/vnd.jupyter.widget-view+json": {
       "model_id": "e5638886d63a4afca8fc696165e53295",
       "version_major": 2,
       "version_minor": 0
      },
      "text/plain": [
       "  0%|          | 0/145183 [00:00<?, ?it/s]"
      ]
     },
     "metadata": {},
     "output_type": "display_data"
    }
   ],
   "source": [
    "composition = data.composition.progress_apply(lambda x: pd.Series(Composition(x).as_dict())).fillna(0.)"
   ]
  },
  {
   "cell_type": "code",
   "execution_count": 8,
   "id": "ffd85a5d-acd4-46be-a766-48beb3c86e53",
   "metadata": {},
   "outputs": [],
   "source": [
    "X = composition[data.type.isin(['icsd', 'relax'])].values\n",
    "y = data[data.type.isin(['icsd', 'relax'])].energyperatom.values * X.sum(1)"
   ]
  },
  {
   "cell_type": "code",
   "execution_count": 9,
   "id": "9ed96688-82db-407a-b4ac-4a665ac073d2",
   "metadata": {},
   "outputs": [
    {
     "data": {
      "text/plain": [
       "HuberRegressor(max_iter=1000)"
      ]
     },
     "execution_count": 9,
     "metadata": {},
     "output_type": "execute_result"
    }
   ],
   "source": [
    "from sklearn.linear_model import HuberRegressor\n",
    "\n",
    "reg = HuberRegressor(max_iter=1000)\n",
    "reg.fit(X, y)"
   ]
  },
  {
   "cell_type": "code",
   "execution_count": 10,
   "id": "36b88a08-f51b-4d85-b2e4-8ab2b636ab75",
   "metadata": {},
   "outputs": [
    {
     "data": {
      "text/plain": [
       "HuberRegressor(max_iter=1000)"
      ]
     },
     "execution_count": 10,
     "metadata": {},
     "output_type": "execute_result"
    }
   ],
   "source": [
    "data['volperatom'] = data['volume'] / data['num_sites']\n",
    "y_vol = data[data.type.isin(['icsd', 'relax'])].volperatom.values * X.sum(1)\n",
    "\n",
    "reg_vol = HuberRegressor(max_iter=1000)\n",
    "reg_vol.fit(X, y_vol)"
   ]
  },
  {
   "cell_type": "code",
   "execution_count": 11,
   "id": "88530667-ad31-42f9-afa7-78b4d61b5538",
   "metadata": {},
   "outputs": [],
   "source": [
    "## calculate predicted energies from linear model\n",
    "\n",
    "data['reg_energyperatom'] = reg.predict(composition) / composition.sum(1)\n",
    "data['reg_volperatom'] = reg_vol.predict(composition) / composition.sum(1)"
   ]
  },
  {
   "cell_type": "code",
   "execution_count": 12,
   "id": "4d21fc17-fd0c-45ab-9878-377c7713d0c3",
   "metadata": {},
   "outputs": [],
   "source": [
    "## calculate predicted volume from atomic radii\n",
    "\n",
    "pred_volume = data['volume'] * (data['scale_factor'] / data['radii_scale_factor']) ** 3\n",
    "\n",
    "data['radii_volperatom'] = pred_volume / data['num_sites']"
   ]
  },
  {
   "cell_type": "code",
   "execution_count": 13,
   "id": "83a3cefa-4dcf-44f5-99e9-8788927f96f1",
   "metadata": {},
   "outputs": [],
   "source": [
    "data['residual_energy'] = data['energyperatom'] - data['reg_energyperatom']\n",
    "data['residual_volume'] = data['volperatom'] - data['reg_volperatom']"
   ]
  },
  {
   "cell_type": "code",
   "execution_count": 14,
   "id": "0084ce0e-4ef1-4bab-8e3b-f207d7d48dcd",
   "metadata": {},
   "outputs": [],
   "source": [
    "energy_outliers = (data.residual_energy < -2) | (data.residual_energy > 6)\n",
    "volume_outliers = (data.residual_volume < -20) | (data.residual_volume > 20)"
   ]
  },
  {
   "cell_type": "code",
   "execution_count": 15,
   "id": "8a8fdebb-3748-4a94-9353-d79690b67e9b",
   "metadata": {},
   "outputs": [
    {
     "data": {
      "text/plain": [
       "1677"
      ]
     },
     "execution_count": 15,
     "metadata": {},
     "output_type": "execute_result"
    }
   ],
   "source": [
    "(energy_outliers | volume_outliers).sum()"
   ]
  },
  {
   "cell_type": "code",
   "execution_count": 16,
   "id": "74ab5c6c-c215-4367-8829-daf528414e08",
   "metadata": {},
   "outputs": [],
   "source": [
    "data_subset = data[~(energy_outliers | volume_outliers)]"
   ]
  },
  {
   "cell_type": "code",
   "execution_count": 17,
   "id": "497243d9-c54c-4091-99c8-d8a16ad5bab0",
   "metadata": {},
   "outputs": [],
   "source": [
    "import datashader as ds\n",
    "from datashader.mpl_ext import dsshow, alpha_colormap"
   ]
  },
  {
   "cell_type": "code",
   "execution_count": 18,
   "id": "e7f85721-f4e7-46b0-9e69-23f3cb7ef245",
   "metadata": {},
   "outputs": [
    {
     "data": {
      "image/png": "[encoded data removed]",
      "text/plain": [
       "<Figure size 288x288 with 1 Axes>"
      ]
     },
     "metadata": {
      "needs_background": "light"
     },
     "output_type": "display_data"
    }
   ],
   "source": [
    "fig = plt.figure(figsize=(4,4))\n",
    "ax = fig.add_subplot(111, aspect='equal', adjustable='datalim')\n",
    "\n",
    "artist = dsshow(data_subset[~data_subset.hit_upper_bound],\n",
    "       ds.Point('reg_energyperatom', 'energyperatom'),\n",
    "       ds.count_cat('type'),       \n",
    "       cmap='Blues', norm='eq_hist', aspect='equal',\n",
    "       x_range=(-10, 1), y_range=(-10, 1), ax=ax)\n",
    "\n",
    "ax.set_xlabel('eV/atom, linear model')\n",
    "ax.set_ylabel('eV/atom, DFT')\n",
    "ax.legend(handles=artist.get_legend_elements(), fontsize=13, loc='lower right')\n",
    "sns.despine()"
   ]
  },
  {
   "cell_type": "code",
   "execution_count": 19,
   "id": "7b524524-b269-4918-b0e0-bbe914a26668",
   "metadata": {},
   "outputs": [
    {
     "data": {
      "text/plain": [
       "(-2.0, 6.0)"
      ]
     },
     "execution_count": 19,
     "metadata": {},
     "output_type": "execute_result"
    },
    {
     "data": {
      "image/png": "[encoded data removed]",
      "text/plain": [
       "<Figure size 432x288 with 1 Axes>"
      ]
     },
     "metadata": {
      "needs_background": "light"
     },
     "output_type": "display_data"
    }
   ],
   "source": [
    "data_subset[data_subset.type == 'icsd'].residual_energy.plot.kde()\n",
    "data_subset[data_subset.type == 'relax'].residual_energy.plot.kde()\n",
    "data_subset[data_subset.type == 'vol'].residual_energy.plot.kde()\n",
    "\n",
    "plt.xlim([-2, 6])"
   ]
  },
  {
   "cell_type": "code",
   "execution_count": 20,
   "id": "0f0cbabd-1665-4a0f-876e-b3a46e608736",
   "metadata": {},
   "outputs": [
    {
     "data": {
      "image/png": "[encoded data removed]",
      "text/plain": [
       "<Figure size 288x288 with 1 Axes>"
      ]
     },
     "metadata": {
      "needs_background": "light"
     },
     "output_type": "display_data"
    }
   ],
   "source": [
    "fig = plt.figure(figsize=(4,4))\n",
    "ax = fig.add_subplot(111, aspect='equal', adjustable='box')\n",
    "\n",
    "artist = dsshow(data_subset[~data_subset.hit_upper_bound],\n",
    "       ds.Point('reg_volperatom', 'volperatom'),\n",
    "       ds.count_cat('type'),\n",
    "       cmap='Blues', norm='eq_hist', aspect='equal',\n",
    "       x_range=(0, 70), y_range=(0, 70), ax=ax)\n",
    "\n",
    "ax.set_xlabel('vol/atom, linear')\n",
    "ax.set_ylabel('vol/atom, DFT')\n",
    "ax.legend(handles=artist.get_legend_elements(), fontsize=13, loc='lower right')\n",
    "sns.despine()"
   ]
  },
  {
   "cell_type": "code",
   "execution_count": 21,
   "id": "4013c554-5674-426b-8d88-0fb92f1764d1",
   "metadata": {},
   "outputs": [
    {
     "data": {
      "text/plain": [
       "(-20.0, 20.0)"
      ]
     },
     "execution_count": 21,
     "metadata": {},
     "output_type": "execute_result"
    },
    {
     "data": {
      "image/png": "[encoded data removed]",
      "text/plain": [
       "<Figure size 432x288 with 1 Axes>"
      ]
     },
     "metadata": {
      "needs_background": "light"
     },
     "output_type": "display_data"
    }
   ],
   "source": [
    "data_subset[data_subset.type == 'icsd'].residual_volume.plot.kde()\n",
    "data_subset[data_subset.type == 'relax'].residual_volume.plot.kde()\n",
    "data_subset[data_subset.type == 'vol'].residual_volume.plot.kde()\n",
    "\n",
    "plt.xlim([-20, 20])"
   ]
  },
  {
   "cell_type": "code",
   "execution_count": null,
   "id": "3fbd519d-d73f-4391-9c71-cec37a21cfdd",
   "metadata": {},
   "outputs": [],
   "source": [
    "data_trimmed = data_subset[['id', 'type', 'composition', 'num_sites', 'inputs', 'hit_upper_bound', 'energyperatom', 'volperatom']]\n",
    "data_trimmed.to_pickle(Path(inputs_dir, \"20220512_outliers_removed.p\"))"
   ]
  },
  {
   "cell_type": "code",
   "execution_count": 40,
   "id": "f0df6a5c-a10f-47a9-a6e6-056276fa8e0f",
   "metadata": {},
   "outputs": [
    {
     "data": {
      "application/vnd.jupyter.widget-view+json": {
       "model_id": "74e6e22bfd1f41afbe152a60c583b33f",
       "version_major": 2,
       "version_minor": 0
      },
      "text/plain": [
       "  0%|          | 0/100 [00:00<?, ?it/s]"
      ]
     },
     "metadata": {},
     "output_type": "display_data"
    }
   ],
   "source": [
    "from collections import Counter\n",
    "train = data_trimmed.head(100)\n",
    "\n",
    "site_counts = train.inputs.progress_apply(\n",
    "    lambda x: pd.Series(Counter(x[\"site\"]))\n",
    ").reindex(columns=np.arange(84)).fillna(0)\n",
    "# Linear regression assumes a sum, while we average over sites in the neural network\n",
    "# Here, we make the regression target the total energy, not the site-averaged energy\n",
    "num_sites = site_counts.sum(1)\n",
    "total_energies = train[\"energyperatom\"] * num_sites\n",
    "\n",
    "# Do the least-squares regression, and stack on zeros for the mask and unknown\n",
    "# tokens\n",
    "output_bias = np.linalg.lstsq(site_counts, total_energies, rcond=None)[0]\n",
    "# output_bias = np.hstack([np.zeros(2), output_bias])"
   ]
  },
  {
   "cell_type": "code",
   "execution_count": 42,
   "id": "67986f1c-37bf-4d6d-911b-3a6b7bf140cb",
   "metadata": {},
   "outputs": [
    {
     "data": {
      "text/plain": [
       "(84,)"
      ]
     },
     "execution_count": 42,
     "metadata": {},
     "output_type": "execute_result"
    }
   ],
   "source": [
    "output_bias.shape"
   ]
  },
  {
   "cell_type": "code",
   "execution_count": 39,
   "id": "060f6b8d-179b-43b5-bab3-34193c04282f",
   "metadata": {},
   "outputs": [
    {
     "data": {
      "text/html": [
       "<div>\n",
       "<style scoped>\n",
       "    .dataframe tbody tr th:only-of-type {\n",
       "        vertical-align: middle;\n",
       "    }\n",
       "\n",
       "    .dataframe tbody tr th {\n",
       "        vertical-align: top;\n",
       "    }\n",
       "\n",
       "    .dataframe thead th {\n",
       "        text-align: right;\n",
       "    }\n",
       "</style>\n",
       "<table border=\"1\" class=\"dataframe\">\n",
       "  <thead>\n",
       "    <tr style=\"text-align: right;\">\n",
       "      <th></th>\n",
       "      <th>0</th>\n",
       "      <th>1</th>\n",
       "      <th>2</th>\n",
       "      <th>3</th>\n",
       "      <th>4</th>\n",
       "      <th>5</th>\n",
       "      <th>6</th>\n",
       "      <th>7</th>\n",
       "      <th>8</th>\n",
       "      <th>9</th>\n",
       "      <th>...</th>\n",
       "      <th>74</th>\n",
       "      <th>75</th>\n",
       "      <th>76</th>\n",
       "      <th>77</th>\n",
       "      <th>78</th>\n",
       "      <th>79</th>\n",
       "      <th>80</th>\n",
       "      <th>81</th>\n",
       "      <th>82</th>\n",
       "      <th>83</th>\n",
       "    </tr>\n",
       "  </thead>\n",
       "  <tbody>\n",
       "    <tr>\n",
       "      <th>0</th>\n",
       "      <td>0.0</td>\n",
       "      <td>0.0</td>\n",
       "      <td>0.0</td>\n",
       "      <td>0.0</td>\n",
       "      <td>0.0</td>\n",
       "      <td>0.0</td>\n",
       "      <td>0.0</td>\n",
       "      <td>0.0</td>\n",
       "      <td>2.0</td>\n",
       "      <td>0.0</td>\n",
       "      <td>...</td>\n",
       "      <td>0.0</td>\n",
       "      <td>0.0</td>\n",
       "      <td>0.0</td>\n",
       "      <td>0.0</td>\n",
       "      <td>0.0</td>\n",
       "      <td>0.0</td>\n",
       "      <td>0.0</td>\n",
       "      <td>0.0</td>\n",
       "      <td>0.0</td>\n",
       "      <td>0.0</td>\n",
       "    </tr>\n",
       "    <tr>\n",
       "      <th>1</th>\n",
       "      <td>0.0</td>\n",
       "      <td>0.0</td>\n",
       "      <td>0.0</td>\n",
       "      <td>0.0</td>\n",
       "      <td>0.0</td>\n",
       "      <td>0.0</td>\n",
       "      <td>0.0</td>\n",
       "      <td>0.0</td>\n",
       "      <td>0.0</td>\n",
       "      <td>0.0</td>\n",
       "      <td>...</td>\n",
       "      <td>0.0</td>\n",
       "      <td>0.0</td>\n",
       "      <td>0.0</td>\n",
       "      <td>0.0</td>\n",
       "      <td>0.0</td>\n",
       "      <td>0.0</td>\n",
       "      <td>0.0</td>\n",
       "      <td>0.0</td>\n",
       "      <td>0.0</td>\n",
       "      <td>0.0</td>\n",
       "    </tr>\n",
       "    <tr>\n",
       "      <th>2</th>\n",
       "      <td>0.0</td>\n",
       "      <td>0.0</td>\n",
       "      <td>0.0</td>\n",
       "      <td>0.0</td>\n",
       "      <td>0.0</td>\n",
       "      <td>0.0</td>\n",
       "      <td>0.0</td>\n",
       "      <td>0.0</td>\n",
       "      <td>48.0</td>\n",
       "      <td>0.0</td>\n",
       "      <td>...</td>\n",
       "      <td>12.0</td>\n",
       "      <td>0.0</td>\n",
       "      <td>0.0</td>\n",
       "      <td>0.0</td>\n",
       "      <td>0.0</td>\n",
       "      <td>0.0</td>\n",
       "      <td>0.0</td>\n",
       "      <td>0.0</td>\n",
       "      <td>0.0</td>\n",
       "      <td>0.0</td>\n",
       "    </tr>\n",
       "    <tr>\n",
       "      <th>3</th>\n",
       "      <td>0.0</td>\n",
       "      <td>0.0</td>\n",
       "      <td>0.0</td>\n",
       "      <td>0.0</td>\n",
       "      <td>0.0</td>\n",
       "      <td>0.0</td>\n",
       "      <td>0.0</td>\n",
       "      <td>0.0</td>\n",
       "      <td>0.0</td>\n",
       "      <td>0.0</td>\n",
       "      <td>...</td>\n",
       "      <td>0.0</td>\n",
       "      <td>0.0</td>\n",
       "      <td>0.0</td>\n",
       "      <td>0.0</td>\n",
       "      <td>0.0</td>\n",
       "      <td>0.0</td>\n",
       "      <td>0.0</td>\n",
       "      <td>0.0</td>\n",
       "      <td>0.0</td>\n",
       "      <td>0.0</td>\n",
       "    </tr>\n",
       "    <tr>\n",
       "      <th>4</th>\n",
       "      <td>0.0</td>\n",
       "      <td>0.0</td>\n",
       "      <td>0.0</td>\n",
       "      <td>0.0</td>\n",
       "      <td>0.0</td>\n",
       "      <td>0.0</td>\n",
       "      <td>0.0</td>\n",
       "      <td>0.0</td>\n",
       "      <td>0.0</td>\n",
       "      <td>0.0</td>\n",
       "      <td>...</td>\n",
       "      <td>4.0</td>\n",
       "      <td>0.0</td>\n",
       "      <td>0.0</td>\n",
       "      <td>0.0</td>\n",
       "      <td>0.0</td>\n",
       "      <td>0.0</td>\n",
       "      <td>0.0</td>\n",
       "      <td>0.0</td>\n",
       "      <td>0.0</td>\n",
       "      <td>0.0</td>\n",
       "    </tr>\n",
       "    <tr>\n",
       "      <th>...</th>\n",
       "      <td>...</td>\n",
       "      <td>...</td>\n",
       "      <td>...</td>\n",
       "      <td>...</td>\n",
       "      <td>...</td>\n",
       "      <td>...</td>\n",
       "      <td>...</td>\n",
       "      <td>...</td>\n",
       "      <td>...</td>\n",
       "      <td>...</td>\n",
       "      <td>...</td>\n",
       "      <td>...</td>\n",
       "      <td>...</td>\n",
       "      <td>...</td>\n",
       "      <td>...</td>\n",
       "      <td>...</td>\n",
       "      <td>...</td>\n",
       "      <td>...</td>\n",
       "      <td>...</td>\n",
       "      <td>...</td>\n",
       "      <td>...</td>\n",
       "    </tr>\n",
       "    <tr>\n",
       "      <th>95</th>\n",
       "      <td>0.0</td>\n",
       "      <td>0.0</td>\n",
       "      <td>0.0</td>\n",
       "      <td>0.0</td>\n",
       "      <td>0.0</td>\n",
       "      <td>0.0</td>\n",
       "      <td>0.0</td>\n",
       "      <td>0.0</td>\n",
       "      <td>16.0</td>\n",
       "      <td>0.0</td>\n",
       "      <td>...</td>\n",
       "      <td>0.0</td>\n",
       "      <td>0.0</td>\n",
       "      <td>0.0</td>\n",
       "      <td>0.0</td>\n",
       "      <td>0.0</td>\n",
       "      <td>0.0</td>\n",
       "      <td>0.0</td>\n",
       "      <td>0.0</td>\n",
       "      <td>0.0</td>\n",
       "      <td>4.0</td>\n",
       "    </tr>\n",
       "    <tr>\n",
       "      <th>96</th>\n",
       "      <td>0.0</td>\n",
       "      <td>0.0</td>\n",
       "      <td>0.0</td>\n",
       "      <td>0.0</td>\n",
       "      <td>0.0</td>\n",
       "      <td>0.0</td>\n",
       "      <td>0.0</td>\n",
       "      <td>0.0</td>\n",
       "      <td>0.0</td>\n",
       "      <td>0.0</td>\n",
       "      <td>...</td>\n",
       "      <td>0.0</td>\n",
       "      <td>0.0</td>\n",
       "      <td>0.0</td>\n",
       "      <td>0.0</td>\n",
       "      <td>0.0</td>\n",
       "      <td>0.0</td>\n",
       "      <td>0.0</td>\n",
       "      <td>0.0</td>\n",
       "      <td>0.0</td>\n",
       "      <td>0.0</td>\n",
       "    </tr>\n",
       "    <tr>\n",
       "      <th>97</th>\n",
       "      <td>0.0</td>\n",
       "      <td>0.0</td>\n",
       "      <td>0.0</td>\n",
       "      <td>1.0</td>\n",
       "      <td>0.0</td>\n",
       "      <td>0.0</td>\n",
       "      <td>0.0</td>\n",
       "      <td>0.0</td>\n",
       "      <td>0.0</td>\n",
       "      <td>0.0</td>\n",
       "      <td>...</td>\n",
       "      <td>0.0</td>\n",
       "      <td>0.0</td>\n",
       "      <td>0.0</td>\n",
       "      <td>0.0</td>\n",
       "      <td>0.0</td>\n",
       "      <td>0.0</td>\n",
       "      <td>0.0</td>\n",
       "      <td>0.0</td>\n",
       "      <td>0.0</td>\n",
       "      <td>0.0</td>\n",
       "    </tr>\n",
       "    <tr>\n",
       "      <th>98</th>\n",
       "      <td>0.0</td>\n",
       "      <td>0.0</td>\n",
       "      <td>0.0</td>\n",
       "      <td>0.0</td>\n",
       "      <td>0.0</td>\n",
       "      <td>0.0</td>\n",
       "      <td>0.0</td>\n",
       "      <td>0.0</td>\n",
       "      <td>0.0</td>\n",
       "      <td>0.0</td>\n",
       "      <td>...</td>\n",
       "      <td>0.0</td>\n",
       "      <td>0.0</td>\n",
       "      <td>0.0</td>\n",
       "      <td>0.0</td>\n",
       "      <td>0.0</td>\n",
       "      <td>0.0</td>\n",
       "      <td>0.0</td>\n",
       "      <td>0.0</td>\n",
       "      <td>0.0</td>\n",
       "      <td>0.0</td>\n",
       "    </tr>\n",
       "    <tr>\n",
       "      <th>99</th>\n",
       "      <td>0.0</td>\n",
       "      <td>0.0</td>\n",
       "      <td>0.0</td>\n",
       "      <td>0.0</td>\n",
       "      <td>0.0</td>\n",
       "      <td>0.0</td>\n",
       "      <td>0.0</td>\n",
       "      <td>0.0</td>\n",
       "      <td>0.0</td>\n",
       "      <td>0.0</td>\n",
       "      <td>...</td>\n",
       "      <td>0.0</td>\n",
       "      <td>0.0</td>\n",
       "      <td>0.0</td>\n",
       "      <td>0.0</td>\n",
       "      <td>0.0</td>\n",
       "      <td>0.0</td>\n",
       "      <td>0.0</td>\n",
       "      <td>0.0</td>\n",
       "      <td>0.0</td>\n",
       "      <td>0.0</td>\n",
       "    </tr>\n",
       "  </tbody>\n",
       "</table>\n",
       "<p>100 rows × 84 columns</p>\n",
       "</div>"
      ],
      "text/plain": [
       "     0    1    2    3    4    5    6    7     8    9   ...    74   75   76  \\\n",
       "0   0.0  0.0  0.0  0.0  0.0  0.0  0.0  0.0   2.0  0.0  ...   0.0  0.0  0.0   \n",
       "1   0.0  0.0  0.0  0.0  0.0  0.0  0.0  0.0   0.0  0.0  ...   0.0  0.0  0.0   \n",
       "2   0.0  0.0  0.0  0.0  0.0  0.0  0.0  0.0  48.0  0.0  ...  12.0  0.0  0.0   \n",
       "3   0.0  0.0  0.0  0.0  0.0  0.0  0.0  0.0   0.0  0.0  ...   0.0  0.0  0.0   \n",
       "4   0.0  0.0  0.0  0.0  0.0  0.0  0.0  0.0   0.0  0.0  ...   4.0  0.0  0.0   \n",
       "..  ...  ...  ...  ...  ...  ...  ...  ...   ...  ...  ...   ...  ...  ...   \n",
       "95  0.0  0.0  0.0  0.0  0.0  0.0  0.0  0.0  16.0  0.0  ...   0.0  0.0  0.0   \n",
       "96  0.0  0.0  0.0  0.0  0.0  0.0  0.0  0.0   0.0  0.0  ...   0.0  0.0  0.0   \n",
       "97  0.0  0.0  0.0  1.0  0.0  0.0  0.0  0.0   0.0  0.0  ...   0.0  0.0  0.0   \n",
       "98  0.0  0.0  0.0  0.0  0.0  0.0  0.0  0.0   0.0  0.0  ...   0.0  0.0  0.0   \n",
       "99  0.0  0.0  0.0  0.0  0.0  0.0  0.0  0.0   0.0  0.0  ...   0.0  0.0  0.0   \n",
       "\n",
       "     77   78   79   80   81   82   83  \n",
       "0   0.0  0.0  0.0  0.0  0.0  0.0  0.0  \n",
       "1   0.0  0.0  0.0  0.0  0.0  0.0  0.0  \n",
       "2   0.0  0.0  0.0  0.0  0.0  0.0  0.0  \n",
       "3   0.0  0.0  0.0  0.0  0.0  0.0  0.0  \n",
       "4   0.0  0.0  0.0  0.0  0.0  0.0  0.0  \n",
       "..  ...  ...  ...  ...  ...  ...  ...  \n",
       "95  0.0  0.0  0.0  0.0  0.0  0.0  4.0  \n",
       "96  0.0  0.0  0.0  0.0  0.0  0.0  0.0  \n",
       "97  0.0  0.0  0.0  0.0  0.0  0.0  0.0  \n",
       "98  0.0  0.0  0.0  0.0  0.0  0.0  0.0  \n",
       "99  0.0  0.0  0.0  0.0  0.0  0.0  0.0  \n",
       "\n",
       "[100 rows x 84 columns]"
      ]
     },
     "execution_count": 39,
     "metadata": {},
     "output_type": "execute_result"
    }
   ],
   "source": [
    "site_counts.fillna(0.)"
   ]
  },
  {
   "cell_type": "code",
   "execution_count": 34,
   "id": "e5e599f8-1d0e-498f-8d68-9d3ba21170f6",
   "metadata": {},
   "outputs": [
    {
     "data": {
      "text/plain": [
       "array([ -5.35750456,  -6.08812207,  -8.92347611,  -6.49089572,\n",
       "        -5.64321464,  -7.29717971,  -5.29979938,  -3.53268252,\n",
       "        -3.39409352,  -8.51948119,  -9.46921812,  -5.81003376,\n",
       "        -4.90896679,  -2.68182387,  -2.20324327,  -5.58521012,\n",
       "        -9.97260714,  -9.46572641,  -8.12757281,  -7.36447364,\n",
       "        -8.95045268,  -6.7314732 ,  -5.26809734,  -3.9755502 ,\n",
       "        -2.05682605,   0.58567696,  -3.2333358 ,  -3.9401191 ,\n",
       "        -5.07645212,  -3.71056671,  -1.77224407,  -7.75040384,\n",
       "        -6.51861401,  -5.95031833,  -8.30650208,  -4.44171574,\n",
       "        -4.41733091,  -1.49116769,   0.28079328,  -2.09739489,\n",
       "        -1.73689523,  -5.0062641 ,  -0.9390466 ,  -2.22614363,\n",
       "        -2.99839046,  -6.44046433,  -9.14707801, -11.77428739,\n",
       "       -10.83994   ,  -5.37771433,  -2.83945391,  -0.01427286,\n",
       "         1.54436815,   3.11398777,  -3.38160567,  -4.19460295])"
      ]
     },
     "execution_count": 34,
     "metadata": {},
     "output_type": "execute_result"
    }
   ],
   "source": [
    "output_bias"
   ]
  },
  {
   "cell_type": "code",
   "execution_count": null,
   "id": "182819b9-e319-44c7-a60b-2bd2f628aa33",
   "metadata": {},
   "outputs": [],
   "source": []
  }
 ],
 "metadata": {
  "kernelspec": {
   "display_name": "Python 3 (ipykernel)",
   "language": "python",
   "name": "python3"
  },
  "language_info": {
   "codemirror_mode": {
    "name": "ipython",
    "version": 3
   },
   "file_extension": ".py",
   "mimetype": "text/x-python",
   "name": "python",
   "nbconvert_exporter": "python",
   "pygments_lexer": "ipython3",
   "version": "3.8.12"
  }
 },
 "nbformat": 4,
 "nbformat_minor": 5
}
